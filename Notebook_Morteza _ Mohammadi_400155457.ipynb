{
 "cells": [
  {
   "cell_type": "markdown",
   "id": "a7dd38cf",
   "metadata": {},
   "source": [
    "# Title"
   ]
  },
  {
   "cell_type": "markdown",
   "id": "645a159e",
   "metadata": {},
   "source": [
    "## Introduction "
   ]
  },
  {
   "cell_type": "markdown",
   "id": "8ab4833e",
   "metadata": {},
   "source": [
    "### Background"
   ]
  },
  {
   "cell_type": "markdown",
   "id": "20fc10e4",
   "metadata": {},
   "source": [
    "# H\n",
    "## H\n",
    "### H\n",
    "#### H\n",
    "##### H\n",
    "###### H\n"
   ]
  },
  {
   "cell_type": "markdown",
   "id": "0936bce9",
   "metadata": {},
   "source": []
  },
  {
   "cell_type": "markdown",
   "id": "12774b25-5c5e-468b-845c-d16b90c5db1a",
   "metadata": {},
   "source": [
    "## *Italic*"
   ]
  },
  {
   "cell_type": "markdown",
   "id": "7924aa2e",
   "metadata": {},
   "source": [
    "*Header*"
   ]
  },
  {
   "cell_type": "markdown",
   "id": "40e247d2",
   "metadata": {},
   "source": [
    "_Header_"
   ]
  },
  {
   "cell_type": "markdown",
   "id": "fc653985",
   "metadata": {},
   "source": [
    "* Italic *"
   ]
  },
  {
   "cell_type": "markdown",
   "id": "32dbcb19",
   "metadata": {},
   "source": [
    "**Italic**"
   ]
  },
  {
   "cell_type": "markdown",
   "id": "724674ab",
   "metadata": {},
   "source": [
    "*Italic*"
   ]
  },
  {
   "cell_type": "markdown",
   "id": "126cf815",
   "metadata": {},
   "source": [
    " to make font Italic ----> use * word * or _ word _"
   ]
  },
  {
   "cell_type": "markdown",
   "id": "5ec46db5",
   "metadata": {},
   "source": [
    "to make font Bold -----> use ** word ** or __ Bold __"
   ]
  },
  {
   "cell_type": "markdown",
   "id": "3a9bfdd3-0ea7-4519-814f-1bf873d1d6b5",
   "metadata": {},
   "source": [
    "### 1.5 pretty font<br>\n",
    "$$mohammad$$"
   ]
  },
  {
   "cell_type": "markdown",
   "id": "fbcb29e5-1b69-42ae-8163-2225c5bcfca9",
   "metadata": {},
   "source": [
    "## 1.6 Tree branch    \n",
    "- chapter 1\n",
    "- chapter 2\n",
    "    - chapter 2.1\n",
    "        - chapter y"
   ]
  },
  {
   "cell_type": "markdown",
   "id": "9f827043",
   "metadata": {},
   "source": [
    "# Lists\n",
    "1. unordered list u can use * , - , +\n",
    "\n",
    "- item 1\n",
    "- item 2\n",
    "   - subitem 2.1\n",
    "   \n",
    "## ordered lists use numbers followed by periods:\n",
    " \n",
    " 1. First item\n",
    " 2. Second item \n",
    "    1. subitem"
   ]
  },
  {
   "cell_type": "markdown",
   "id": "5d7fbcb0",
   "metadata": {},
   "source": [
    "# 4.  Links and Images\n",
    "\n",
    "\n",
    "## 1.  Links\n",
    "\n",
    "we can create  links using this syntax:\n",
    "[Link Text](URL)\n",
    "\n",
    "man [in](https://jupyter.org) gozaresh ra\n",
    "\n",
    "\n",
    "## 2. Images\n",
    "\n",
    "### the cute one\n",
    "\n",
    "![jupyter Logo](data:image/jpeg;base64,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) bezan\n",
    "\n",
    "\n",
    "\n",
    "\n",
    "\n",
    "\n",
    "\n",
    "\n",
    "## 3. second image\n",
    "\n",
    "### now my library\n",
    "\n",
    "![book](book.jpg)  bb\n",
    "\n",
    "\n",
    "\n",
    "\n",
    "\n",
    "\n",
    "## 4. third image from folder\n",
    "\n",
    "we have different type of fox around the world\n",
    "\n",
    "\n",
    "\n",
    "![fox](images/OIP.jpg) Hello foxy\n",
    "\n",
    "# 5. jpg size\n",
    "\n",
    "<img src = \"images/1.jpg\" alt = \"Alt text\" width = \"300\"  height = \"200\" >\n",
    " \n"
   ]
  },
  {
   "cell_type": "markdown",
   "id": "413712ab-56f9-45a6-9fbd-48a344423e46",
   "metadata": {},
   "source": [
    "# Session 4"
   ]
  },
  {
   "cell_type": "markdown",
   "id": "f67cac66",
   "metadata": {},
   "source": [
    "# 5.  Code Blocks \n",
    "\n",
    "1. Incline code : use backticks (')\n",
    "\n",
    "for example   ```inline code```"
   ]
  },
  {
   "cell_type": "markdown",
   "id": "5d0f3213",
   "metadata": {},
   "source": [
    "## 6.  Blockquotes and Horizontal Lines\n",
    "\n",
    "blockquotes use > to create blockquotes\n",
    "\n",
    "> This is blockquotes"
   ]
  },
  {
   "cell_type": "markdown",
   "id": "292f157e",
   "metadata": {},
   "source": [
    "# 7. Tables\n",
    "\n",
    "u can create tables using pipes (|) and hyphens (-)\n",
    "\n",
    "\n",
    "| Header 1 | header 2 |\n",
    "|----------|----------|\n",
    "|row 1     | Data 1   |\n",
    "| row 2    | Data 2   |"
   ]
  },
  {
   "cell_type": "markdown",
   "id": "b3bd31af-a5e0-4f1f-b5fe-87936ce11047",
   "metadata": {},
   "source": [
    "## 1.12 Write mathematical functions in this format (laTeX)\n",
    "$$\n",
    "E = MC^2\n",
    "$$"
   ]
  },
  {
   "cell_type": "markdown",
   "id": "be988c37",
   "metadata": {},
   "source": [
    "## 8. Latex foe Mathmatical Expressions\n",
    "\n",
    "1. incline equations : Use single dollar signs \n",
    "\n",
    "\n",
    "\n"
   ]
  },
  {
   "cell_type": "markdown",
   "id": "17fe1202",
   "metadata": {},
   "source": [
    "# 9. TASKS  Lists\n",
    "\n",
    "\n",
    "- [ ] number 1\n",
    "- [X] number 2\n",
    "- [ ] - [X] number 2_1"
   ]
  },
  {
   "cell_type": "markdown",
   "id": "3782cbd8",
   "metadata": {},
   "source": [
    "# 10. \n",
    "\n",
    "1. double space method : \n",
    "add two double space at rhe end of line like  \n",
    "here\n",
    "\n",
    "or . Using \"<br>\" Tag : \n"
   ]
  },
  {
   "cell_type": "markdown",
   "id": "c5c58f24-ca93-40e3-bb24-424cbac6c4d4",
   "metadata": {},
   "source": [
    "# Session 5"
   ]
  },
  {
   "cell_type": "markdown",
   "id": "ca7e10df-fdd0-4fda-97bb-489a7f032692",
   "metadata": {},
   "source": [
    "## camelCase \n"
   ]
  },
  {
   "cell_type": "code",
   "execution_count": 138,
   "id": "3240b584-0403-4fee-97e7-35e8f2858bd3",
   "metadata": {},
   "outputs": [],
   "source": [
    "thisIsMyCamelCase = 1"
   ]
  },
  {
   "cell_type": "code",
   "execution_count": 2,
   "id": "944c159f-4020-4472-a154-a93e2380e11b",
   "metadata": {},
   "outputs": [],
   "source": [
    "integerAddition = 2 + 5"
   ]
  },
  {
   "cell_type": "markdown",
   "id": "f2f72060-91fb-4359-a458-cec387e2d75d",
   "metadata": {},
   "source": [
    "# snake_case"
   ]
  },
  {
   "cell_type": "code",
   "execution_count": 3,
   "id": "3d22a5d0-fcd3-491c-a69c-713870cd7d63",
   "metadata": {},
   "outputs": [
    {
     "name": "stdout",
     "output_type": "stream",
     "text": [
      "18\n"
     ]
    }
   ],
   "source": [
    "integer_addition = 2 * 9  \n",
    "print (integer_addition)"
   ]
  },
  {
   "cell_type": "code",
   "execution_count": 4,
   "id": "30fd6290-9966-46de-8a3f-2a5f9e112736",
   "metadata": {},
   "outputs": [
    {
     "data": {
      "text/plain": [
       "4"
      ]
     },
     "execution_count": 4,
     "metadata": {},
     "output_type": "execute_result"
    }
   ],
   "source": [
    "2+2"
   ]
  },
  {
   "cell_type": "code",
   "execution_count": 5,
   "id": "94c5a0da-b370-4b04-9155-d6242110999d",
   "metadata": {},
   "outputs": [
    {
     "name": "stdout",
     "output_type": "stream",
     "text": [
      "6\n"
     ]
    }
   ],
   "source": [
    "a=4\n",
    "b=6\n",
    "d= a and b\n",
    "print (d)"
   ]
  },
  {
   "cell_type": "code",
   "execution_count": 6,
   "id": "f18fbaf7-ce61-4308-8659-1c04a5498061",
   "metadata": {},
   "outputs": [
    {
     "name": "stdout",
     "output_type": "stream",
     "text": [
      "0\n"
     ]
    }
   ],
   "source": [
    "a = 0\n",
    "b = 1\n",
    "d = a and b\n",
    "print(d)"
   ]
  },
  {
   "cell_type": "code",
   "execution_count": 7,
   "id": "1b940bb0-2a63-40d4-8152-12acbb1e764b",
   "metadata": {},
   "outputs": [
    {
     "name": "stdout",
     "output_type": "stream",
     "text": [
      "4\n"
     ]
    }
   ],
   "source": [
    "a = 2\n",
    "b = 4\n",
    "d = a and b\n",
    "print (d)"
   ]
  },
  {
   "cell_type": "code",
   "execution_count": 8,
   "id": "284f9835-4570-408c-99a8-d26335acf579",
   "metadata": {},
   "outputs": [
    {
     "name": "stdout",
     "output_type": "stream",
     "text": [
      "False\n"
     ]
    }
   ],
   "source": [
    "a = True\n",
    "b = False\n",
    "print(a and b)"
   ]
  },
  {
   "cell_type": "code",
   "execution_count": 9,
   "id": "869daf1d-ab86-4cea-b241-afd99d35a41c",
   "metadata": {},
   "outputs": [
    {
     "name": "stdout",
     "output_type": "stream",
     "text": [
      "3.4\n"
     ]
    }
   ],
   "source": [
    "a = 1.1\n",
    "b = 2.3\n",
    "print (a+b)"
   ]
  },
  {
   "cell_type": "markdown",
   "id": "c3b0da3c-a446-443c-a650-55c1301c9ba4",
   "metadata": {},
   "source": [
    "# 1.2._String"
   ]
  },
  {
   "cell_type": "code",
   "execution_count": 139,
   "id": "e3ef2e48-aa72-48b6-9fe9-ebfc12fe62b9",
   "metadata": {},
   "outputs": [],
   "source": [
    "my_name = 'Amirhoshang'"
   ]
  },
  {
   "cell_type": "code",
   "execution_count": 140,
   "id": "00667894-e7a5-417c-aac7-abb973ba399c",
   "metadata": {},
   "outputs": [
    {
     "name": "stdout",
     "output_type": "stream",
     "text": [
      "Amirhoshang\n"
     ]
    }
   ],
   "source": [
    "print (my_name)"
   ]
  },
  {
   "cell_type": "markdown",
   "id": "6bee4695-0888-4903-844a-c970d73adbcd",
   "metadata": {},
   "source": [
    "### 1.2.1 Len Function"
   ]
  },
  {
   "cell_type": "code",
   "execution_count": 12,
   "id": "d9865420-a872-47bc-bac5-fb0d4e2627f3",
   "metadata": {},
   "outputs": [
    {
     "data": {
      "text/plain": [
       "11"
      ]
     },
     "execution_count": 12,
     "metadata": {},
     "output_type": "execute_result"
    }
   ],
   "source": [
    "len(my_name)"
   ]
  },
  {
   "cell_type": "markdown",
   "id": "9f52f54e-d187-4bcb-968c-f862f1452ae2",
   "metadata": {},
   "source": [
    "### 1.2.2 Indices"
   ]
  },
  {
   "cell_type": "code",
   "execution_count": 13,
   "id": "fb6449ff-40b5-46d8-9e6a-bb3009016c0c",
   "metadata": {},
   "outputs": [
    {
     "name": "stdout",
     "output_type": "stream",
     "text": [
      "A\n",
      "m\n"
     ]
    }
   ],
   "source": [
    "print (my_name[0])  \n",
    "print  (my_name[1])"
   ]
  },
  {
   "cell_type": "code",
   "execution_count": 14,
   "id": "2f6522fe-0ec4-4be1-8ef9-9cdc7058a590",
   "metadata": {},
   "outputs": [
    {
     "name": "stdout",
     "output_type": "stream",
     "text": [
      "g\n"
     ]
    }
   ],
   "source": [
    "print (my_name[-1])"
   ]
  },
  {
   "cell_type": "code",
   "execution_count": 15,
   "id": "8e0825d1-8816-41ad-9a79-87d73c06fccd",
   "metadata": {},
   "outputs": [
    {
     "data": {
      "text/plain": [
       "'g'"
      ]
     },
     "execution_count": 15,
     "metadata": {},
     "output_type": "execute_result"
    }
   ],
   "source": [
    "my_name[0] \n",
    "\n",
    "my_name[-1]"
   ]
  },
  {
   "cell_type": "code",
   "execution_count": 16,
   "id": "8771580c-d6b1-4336-a276-c078a12ce5ae",
   "metadata": {},
   "outputs": [],
   "source": [
    "my_name1 = 'amirali'"
   ]
  },
  {
   "cell_type": "code",
   "execution_count": 17,
   "id": "6a05088d-3fa2-4e62-bfb5-a75e18fde547",
   "metadata": {},
   "outputs": [
    {
     "data": {
      "text/plain": [
       "7"
      ]
     },
     "execution_count": 17,
     "metadata": {},
     "output_type": "execute_result"
    }
   ],
   "source": [
    "len(my_name1)"
   ]
  },
  {
   "cell_type": "code",
   "execution_count": 18,
   "id": "1bccb322-368f-4274-917b-c375395be4ad",
   "metadata": {},
   "outputs": [
    {
     "data": {
      "text/plain": [
       "'i'"
      ]
     },
     "execution_count": 18,
     "metadata": {},
     "output_type": "execute_result"
    }
   ],
   "source": [
    "my_name1[len(my_name1)-1]"
   ]
  },
  {
   "cell_type": "code",
   "execution_count": 19,
   "id": "e5c0dc64-ca5d-4584-b737-fecc48e1062b",
   "metadata": {},
   "outputs": [
    {
     "data": {
      "text/plain": [
       "7"
      ]
     },
     "execution_count": 19,
     "metadata": {},
     "output_type": "execute_result"
    }
   ],
   "source": [
    "len(my_name1)"
   ]
  },
  {
   "cell_type": "markdown",
   "id": "fd9bd4ad-dd08-4ca3-b2e1-a69101c73e11",
   "metadata": {},
   "source": [
    "## 1.2.3 Slice of strings"
   ]
  },
  {
   "cell_type": "code",
   "execution_count": 20,
   "id": "fe88432d-e584-414e-a50b-390f0e0ac309",
   "metadata": {},
   "outputs": [
    {
     "data": {
      "text/plain": [
       "'ami'"
      ]
     },
     "execution_count": 20,
     "metadata": {},
     "output_type": "execute_result"
    }
   ],
   "source": [
    "my_name1[0:3] "
   ]
  },
  {
   "cell_type": "code",
   "execution_count": 21,
   "id": "2a98a288-7ea8-43b7-8940-14ce555991be",
   "metadata": {},
   "outputs": [
    {
     "data": {
      "text/plain": [
       "'mi'"
      ]
     },
     "execution_count": 21,
     "metadata": {},
     "output_type": "execute_result"
    }
   ],
   "source": [
    "my_name[1:3]"
   ]
  },
  {
   "cell_type": "markdown",
   "id": "325f439c-6d92-47bd-8167-a2ef4d7a9088",
   "metadata": {},
   "source": [
    "## 1.2.4 string addition"
   ]
  },
  {
   "cell_type": "code",
   "execution_count": 22,
   "id": "4467b222-ed2d-4b89-ab4a-8be356bbebf0",
   "metadata": {},
   "outputs": [
    {
     "data": {
      "text/plain": [
       "'amiralimohammadi'"
      ]
     },
     "execution_count": 22,
     "metadata": {},
     "output_type": "execute_result"
    }
   ],
   "source": [
    "my_family = 'mohammadi'  \n",
    "my_full_name = my_name1 +  my_family \n",
    "my_full_name"
   ]
  },
  {
   "cell_type": "markdown",
   "id": "ffc007cb-6e0f-4ead-a83f-abdd232a5dd1",
   "metadata": {},
   "source": [
    "## 1.2.5 string multiplication"
   ]
  },
  {
   "cell_type": "code",
   "execution_count": 23,
   "id": "b33effa2-f83a-42ff-981c-ab7817c00659",
   "metadata": {},
   "outputs": [
    {
     "data": {
      "text/plain": [
       "'mohammadimohammadimohammadi'"
      ]
     },
     "execution_count": 23,
     "metadata": {},
     "output_type": "execute_result"
    }
   ],
   "source": [
    "new = my_family * 3\n",
    "new"
   ]
  },
  {
   "cell_type": "code",
   "execution_count": 24,
   "id": "8cc5069a-989f-40b3-908e-a82422009174",
   "metadata": {},
   "outputs": [
    {
     "name": "stdout",
     "output_type": "stream",
     "text": [
      "2\n",
      "11\n"
     ]
    },
    {
     "data": {
      "text/plain": [
       "'asdfasdfasdfadsfasdfsadfasd\\nafddfdfsdfsdf\\nafsdfsdfasdfsd\\nafdfdsfsdfsfsf'"
      ]
     },
     "execution_count": 24,
     "metadata": {},
     "output_type": "execute_result"
    }
   ],
   "source": [
    "temp_int = 1  \n",
    "temp_str = '1'  \n",
    "print(temp_int*2)  \n",
    "print(temp_str*2)  \n",
    "\n",
    "temp = \"\"\"asdfasdfasdfadsfasdfsadfasd\n",
    "afddfdfsdfsdf\n",
    "afsdfsdfasdfsd\n",
    "afdfdsfsdfsfsf\"\"\"\n",
    "\n",
    "temp"
   ]
  },
  {
   "cell_type": "markdown",
   "id": "8ec0dda4-521a-49d7-9fd0-4f410ec15e74",
   "metadata": {},
   "source": [
    "## Find Function"
   ]
  },
  {
   "cell_type": "code",
   "execution_count": 25,
   "id": "717020e7-a335-4e03-afd2-e80459839381",
   "metadata": {},
   "outputs": [
    {
     "data": {
      "text/plain": [
       "'amirali'"
      ]
     },
     "execution_count": 25,
     "metadata": {},
     "output_type": "execute_result"
    }
   ],
   "source": [
    "my_name1"
   ]
  },
  {
   "cell_type": "code",
   "execution_count": 26,
   "id": "334349cb-d351-4da4-be04-f8505df84b26",
   "metadata": {},
   "outputs": [
    {
     "data": {
      "text/plain": [
       "3"
      ]
     },
     "execution_count": 26,
     "metadata": {},
     "output_type": "execute_result"
    }
   ],
   "source": [
    "my_name1.find('r')"
   ]
  },
  {
   "cell_type": "markdown",
   "id": "df1033db-30b3-4955-be76-11507e3a75fb",
   "metadata": {},
   "source": [
    "# Session 6"
   ]
  },
  {
   "cell_type": "code",
   "execution_count": 27,
   "id": "b367e16f-6d58-481e-bfcb-430952630c08",
   "metadata": {},
   "outputs": [],
   "source": [
    "a = 2  \n",
    "b = a"
   ]
  },
  {
   "cell_type": "code",
   "execution_count": 28,
   "id": "5fe493a1-b948-4173-aaa7-75b19e319198",
   "metadata": {},
   "outputs": [
    {
     "data": {
      "text/plain": [
       "True"
      ]
     },
     "execution_count": 28,
     "metadata": {},
     "output_type": "execute_result"
    }
   ],
   "source": [
    "a is b"
   ]
  },
  {
   "cell_type": "code",
   "execution_count": 29,
   "id": "e325a79f-55f9-4551-be71-9d2f5d4293ea",
   "metadata": {},
   "outputs": [
    {
     "data": {
      "text/plain": [
       "True"
      ]
     },
     "execution_count": 29,
     "metadata": {},
     "output_type": "execute_result"
    }
   ],
   "source": [
    "a==b"
   ]
  },
  {
   "cell_type": "markdown",
   "id": "239130c5-6fd3-441c-b767-4699bcdf8e7b",
   "metadata": {},
   "source": [
    "## تمرین\n",
    "\n",
    "صفحه ویکی پدیا پایتون را کپی کنید \n",
    "و ببینید چند کلمه پایتون در آن وجود دارد ؟"
   ]
  },
  {
   "cell_type": "code",
   "execution_count": null,
   "id": "1cd5a4f8-b2f6-470f-9dbb-6e8dbe955687",
   "metadata": {},
   "outputs": [],
   "source": []
  },
  {
   "cell_type": "code",
   "execution_count": 141,
   "id": "9045a89f-3437-4166-9bff-e900ce04af6f",
   "metadata": {},
   "outputs": [],
   "source": [
    "vikipedia_python = \"\"\"From Wikipedia, the free encyclopedia\n",
    "Python\n",
    "\n",
    "Paradigm\tMulti-paradigm: object-oriented,[1] procedural (imperative), functional, structured, reflective\n",
    "Designed by\tGuido van Rossum\n",
    "Developer\tPython Software Foundation\n",
    "First appeared\t20 February 1991; 33 years ago[2]\n",
    "Stable release\t\n",
    "3.13.0 Edit this on Wikidata / 7 October 2024; 5 days ago\n",
    "Typing discipline\tduck, dynamic, strong;[3] optional type annotations (since 3.5, but those hints are ignored, except with unofficial tools)[4]\n",
    "OS\t\n",
    "Tier 1: 64-bit Linux, macOS; 64- and 32-bit Windows 10+[5]\n",
    "Tier 2: E.g. 32-bit WebAssembly (WASI)\n",
    "Tier 3: 64-bit Android 5.0+,[6] iOS, FreeBSD, and (32-bit) Raspberry Pi OS\n",
    "Unofficial (or has been known to work): Other Unix-like/BSD variants) and a few other platforms[7][8][9]\n",
    "License\tPython Software Foundation License\n",
    "Filename extensions\t.py, .pyw, .pyz,[10]\n",
    ".pyi, .pyc, .pyd\n",
    "Website\tpython.org\n",
    "Major implementations\n",
    "CPython, PyPy, Stackless Python, MicroPython, CircuitPython, IronPython, Jython\n",
    "Dialects\n",
    "Cython, RPython, Starlark[11]\n",
    "Influenced by\n",
    "ABC,[12] Ada,[13] ALGOL 68,[14]\n",
    "APL,[15] C,[16] C++,[17] CLU,[18] Dylan,[19]\n",
    "Haskell,[20][15] Icon,[21] Lisp,[22]\n",
    "Modula-3,[14][17] Perl,[23] Standard ML[15]\n",
    "Influenced\n",
    "Apache Groovy, Boo, Cobra, CoffeeScript,[24] D, F#, GDScript, Go, JavaScript,[25][26] Julia,[27] Mojo,[28] Nim, Ring,[29] Ruby,[30] Swift[31]\n",
    " Python Programming at Wikibooks\n",
    "Python is a high-level, general-purpose programming language. Its design philosophy emphasizes code readability with the use of significant indentation.[32]\n",
    "\n",
    "Python is dynamically typed and garbage-collected. It supports multiple programming paradigms, including structured (particularly procedural), object-oriented and functional programming. It is often described as a \"batteries included\" language due to its comprehensive standard library.[33][34]\n",
    "\n",
    "Guido van Rossum began working on Python in the late 1980s as a successor to the ABC programming language and first released it in 1991 as Python 0.9.0.[35] Python 2.0 was released in 2000. Python 3.0, released in 2008, was a major revision not completely backward-compatible with earlier versions. Python 2.7.18, released in 2020, was the last release of Python 2.[36]\n",
    "\n",
    "Python consistently ranks as one of the most popular programming languages, and has gained widespread use in the machine learning community.[37][38][39][40]\n",
    "\n",
    "History\n",
    "Main article: History of Python\n",
    "\n",
    "The designer of Python, Guido van Rossum, at OSCON 2006\n",
    "Python was invented in the late 1980s[41] by Guido van Rossum at Centrum Wiskunde & Informatica (CWI) in the Netherlands as a successor to the ABC programming language, which was inspired by SETL,[42] capable of exception handling and interfacing with the Amoeba operating system.[12] Its implementation began in December 1989.[43] Van Rossum shouldered sole responsibility for the project, as the lead developer, until 12 July 2018, when he announced his \"permanent vacation\" from his responsibilities as Python's \"benevolent dictator for life\" (BDFL), a title the Python community bestowed upon him to reflect his long-term commitment as the project's chief decision-maker[44] (he has since come out of retirement and is self-titled \"BDFL-emeritus\"). In January 2019, active Python core developers elected a five-member Steering Council to lead the project.[45][46]\n",
    "\n",
    "Python 2.0 was released on 16 October 2000, with many major new features such as list comprehensions, cycle-detecting garbage collection, reference counting, and Unicode support.[47] Python 3.0 was released on 3 December 2008, with many of its major features backported to Python 2.6.x[48] and 2.7.x. Releases of Python 3 include the 2to3 utility, which automates the translation of Python 2 code to Python 3.[49]\n",
    "\n",
    "Python 2.7's end-of-life was initially set for 2015, then postponed to 2020 out of concern that a large body of existing code could not easily be forward-ported to Python 3.[50][51] No further security patches or other improvements will be released for it.[52][53] Currently only 3.9 and later are supported (2023 security issues were fixed in e.g. 3.7.17, the final 3.7.x release[54]). While Python 2.7 and older is officially unsupported, a different unofficial Python implementation, PyPy, continues to support Python 2, i.e. \"2.7.18+\" (plus 3.10), with the plus meaning (at least some) \"backported security updates\".[55]\n",
    "\n",
    "In 2021 (and again twice in 2022, and in September 2024 for Python 3.12.6 down to 3.8.20), security updates were expedited, since all Python versions were insecure (including 2.7[56]) because of security issues leading to possible remote code execution[57] and web-cache poisoning.[58] In 2022, Python 3.10.4 and 3.9.12 were expedited[59] and 3.8.13, because of many security issues.[60] When Python 3.9.13 was released in May 2022, it was announced that the 3.9 series (joining the older series 3.8 and 3.7) would only receive security fixes in the future.[61] On 7 September 2022, four new releases were made due to a potential denial-of-service attack: 3.10.7, 3.9.14, 3.8.14, and 3.7.14.[62][63]\n",
    "\n",
    "Every Python release since 3.5 has added some syntax to the language. 3.10 added the | union type operator[64] and the match and case keywords (for structural pattern matching statements). 3.11 expanded exception handling functionality. Python 3.12 added the new keyword type. Notable changes in 3.11 from 3.10 include increased program execution speed and improved error reporting.[65] Python 3.11 claims to be between 10 and 60% faster than Python 3.10, and Python 3.12 adds another 5% on top of that. It also has improved error messages, and many other changes.\n",
    "\n",
    "Python 3.13 introduces more syntax for types, a new and improved interactive interpreter (REPL), featuring multi-line editing and color support; an incremental garbage collector (producing shorter pauses for collection in programs with a lot of objects, and addition to the improved speed in 3.11 and 3.12), and an experimental just-in-time (JIT) compiler (such features, can/needs to be enabled specifically for the increase in speed),[66] and an experimental free-threaded build mode, which disables the global interpreter lock (GIL), allowing threads to run more concurrently, that latter feature enabled with python3.13t or python3.13t.exe.\n",
    "\n",
    "Python 3.13 introduces some change in behavior, i.e. new \"well-defined semantics\", fixing bugs (plus many removals of deprecated classes, functions and methods, and removed some of the C API and outdated modules): \"The [old] implementation of locals() and frame.f_locals is slow, inconsistent and buggy [and it has] has many corner cases and oddities. Code that works around those may need to be changed. Code that uses locals() for simple templating, or print debugging, will continue to work correctly.\"[67]\n",
    "\n",
    "Since 7 October 2024, Python 3.13 is the latest stable release, and 3.13 and 3.12 are the only versions with active (as opposed to just security) support and Python 3.9 is the oldest supported version of Python (albeit in the 'security support' phase), due to Python 3.8 reaching end-of-life.[68] Starting with 3.13, it and later versions have 2 years of full support (up from one and a half); followed by 3 years of security support (for same total support as before).\n",
    "\n",
    "Some (more) standard library modules and many deprecated classes, functions and methods, will be removed in Python 3.15 or 3.16.[69][70]\n",
    "\n",
    "Design philosophy and features\n",
    "Python is a multi-paradigm programming language. Object-oriented programming and structured programming are fully supported, and many of their features support functional programming and aspect-oriented programming (including metaprogramming[71] and metaobjects).[72] Many other paradigms are supported via extensions, including design by contract[73][74] and logic programming.[75] Python is known as a glue language,[76] able to work very well with many other languages with ease of access.\n",
    "\n",
    "Python uses dynamic typing and a combination of reference counting and a cycle-detecting garbage collector for memory management.[77] It uses dynamic name resolution (late binding), which binds method and variable names during program execution.\n",
    "\n",
    "Its design offers some support for functional programming in the Lisp tradition. It has filter,mapandreduce functions; list comprehensions, dictionaries, sets, and generator expressions.[78] The standard library has two modules (itertools and functools) that implement functional tools borrowed from Haskell and Standard ML.[79]\n",
    "\n",
    "Its core philosophy is summarized in the Zen of Python (PEP 20), which includes aphorisms such as:[80]\n",
    "\n",
    "Beautiful is better than ugly.\n",
    "Explicit is better than implicit.\n",
    "Simple is better than complex.\n",
    "Complex is better than complicated.\n",
    "Readability counts.\n",
    "However, Python features regularly violate these principles and have received criticism for adding unnecessary language bloat.[81] Responses to these criticisms are that the Zen of Python is a guideline rather than a rule.[82] The addition of some new features had been so controversial that Guido van Rossum resigned as Benevolent Dictator for Life following vitriol over the addition of the assignment expression operator in Python 3.8.[83][84]\n",
    "\n",
    "Nevertheless, rather than building all of its functionality into its core, Python was designed to be highly extensible via modules. This compact modularity has made it particularly popular as a means of adding programmable interfaces to existing applications. Van Rossum's vision of a small core language with a large standard library and easily extensible interpreter stemmed from his frustrations with ABC, which espoused the opposite approach.[41]\n",
    "\n",
    "Python claims to strive for a simpler, less-cluttered syntax and grammar while giving developers a choice in their coding methodology. In contrast to Perl's \"there is more than one way to do it\" motto, Python embraces a \"there should be one—and preferably only one—obvious way to do it.\" philosophy.[80] In practice, however, Python provides many ways to achieve the same task. There are, for example, at least three ways to format a string literal, with no certainty as to which one a programmer should use.[85] Alex Martelli, a Fellow at the Python Software Foundation and Python book author, wrote: \"To describe something as 'clever' is not considered a compliment in the Python culture.\"[86]\n",
    "\n",
    "Python's developers usually strive to avoid premature optimization and reject patches to non-critical parts of the CPython reference implementation that would offer marginal increases in speed at the cost of clarity.[87] Execution speed can be improved by moving speed-critical functions to extension modules written in languages such as C, or by using a just-in-time compiler like PyPy. It is also possible to cross-compile to other languages, but it either doesn't provide the full speed-up that might be expected, since Python is a very dynamic language, or a restricted subset of Python is compiled, and possibly semantics are slightly changed.[88]\n",
    "\n",
    "Python's developers aim for it to be fun to use. This is reflected in its name—a tribute to the British comedy group Monty Python[89]—and in occasionally playful approaches to tutorials and reference materials, such as the use of the terms \"spam\" and \"eggs\" (a reference to a Monty Python sketch) in examples, instead of the often-used \"foo\" and \"bar\".[90][91] A common neologism in the Python community is pythonic, which has a wide range of meanings related to program style. \"Pythonic\" code may use Python idioms well, be natural or show fluency in the language, or conform with Python's minimalist philosophy and emphasis on readability. Code that is difficult to understand or reads like a rough transcription from another programming language is called unpythonic.[92]\n",
    "\n",
    "Syntax and semantics\n",
    "Main article: Python syntax and semantics\n",
    "Block of Python code showing sample source code\n",
    "An example of Python code and indentation\n",
    "C code featuring curly braces and semicolon\n",
    "Example of C# code with curly braces and semicolons\n",
    "Python is meant to be an easily readable language. Its formatting is visually uncluttered and often uses English keywords where other languages use punctuation. Unlike many other languages, it does not use curly brackets to delimit blocks, and semicolons after statements are allowed but rarely used. It has fewer syntactic exceptions and special cases than C or Pascal.[93]\n",
    "\n",
    "Indentation\n",
    "Main article: Python syntax and semantics § Indentation\n",
    "Python uses whitespace indentation, rather than curly brackets or keywords, to delimit blocks. An increase in indentation comes after certain statements; a decrease in indentation signifies the end of the current block.[94] Thus, the program's visual structure accurately represents its semantic structure.[95] This feature is sometimes termed the off-side rule. Some other languages use indentation this way; but in most, indentation has no semantic meaning. The recommended indent size is four spaces.[96]\n",
    "\n",
    "Statements and control flow\n",
    "Python's statements include:\n",
    "\n",
    "The assignment statement, using a single equals sign =\n",
    "The if statement, which conditionally executes a block of code, along with else and elif (a contraction of else-if)\n",
    "The for statement, which iterates over an iterable object, capturing each element to a local variable for use by the attached block\n",
    "The while statement, which executes a block of code as long as its condition is true\n",
    "The try statement, which allows exceptions raised in its attached code block to be caught and handled by except clauses (or new syntax except* in Python 3.11 for exception groups[97]); it also ensures that clean-up code in a finally block is always run regardless of how the block exits\n",
    "The raise statement, used to raise a specified exception or re-raise a caught exception\n",
    "The class statement, which executes a block of code and attaches its local namespace to a class, for use in object-oriented programming\n",
    "The def statement, which defines a function or method\n",
    "The with statement, which encloses a code block within a context manager (for example, acquiring a lock before it is run, then releasing the lock; or opening and closing a file), allowing resource-acquisition-is-initialization (RAII)-like behavior and replacing a common try/finally idiom[98]\n",
    "The break statement, which exits a loop\n",
    "The continue statement, which skips the rest of the current iteration and continues with the next\n",
    "The del statement, which removes a variable—deleting the reference from the name to the value, and producing an error if the variable is referred to before it is redefined\n",
    "The pass statement, serving as a NOP, syntactically needed to create an empty code block\n",
    "The assert statement, used in debugging to check for conditions that should apply\n",
    "The yield statement, which returns a value from a generator function (and also an operator); used to implement coroutines\n",
    "The return statement, used to return a value from a function\n",
    "The import and from statements, used to import modules whose functions or variables can be used in the current program\n",
    "The match and case statements, an analog of the switch statement construct, that compares an expression against one or more cases as a control-of-flow measure.\n",
    "The assignment statement (=) binds a name as a reference to a separate, dynamically allocated object. Variables may subsequently be rebound at any time to any object. In Python, a variable name is a generic reference holder without a fixed data type; however, it always refers to some object with a type. This is called dynamic typing—in contrast to statically-typed languages, where each variable may contain only a value of a certain type.\n",
    "\n",
    "Python does not support tail call optimization or first-class continuations, and, according to Van Rossum, it never will.[99][100] However, better support for coroutine-like functionality is provided by extending Python's generators.[101] Before 2.5, generators were lazy iterators; data was passed unidirectionally out of the generator. From Python 2.5 on, it is possible to pass data back into a generator function; and from version 3.3, it can be passed through multiple stack levels.[102]\n",
    "\n",
    "Expressions\n",
    "Python's expressions include:\n",
    "\n",
    "The +, -, and * operators for mathematical addition, subtraction, and multiplication are similar to other languages, but the behavior of division differs. There are two types of divisions in Python: floor division (or integer division) // and floating-point/division.[103] Python uses the ** operator for exponentiation.\n",
    "Python uses the + operator for string concatenation. Python uses the * operator for duplicating a string a specified number of times.\n",
    "The @ infix operator. It is intended to be used by libraries such as NumPy for matrix multiplication.[104][105]\n",
    "The syntax :=, called the \"walrus operator\", was introduced in Python 3.8. It assigns values to variables as part of a larger expression.[106]\n",
    "In Python, == compares by value. Python's is operator may be used to compare object identities (comparison by reference), and comparisons may be chained—for example, a <= b <= c.\n",
    "Python uses and, or, and not as Boolean operators.\n",
    "Python has a type of expression named a list comprehension, and a more general expression named a generator expression.[78]\n",
    "Anonymous functions are implemented using lambda expressions; however, there may be only one expression in each body.\n",
    "Conditional expressions are written as x if c else y[107] (different in order of operands from the c ? x : y operator common to many other languages).\n",
    "Python makes a distinction between lists and tuples. Lists are written as [1, 2, 3], are mutable, and cannot be used as the keys of dictionaries (dictionary keys must be immutable in Python). Tuples, written as (1, 2, 3), are immutable and thus can be used as keys of dictionaries, provided all of the tuple's elements are immutable. The + operator can be used to concatenate two tuples, which does not directly modify their contents, but produces a new tuple containing the elements of both. Thus, given the variable t initially equal to (1, 2, 3), executing t = t + (4, 5) first evaluates t + (4, 5), which yields (1, 2, 3, 4, 5), which is then assigned back to t—thereby effectively \"modifying the contents\" of t while conforming to the immutable nature of tuple objects. Parentheses are optional for tuples in unambiguous contexts.[108]\n",
    "Python features sequence unpacking where multiple expressions, each evaluating to anything that can be assigned (to a variable, writable property, etc.) are associated in an identical manner to that forming tuple literals—and, as a whole, are put on the left-hand side of the equal sign in an assignment statement. The statement expects an iterable object on the right-hand side of the equal sign that produces the same number of values as the provided writable expressions; when iterated through them, it assigns each of the produced values to the corresponding expression on the left.[109]\n",
    "Python has a \"string format\" operator % that functions analogously to printf format strings in C—e.g. \"spam=%s eggs=%d\" % (\"blah\", 2) evaluates to \"spam=blah eggs=2\". In Python 2.6+ and 3+, this was supplemented by the format() method of the str class, e.g. \"spam={0} eggs={1}\".format(\"blah\", 2). Python 3.6 added \"f-strings\": spam = \"blah\"; eggs = 2; f'spam={spam} eggs={eggs}'.[110]\n",
    "Strings in Python can be concatenated by \"adding\" them (with the same operator as for adding integers and floats), e.g. \"spam\" + \"eggs\" returns \"spameggs\". If strings contain numbers, they are added as strings rather than integers, e.g. \"2\" + \"2\" returns \"22\".\n",
    "Python has various string literals:\n",
    "Delimited by single or double quotes; unlike in Unix shells, Perl, and Perl-influenced languages, single and double quotes work the same. Both use the backslash (\\) as an escape character. String interpolation became available in Python 3.6 as \"formatted string literals\".[110]\n",
    "Triple-quoted (beginning and ending with three single or double quotes), which may span multiple lines and function like here documents in shells, Perl, and Ruby.\n",
    "Raw string varieties, denoted by prefixing the string literal with r. Escape sequences are not interpreted; hence raw strings are useful where literal backslashes are common, such as regular expressions and Windows-style paths. (Compare \"@-quoting\" in C#.)\n",
    "Python has array index and array slicing expressions in lists, denoted as a[key], a[start:stop] or a[start:stop:step]. Indexes are zero-based, and negative indexes are relative to the end. Slices take elements from the start index up to, but not including, the stop index. The third slice parameter, called step or stride, allows elements to be skipped and reversed. Slice indexes may be omitted—for example, a[:] returns a copy of the entire list. Each element of a slice is a shallow copy.\n",
    "In Python, a distinction between expressions and statements is rigidly enforced, in contrast to languages such as Common Lisp, Scheme, or Ruby. This leads to duplicating some functionality. For example:\n",
    "\n",
    "List comprehensions vs. for-loops\n",
    "Conditional expressions vs. if blocks\n",
    "The eval() vs. exec() built-in functions (in Python 2, exec is a statement); the former is for expressions, the latter is for statements\n",
    "Statements cannot be a part of an expression—so list and other comprehensions or lambda expressions, all being expressions, cannot contain statements. A particular case is that an assignment statement such as a = 1 cannot form part of the conditional expression of a conditional statement.\n",
    "\n",
    "Methods\n",
    "Methods on objects are functions attached to the object's class; the syntax instance.method(argument) is, for normal methods and functions, syntactic sugar for Class.method(instance, argument). Python methods have an explicit self parameter to access instance data, in contrast to the implicit self (or this) in some other object-oriented programming languages (e.g., C++, Java, Objective-C, Ruby).[111] Python also provides methods, often called dunder methods (due to their names beginning and ending with double-underscores), to allow user-defined classes to modify how they are handled by native operations including length, comparison, in arithmetic operations and type conversion.[112]\n",
    "\n",
    "Typing\n",
    "\n",
    "The standard type hierarchy in Python 3\n",
    "Python uses duck typing and has typed objects but untyped variable names. Type constraints are not checked at compile time; rather, operations on an object may fail, signifying that it is not of a suitable type. Despite being dynamically typed, Python is strongly typed, forbidding operations that are not well-defined (for example, adding a number to a string) rather than silently attempting to make sense of them.\n",
    "\n",
    "Python allows programmers to define their own types using classes, most often used for object-oriented programming. New instances of classes are constructed by calling the class (for example, SpamClass() or EggsClass()), and the classes are instances of the metaclass type (itself an instance of itself), allowing metaprogramming and reflection.\n",
    "\n",
    "Before version 3.0, Python had two kinds of classes (both using the same syntax): old-style and new-style;[113] current Python versions only support the semantics of the new style.\n",
    "\n",
    "Python supports optional type annotations.[4][114] These annotations are not enforced by the language, but may be used by external tools such as mypy to catch errors.[115][116] Mypy also supports a Python compiler called mypyc, which leverages type annotations for optimization.[117]\n",
    "\n",
    "Summary of Python 3's built-in types\n",
    "Type\tMutability\tDescription\tSyntax examples\n",
    "bool\timmutable\tBoolean value\tTrue\n",
    "False\n",
    "bytearray\tmutable\tSequence of bytes\tbytearray(b'Some ASCII')\n",
    "bytearray(b\"Some ASCII\")\n",
    "bytearray([119, 105, 107, 105])\n",
    "bytes\timmutable\tSequence of bytes\tb'Some ASCII'\n",
    "b\"Some ASCII\"\n",
    "bytes([119, 105, 107, 105])\n",
    "complex\timmutable\tComplex number with real and imaginary parts\t3+2.7j\n",
    "3 + 2.7j\n",
    "dict\tmutable\tAssociative array (or dictionary) of key and value pairs; can contain mixed types (keys and values), keys must be a hashable type\t{'key1': 1.0, 3: False}\n",
    "{}\n",
    "types.EllipsisType\timmutable\tAn ellipsis placeholder to be used as an index in NumPy arrays\t...\n",
    "Ellipsis\n",
    "float\timmutable\tDouble-precision floating-point number. The precision is machine-dependent but in practice is generally implemented as a 64-bit IEEE 754 number with 53 bits of precision.[118]\t\n",
    "1.33333\n",
    "\n",
    "frozenset\timmutable\tUnordered set, contains no duplicates; can contain mixed types, if hashable\tfrozenset([4.0, 'string', True])\n",
    "int\timmutable\tInteger of unlimited magnitude[119]\t42\n",
    "list\tmutable\tList, can contain mixed types\t[4.0, 'string', True]\n",
    "[]\n",
    "types.NoneType\timmutable\tAn object representing the absence of a value, often called null in other languages\tNone\n",
    "types.NotImplementedType\timmutable\tA placeholder that can be returned from overloaded operators to indicate unsupported operand types.\tNotImplemented\n",
    "range\timmutable\tAn immutable sequence of numbers commonly used for looping a specific number of times in for loops[120]\trange(−1, 10)\n",
    "range(10, −5, −2)\n",
    "set\tmutable\tUnordered set, contains no duplicates; can contain mixed types, if hashable\t{4.0, 'string', True}\n",
    "set()\n",
    "str\timmutable\tA character string: sequence of Unicode codepoints\t'Wikipedia'\n",
    "\"Wikipedia\"\n",
    "Spanning\n",
    "multiple\n",
    "lines\n",
    "tuple\timmutable\tCan contain mixed types\t(4.0, 'string', True)\n",
    "('single element',)\n",
    "()\n",
    "Arithmetic operations\n",
    "Python has the usual symbols for arithmetic operators (+, -, *, /), the floor division operator // and the modulo operation % (where the remainder can be negative, e.g. 4 % -3 == -2). It also has ** for exponentiation, e.g. 5**3 == 125 and 9**0.5 == 3.0, and a matrix‑multiplication operator @ .[121] These operators work like in traditional math; with the same precedence rules, the operators infix (+ and - can also be unary to represent positive and negative numbers respectively).\n",
    "\n",
    "The division between integers produces floating-point results. The behavior of division has changed significantly over time:[122]\n",
    "\n",
    "Current Python (i.e. since 3.0) changed / to always be floating-point division, e.g. 5/2 == 2.5.\n",
    "The floor division // operator was introduced. So 7//3 == 2, -7//3 == -3, 7.5//3 == 2.0 and -7.5//3 == -3.0. Adding from __future__ import division causes a module used in Python 2.7 to use Python 3.0 rules for division (see above).\n",
    "In Python terms, / is true division (or simply division), and // is floor division. / before version 3.0 is classic division.[122]\n",
    "\n",
    "Rounding towards negative infinity, though different from most languages, adds consistency. For instance, it means that the equation (a + b)//b == a//b + 1 is always true. It also means that the equation b*(a//b) + a%b == a is valid for both positive and negative values of a. However, maintaining the validity of this equation means that while the result of a%b is, as expected, in the half-open interval [0, b), where b is a positive integer, it has to lie in the interval (b, 0] when b is negative.[123]\n",
    "\n",
    "Python provides a round function for rounding a float to the nearest integer. For tie-breaking, Python 3 uses round to even: round(1.5) and round(2.5) both produce 2.[124] Versions before 3 used round-away-from-zero: round(0.5) is 1.0, round(-0.5) is −1.0.[125]\n",
    "\n",
    "Python allows Boolean expressions with multiple equality relations in a manner that is consistent with general use in mathematics. For example, the expression a < b < c tests whether a is less than b and b is less than c.[126] C-derived languages interpret this expression differently: in C, the expression would first evaluate a < b, resulting in 0 or 1, and that result would then be compared with c.[127]\n",
    "\n",
    "Python uses arbitrary-precision arithmetic for all integer operations. The Decimal type/class in the decimal module provides decimal floating-point numbers to a pre-defined arbitrary precision and several rounding modes.[128] The Fraction class in the fractions module provides arbitrary precision for rational numbers.[129]\n",
    "\n",
    "Due to Python's extensive mathematics library, and the third-party library NumPy that further extends the native capabilities, it is frequently used as a scientific scripting language to aid in problems such as numerical data processing and manipulation.[130][131]\n",
    "\n",
    "Programming examples\n",
    "\"Hello, World!\" program:\n",
    "\n",
    "print('Hello, world!')\n",
    "Program to calculate the factorial of a positive integer:\n",
    "\n",
    "n = int(input('Type a number, and its factorial will be printed: '))\n",
    "\n",
    "if n < 0:\n",
    "    raise ValueError('You must enter a non-negative integer')\n",
    "\n",
    "factorial = 1\n",
    "for i in range(2, n + 1):\n",
    "    factorial *= i\n",
    "\n",
    "print(factorial)\n",
    "Libraries\n",
    "Python's large standard library[132] provides tools suited to many tasks and is commonly cited as one of its greatest strengths. For Internet-facing applications, many standard formats and protocols such as MIME and HTTP are supported. It includes modules for creating graphical user interfaces, connecting to relational databases, generating pseudorandom numbers, arithmetic with arbitrary-precision decimals,[128] manipulating regular expressions, and unit testing.\n",
    "\n",
    "Some parts of the standard library are covered by specifications—for example, the Web Server Gateway Interface (WSGI) implementation wsgiref follows PEP 333[133]—but most are specified by their code, internal documentation, and test suites. However, because most of the standard library is cross-platform Python code, only a few modules need altering or rewriting for variant implementations.\n",
    "\n",
    "As of 17 March 2024, the Python Package Index (PyPI), the official repository for third-party Python software, contains over 523,000[134] packages with a wide range of functionality, including:\n",
    "\n",
    "Automation\n",
    "Data analytics\n",
    "Databases\n",
    "Documentation\n",
    "Graphical user interfaces\n",
    "Image processing\n",
    "Machine learning\n",
    "Mobile apps\n",
    "Multimedia\n",
    "Computer networking\n",
    "Scientific computing\n",
    "System administration\n",
    "Test frameworks\n",
    "Text processing\n",
    "Web frameworks\n",
    "Web scraping\n",
    "Development environments\n",
    "See also: Comparison of integrated development environments § Python\n",
    "Most Python implementations (including CPython) include a read–eval–print loop (REPL), permitting them to function as a command line interpreter for which users enter statements sequentially and receive results immediately.\n",
    "\n",
    "Python also comes with an Integrated development environment (IDE) called IDLE, which is more beginner-oriented.\n",
    "\n",
    "Other shells, including IDLE and IPython, add further abilities such as improved auto-completion, session state retention, and syntax highlighting.\n",
    "\n",
    "As well as standard desktop integrated development environments including PyCharm, IntelliJ Idea, Visual Studio Code etc, there are web browser-based IDEs, including SageMath, for developing science- and math-related programs; PythonAnywhere, a browser-based IDE and hosting environment; and Canopy IDE, a commercial IDE emphasizing scientific computing.[135]\n",
    "\n",
    "Implementations\n",
    "See also: List of Python software § Python implementations\n",
    "Reference implementation\n",
    "CPython is the reference implementation of Python. It is written in C, meeting the C89 standard (Python 3.11 uses C11[136]) with several select C99 features. CPython includes its own C extensions, but third-party extensions are not limited to older C versions—e.g. they can be implemented with C11 or C++.[137][138] CPython compiles Python programs into an intermediate bytecode[139] which is then executed by its virtual machine.[140] CPython is distributed with a large standard library written in a mixture of C and native Python, and is available for many platforms, including Windows (starting with Python 3.9, the Python installer deliberately fails to install on Windows 7 and 8;[141][142] Windows XP was supported until Python 3.5) and most modern Unix-like systems, including macOS (and Apple M1 Macs, since Python 3.9.1, with experimental installer), with unofficial support for VMS.[143] Platform portability was one of its earliest priorities.[144] (During Python 1 and 2 development, even OS/2 and Solaris were supported,[145] but support has since been dropped for many platforms.)\n",
    "\n",
    "All current Python versions (i.e. since 3.7) only support operating systems with multi-threading support.\n",
    "\n",
    "Other implementations\n",
    "All alternative implementations have at least slightly different semantics (e.g. may have unordered dictionaries, unlike all current Python versions), e.g. with the larger Python ecosystem, such as with supporting the C Python API of with PyPy:\n",
    "\n",
    "PyPy is a fast, compliant interpreter of Python 2.7 and 3.10.[146][147] Its just-in-time compiler often brings a significant speed improvement over CPython, but some libraries written in C cannot be used with it.[148] It has e.g. RISC-V support.\n",
    "Codon is a language with an ahead-of-time (AOT) compiler, that (AOT) compiles a statically-typed Python-like language with \"syntax and semantics are nearly identical to Python's, there are some notable differences\"[149] e.g. it uses 64-bit machine integers, for speed, not arbitrary like Python, and it claims speedups over CPython are usually on the order of 10–100x. It compiles to machine code (via LLVM) and supports native multithreading.[150] Codon can also compile to Python extension modules that can be imported and used from Python.\n",
    "Stackless Python is a significant fork of CPython that implements microthreads; it does not use the call stack in the same way, thus allowing massively concurrent programs. PyPy also has a stackless version.[151]\n",
    "MicroPython and CircuitPython are Python 3 variants optimized for microcontrollers, including Lego Mindstorms EV3.[152]\n",
    "Pyston is a variant of the Python runtime that uses just-in-time compilation to speed up the execution of Python programs.[153]\n",
    "Cinder is a performance-oriented fork of CPython 3.8 that contains a number of optimizations, including bytecode inline caching, eager evaluation of coroutines, a method-at-a-time JIT, and an experimental bytecode compiler.[154]\n",
    "Snek[155][156][157] Embedded Computing Language (compatible with e.g. 8-bit AVR microcontrollers such as ATmega 328P-based Arduino, as well as larger ones compatible with MicroPython) \"is Python-inspired, but it is not Python. It is possible to write Snek programs that run under a full Python system, but most Python programs will not run under Snek.\"[158] It is an imperative language not including OOP / classes, unlike Python, and simplifying to one number type with 32-bit single-precision (similar to JavaScript, except smaller).\n",
    "No longer supported implementations\n",
    "Other just-in-time Python compilers have been developed, but are now unsupported:\n",
    "\n",
    "Google began a project named Unladen Swallow in 2009, with the aim of speeding up the Python interpreter five-fold by using the LLVM, and of improving its multithreading ability to scale to thousands of cores,[159] while ordinary implementations suffer from the global interpreter lock.\n",
    "Psyco is a discontinued just-in-time specializing compiler that integrates with CPython and transforms bytecode to machine code at runtime. The emitted code is specialized for certain data types and is faster than the standard Python code. Psyco does not support Python 2.7 or later.\n",
    "PyS60 was a Python 2 interpreter for Series 60 mobile phones released by Nokia in 2005. It implemented many of the modules from the standard library and some additional modules for integrating with the Symbian operating system. The Nokia N900 also supports Python with GTK widget libraries, enabling programs to be written and run on the target device.[160]\n",
    "Cross-compilers to other languages\n",
    "There are several compilers/transpilers to high-level object languages, with either unrestricted Python, a restricted subset of Python, or a language similar to Python as the source language:\n",
    "\n",
    "Brython,[161] Transcrypt[162][163] and Pyjs (latest release in 2012) compile Python to JavaScript.\n",
    "Cython compiles (a superset of) Python to C. The resulting code is also usable with Python via direct C-level API calls into the Python interpreter.\n",
    "PyJL compiles/transpiles a subset of Python to \"human-readable, maintainable, and high-performance Julia source code\".[88] Despite claiming high performance, no tool can claim to do that for arbitrary Python code; i.e. it's known not possible to compile to a faster language or machine code. Unless semantics of Python are changed, but in many cases speedup is possible with few or no changes in the Python code. The faster Julia source code can then be used from Python, or compiled to machine code, and based that way.\n",
    "Nuitka compiles Python into C.[164] It works with Python 3.4 to 3.12 (and 2.6 and 2.7), for Python's main supported platforms (and Windows 7 or even Windows XP) and for Android. It claims complete support for Python 3.10, some support for 3.11 and 3.12 and experimental support for Python 3.13. It supports macOS including Apple Silicon-based. It's a free compiler, though it also has commercial add-ons (e.g. for hiding source code).\n",
    "Numba is used from Python, as a tool (enabled by adding a decorator to relevant Python code), a JIT compiler that translates a subset of Python and NumPy code into fast machine code.\n",
    "Pythran compiles a subset of Python 3 to C++ (C++11).[165]\n",
    "RPython can be compiled to C, and is used to build the PyPy interpreter of Python.\n",
    "The Python → 11l → C++ transpiler[166] compiles a subset of Python 3 to C++ (C++17).\n",
    "Specialized:\n",
    "\n",
    "MyHDL is a Python-based hardware description language (HDL), that converts MyHDL code to Verilog or VHDL code.\n",
    "Older projects (or not to be used with Python 3.x and latest syntax):\n",
    "\n",
    "Google's Grumpy (latest release in 2017) transpiles Python 2 to Go.[167][168][169]\n",
    "IronPython allows running Python 2.7 programs (and an alpha, released in 2021, is also available for \"Python 3.4, although features and behaviors from later versions may be included\"[170]) on the .NET Common Language Runtime.[171]\n",
    "Jython compiles Python 2.7 to Java bytecode, allowing the use of the Java libraries from a Python program.[172]\n",
    "Pyrex (latest release in 2010) and Shed Skin (latest release in 2013) compile to C and C++ respectively.\n",
    "Performance\n",
    "Performance comparison of various Python implementations on a non-numerical (combinatorial) workload was presented at EuroSciPy '13.[173] Python's performance compared to other programming languages is also benchmarked by The Computer Language Benchmarks Game.[174]\n",
    "\n",
    "Development\n",
    "Python's development is conducted largely through the Python Enhancement Proposal (PEP) process, the primary mechanism for proposing major new features, collecting community input on issues, and documenting Python design decisions.[175] Python coding style is covered in PEP 8.[176] Outstanding PEPs are reviewed and commented on by the Python community and the steering council.[175]\n",
    "\n",
    "Enhancement of the language corresponds with the development of the CPython reference implementation. The mailing list python-dev is the primary forum for the language's development. Specific issues were originally discussed in the Roundup bug tracker hosted at by the foundation.[177] In 2022, all issues and discussions were migrated to GitHub.[178] Development originally took place on a self-hosted source-code repository running Mercurial, until Python moved to GitHub in January 2017.[179]\n",
    "\n",
    "CPython's public releases come in three types, distinguished by which part of the version number is incremented:\n",
    "\n",
    "Backward-incompatible versions, where code is expected to break and needs to be manually ported. The first part of the version number is incremented. These releases happen infrequently—version 3.0 was released 8 years after 2.0. According to Guido van Rossum, a version 4.0 is very unlikely to ever happen.[180]\n",
    "Major or \"feature\" releases are largely compatible with the previous version but introduce new features. The second part of the version number is incremented. Starting with Python 3.9, these releases are expected to happen annually.[181][182] Each major version is supported by bug fixes for several years after its release.[183]\n",
    "Bugfix releases,[184] which introduce no new features, occur about every 3 months and are made when a sufficient number of bugs have been fixed upstream since the last release. Security vulnerabilities are also patched in these releases. The third and final part of the version number is incremented.[184]\n",
    "Many alpha, beta, and release-candidates are also released as previews and for testing before final releases. Although there is a rough schedule for each release, they are often delayed if the code is not ready. Python's development team monitors the state of the code by running the large unit test suite during development.[185]\n",
    "\n",
    "The major academic conference on Python is PyCon. There are also special Python mentoring programs, such as PyLadies.\n",
    "\n",
    "Python 3.12 removed wstr meaning Python extensions[186] need to be modified,[187] and 3.10 added pattern matching to the language.[188]\n",
    "\n",
    "Python 3.12 dropped some outdated modules, and more will be dropped in the future, deprecated as of 3.13; already deprecated array 'u' format code will emit DeprecationWarning since 3.13 and will be removed in Python 3.16. The 'w' format code should be used instead. Part of ctypes is also deprecated and http.server.CGIHTTPRequestHandler will emit a DeprecationWarning, and will be removed in 3.15. Using that code already has a high potential for both security and functionality bugs. Parts of the typing module are deprecated, e.g. creating a typing.NamedTuple class using keyword arguments to denote the fields and such (and more) will be disallowed in Python 3.15.\n",
    "\n",
    "API documentation generators\n",
    "Tools that can generate documentation for Python API include pydoc (available as part of the standard library), Sphinx, Pdoc and its forks, Doxygen and Graphviz, among others.[189]\n",
    "\n",
    "Naming\n",
    "Python's name is derived from the British comedy group Monty Python, whom Python creator Guido van Rossum enjoyed while developing the language. Monty Python references appear frequently in Python code and culture;[190] for example, the metasyntactic variables often used in Python literature are spam and eggs instead of the traditional foo and bar.[190][191] The official Python documentation also contains various references to Monty Python routines.[192][193] Users of Python are sometimes referred to as \"Pythonistas\".[194]\n",
    "\n",
    "The prefix Py- is used to show that something is related to Python. Examples of the use of this prefix in names of Python applications or libraries include Pygame, a binding of Simple DirectMedia Layer to Python (commonly used to create games); PyQt and PyGTK, which bind Qt and GTK to Python respectively; and PyPy, a Python implementation originally written in Python.\n",
    "\n",
    "Popularity\n",
    "Since 2003, Python has consistently ranked in the top ten most popular programming languages in the TIOBE Programming Community Index where as of December 2022 it was the most popular language (ahead of C, C++, and Java).[39] It was selected as Programming Language of the Year (for \"the highest rise in ratings in a year\") in 2007, 2010, 2018, and 2020 (the only language to have done so four times as of 2020[195]).\n",
    "\n",
    "Large organizations that use Python include Wikipedia, Google,[196] Yahoo!,[197] CERN,[198] NASA,[199] Facebook,[200] Amazon, Instagram,[201] Spotify,[202] and some smaller entities like Industrial Light & Magic[203] and ITA.[204] The social news networking site Reddit was written mostly in Python.[205] Organizations that partially use Python include Discord[206] and Baidu.[207]\n",
    "\n",
    "Uses\n",
    "Main article: List of Python software\n",
    "\n",
    "Python Powered\n",
    "Python can serve as a scripting language for web applications, e.g. via mod_wsgi for the Apache webserver.[208] With Web Server Gateway Interface, a standard API has evolved to facilitate these applications. Web frameworks like Django, Pylons, Pyramid, TurboGears, web2py, Tornado, Flask, Bottle, and Zope support developers in the design and maintenance of complex applications. Pyjs and IronPython can be used to develop the client-side of Ajax-based applications. SQLAlchemy can be used as a data mapper to a relational database. Twisted is a framework to program communications between computers, and is used (for example) by Dropbox.\n",
    "\n",
    "Libraries such as NumPy, SciPy and Matplotlib allow the effective use of Python in scientific computing,[209][210] with specialized libraries such as Biopython and Astropy providing domain-specific functionality. SageMath is a computer algebra system with a notebook interface programmable in Python: its library covers many aspects of mathematics, including algebra, combinatorics, numerical mathematics, number theory, and calculus.[211] OpenCV has Python bindings with a rich set of features for computer vision and image processing.[212]\n",
    "\n",
    "Python is commonly used in artificial intelligence projects and machine learning projects with the help of libraries like TensorFlow, Keras, Pytorch, scikit-learn and the Logic language ProbLog.[213][214][215][216][217] As a scripting language with a modular architecture, simple syntax, and rich text processing tools, Python is often used for natural language processing.[218]\n",
    "\n",
    "The combination of Python and Prolog has proved to be particularly useful for AI applications, with Prolog providing knowledge representation and reasoning capabilities. The Janus system, in particular, exploits the similarities between these two languages, in part because of their use of dynamic typing, and the simple recursive nature of their data structures. Typical applications of this combination include natural language processing, visual query answering, geospatial reasoning, and handling of semantic web data.[219][220] The Natlog system, implemented in Python, uses Definite Clause Grammars (DCGs) as prompt generators for text-to-text generators like GPT3 and text-to-image generators like DALL-E or Stable Diffusion.[221]\n",
    "\n",
    "Python can also be used for graphical user interface (GUI) by using libraries like Tkinter.[222][223]\n",
    "\n",
    "Python has been successfully embedded in many software products as a scripting language, including in finite element method software such as Abaqus, 3D parametric modelers like FreeCAD, 3D animation packages such as 3ds Max, Blender, Cinema 4D, Lightwave, Houdini, Maya, modo, MotionBuilder, Softimage, the visual effects compositor Nuke, 2D imaging programs like GIMP,[224] Inkscape, Scribus and Paint Shop Pro,[225] and musical notation programs like scorewriter and capella. GNU Debugger uses Python as a pretty printer to show complex structures such as C++ containers. Esri promotes Python as the best choice for writing scripts in ArcGIS.[226] It has also been used in several video games,[227][228] and has been adopted as first of the three available programming languages in Google App Engine, the other two being Java and Go.[229]\n",
    "\n",
    "Many operating systems include Python as a standard component. It ships with most Linux distributions,[230] AmigaOS 4 (using Python 2.7), FreeBSD (as a package), NetBSD, and OpenBSD (as a package) and can be used from the command line (terminal). Many Linux distributions use installers written in Python: Ubuntu uses the Ubiquity installer, while Red Hat Linux and Fedora Linux use the Anaconda installer. Gentoo Linux uses Python in its package management system, Portage.\n",
    "\n",
    "Python is used extensively in the information security industry, including in exploit development.[231][232]\n",
    "\n",
    "Most of the Sugar software for the One Laptop per Child XO, developed at Sugar Labs as of 2008, is written in Python.[233] The Raspberry Pi single-board computer project has adopted Python as its main user-programming language.\n",
    "\n",
    "LibreOffice includes Python and intends to replace Java with Python. Its Python Scripting Provider is a core feature[234] since Version 4.0 from 7 February 2013.\n",
    "\n",
    "Languages influenced by Python\n",
    "Python's design and philosophy have influenced many other programming languages:\n",
    "\n",
    "Boo uses indentation, a similar syntax, and a similar object model.[235]\n",
    "Cobra uses indentation and a similar syntax, and its Acknowledgements document lists Python first among languages that influenced it.[236]\n",
    "CoffeeScript, a programming language that cross-compiles to JavaScript, has Python-inspired syntax.\n",
    "ECMAScript–JavaScript borrowed iterators and generators from Python.[237]\n",
    "GDScript, a scripting language very similar to Python, built-in to the Godot game engine.[238]\n",
    "Go is designed for the \"speed of working in a dynamic language like Python\"[239] and shares the same syntax for slicing arrays.\n",
    "Groovy was motivated by the desire to bring the Python design philosophy to Java.[240]\n",
    "Julia was designed to be \"as usable for general programming as Python\".[27]\n",
    "Mojo is a non-strict[28][241] superset of Python (e.g. still missing classes, and adding e.g. struct).[242]\n",
    "Nim uses indentation and similar syntax.[243]\n",
    "Ruby's creator, Yukihiro Matsumoto, has said: \"I wanted a scripting language that was more powerful than Perl, and more object-oriented than Python. That's why I decided to design my own language.\"[244]\n",
    "Swift, a programming language developed by Apple, has some Python-inspired syntax.[245]\n",
    "Kotlin blends Python and Java features, minimizing boilerplate code for enhanced developer efficiency.[246]\n",
    "Python's development practices have also been emulated by other languages. For example, the practice of requiring a document describing the rationale for, and issues surrounding, a change to the language (in Python, a PEP) is also used in Tcl,[247] Erlang,[248] and Swift.[249]\n",
    "\n",
    "See also\n",
    "icon\tComputer programming portal\n",
    "\tFree and open-source software portal\n",
    "Python syntax and semantics\n",
    "pip (package manager)\n",
    "List of programming languages\n",
    "History of programming languages\n",
    "Comparison of programming languages\n",
    "References\n",
    " \"General Python FAQ – Python 3 documentation\". docs.python.org. Retrieved 7 July 2024.\n",
    " \"Python 0.9.1 part 01/21\". alt.sources archives. Archived from the original on 11 August 2021. Retrieved 11 August 2021.\n",
    " \"Why is Python a dynamic language and also a strongly typed language\". Python Wiki. Archived from the original on 14 March 2021. Retrieved 27 January 2021.\n",
    " \"PEP 483 – The Theory of Type Hints\". Python.org. Archived from the original on 14 June 2020. Retrieved 14 June 2018.\n",
    " \"PEP 11 – CPython platform support | peps.python.org\". Python Enhancement Proposals (PEPs). Retrieved 22 April 2024.\n",
    " \"PEP 738 – Adding Android as a supported platform | peps.python.org\". Python Enhancement Proposals (PEPs). Retrieved 19 May 2024.\n",
    " \"Download Python for Other Platforms\". Python.org. Archived from the original on 27 November 2020. Retrieved 18 August 2023.\n",
    " \"test – Regression tests package for Python – Python 3.7.13 documentation\". docs.python.org. Archived from the original on 17 May 2022. Retrieved 17 May 2022.\n",
    " \"platform – Access to underlying platform's identifying data – Python 3.10.4 documentation\". docs.python.org. Archived from the original on 17 May 2022. Retrieved 17 May 2022.\n",
    " Holth, Moore (30 March 2014). \"PEP 0441 – Improving Python ZIP Application Support\". Archived from the original on 26 December 2018. Retrieved 12 November 2015.\n",
    " \"Starlark Language\". Archived from the original on 15 June 2020. Retrieved 25 May 2019.\n",
    " \"Why was Python created in the first place?\". General Python FAQ. Python Software Foundation. Archived from the original on 24 October 2012. Retrieved 22 March 2007. I had extensive experience with implementing an interpreted language in the ABC group at CWI, and from working with this group I had learned a lot about language design. This is the origin of many Python features, including the use of indentation for statement grouping and the inclusion of very high-level data types (although the details are all different in Python).\n",
    " \"Ada 83 Reference Manual (raise statement)\". Archived from the original on 22 October 2019. Retrieved 7 January 2020.\n",
    " Kuchling, Andrew M. (22 December 2006). \"Interview with Guido van Rossum (July 1998)\". amk.ca. Archived from the original on 1 May 2007. Retrieved 12 March 2012. I'd spent a summer at DEC's Systems Research Center, which introduced me to Modula-2+; the Modula-3 final report was being written there at about the same time. What I learned there later showed up in Python's exception handling, modules, and the fact that methods explicitly contain 'self' in their parameter list. String slicing came from Algol-68 and Icon.\n",
    " \"itertools – Functions creating iterators for efficient looping – Python 3.7.1 documentation\". docs.python.org. Archived from the original on 14 June 2020. Retrieved 22 November 2016. This module implements a number of iterator building blocks inspired by constructs from APL, Haskell, and SML.\n",
    " van Rossum, Guido (1993). \"An Introduction to Python for UNIX/C Programmers\". Proceedings of the NLUUG Najaarsconferentie (Dutch UNIX Users Group). CiteSeerX 10.1.1.38.2023. even though the design of C is far from ideal, its influence on Python is considerable.\n",
    " \"Classes\". The Python Tutorial. Python Software Foundation. Archived from the original on 23 October 2012. Retrieved 20 February 2012. It is a mixture of the class mechanisms found in C++ and Modula-3\n",
    " Lundh, Fredrik. \"Call By Object\". effbot.org. Archived from the original on 23 November 2019. Retrieved 21 November 2017. replace \"CLU\" with \"Python\", \"record\" with \"instance\", and \"procedure\" with \"function or method\", and you get a pretty accurate description of Python's object model.\n",
    " Simionato, Michele. \"The Python 2.3 Method Resolution Order\". Python Software Foundation. Archived from the original on 20 August 2020. Retrieved 29 July 2014. The C3 method itself has nothing to do with Python, since it was invented by people working on Dylan and it is described in a paper intended for lispers\n",
    " Kuchling, A. M. \"Functional Programming HOWTO\". Python v2.7.2 documentation. Python Software Foundation. Archived from the original on 24 October 2012. Retrieved 9 February 2012. List comprehensions and generator expressions [...] are a concise notation for such operations, borrowed from the functional programming language Haskell.\n",
    " Schemenauer, Neil; Peters, Tim; Hetland, Magnus Lie (18 May 2001). \"PEP 255 – Simple Generators\". Python Enhancement Proposals. Python Software Foundation. Archived from the original on 5 June 2020. Retrieved 9 February 2012.\n",
    " \"More Control Flow Tools\". Python 3 documentation. Python Software Foundation. Archived from the original on 4 June 2016. Retrieved 24 July 2015. By popular demand, a few features commonly found in functional programming languages like Lisp have been added to Python. With the lambda keyword, small anonymous functions can be created.\n",
    " \"re – Regular expression operations – Python 3.10.6 documentation\". docs.python.org. Archived from the original on 18 July 2018. Retrieved 6 September 2022. This module provides regular expression matching operations similar to those found in Perl.\n",
    " \"CoffeeScript\". coffeescript.org. Archived from the original on 12 June 2020. Retrieved 3 July 2018.\n",
    " \"Perl and Python influences in JavaScript\". www.2ality.com. 24 February 2013. Archived from the original on 26 December 2018. Retrieved 15 May 2015.\n",
    " Rauschmayer, Axel. \"Chapter 3: The Nature of JavaScript; Influences\". O'Reilly, Speaking JavaScript. Archived from the original on 26 December 2018. Retrieved 15 May 2015.\n",
    " \"Why We Created Julia\". Julia website. February 2012. Archived from the original on 2 May 2020. Retrieved 5 June 2014. We want something as usable for general programming as Python [...]\n",
    " Krill, Paul (4 May 2023). \"Mojo language marries Python and MLIR for AI development\". InfoWorld. Archived from the original on 5 May 2023. Retrieved 5 May 2023.\n",
    " Ring Team (4 December 2017). \"Ring and other languages\". ring-lang.net. ring-lang. Archived from the original on 25 December 2018. Retrieved 4 December 2017.\n",
    " Bini, Ola (2007). Practical JRuby on Rails Web 2.0 Projects: bringing Ruby on Rails to the Java platform. Berkeley: APress. p. 3. ISBN 978-1-59059-881-8.\n",
    " Lattner, Chris (3 June 2014). \"Chris Lattner's Homepage\". Chris Lattner. Archived from the original on 25 December 2018. Retrieved 3 June 2014. The Swift language is the product of tireless effort from a team of language experts, documentation gurus, compiler optimization ninjas, and an incredibly important internal dogfooding group who provided feedback to help refine and battle-test ideas. Of course, it also greatly benefited from the experiences hard-won by many other languages in the field, drawing ideas from Objective-C, Rust, Haskell, Ruby, Python, C#, CLU, and far too many others to list.\n",
    " Kuhlman, Dave. \"A Python Book: Beginning Python, Advanced Python, and Python Exercises\". Section 1.1. Archived from the original (PDF) on 23 June 2012.\n",
    " \"About Python\". Python Software Foundation. Archived from the original on 20 April 2012. Retrieved 24 April 2012., second section \"Fans of Python use the phrase \"batteries included\" to describe the standard library, which covers everything from asynchronous processing to zip files.\"\n",
    " \"PEP 206 – Python Advanced Library\". Python.org. Archived from the original on 5 May 2021. Retrieved 11 October 2021.\n",
    " Rossum, Guido Van (20 January 2009). \"The History of Python: A Brief Timeline of Python\". The History of Python. Archived from the original on 5 June 2020. Retrieved 5 March 2021.\n",
    " Peterson, Benjamin (20 April 2020). \"Python 2.7.18, the last release of Python 2\". Python Insider. Archived from the original on 26 April 2020. Retrieved 27 April 2020.\n",
    " \"Stack Overflow Developer Survey 2022\". Stack Overflow. Archived from the original on 27 June 2022. Retrieved 12 August 2022.\n",
    " \"The State of Developer Ecosystem in 2020 Infographic\". JetBrains: Developer Tools for Professionals and Teams. Archived from the original on 1 March 2021. Retrieved 5 March 2021.\n",
    " \"TIOBE Index\". TIOBE. Archived from the original on 25 February 2018. Retrieved 3 January 2023. The TIOBE Programming Community index is an indicator of the popularity of programming languages Updated as required.\n",
    " \"PYPL PopularitY of Programming Language index\". pypl.github.io. Archived from the original on 14 March 2017. Retrieved 26 March 2021.\n",
    " Venners, Bill (13 January 2003). \"The Making of Python\". Artima Developer. Artima. Archived from the original on 1 September 2016. Retrieved 22 March 2007.\n",
    " van Rossum, Guido (29 August 2000). \"SETL (was: Lukewarm about range literals)\". Python-Dev (Mailing list). Archived from the original on 14 July 2018. Retrieved 13 March 2011.\n",
    " van Rossum, Guido (20 January 2009). \"A Brief Timeline of Python\". The History of Python. Archived from the original on 5 June 2020. Retrieved 20 January 2009.\n",
    " Fairchild, Carlie (12 July 2018). \"Guido van Rossum Stepping Down from Role as Python's Benevolent Dictator For Life\". Linux Journal. Archived from the original on 13 July 2018. Retrieved 13 July 2018.\n",
    " \"PEP 8100\". Python Software Foundation. Archived from the original on 4 June 2020. Retrieved 4 May 2019.\n",
    " \"PEP 13 – Python Language Governance\". Python.org. Archived from the original on 27 May 2021. Retrieved 25 August 2021.\n",
    " Kuchling, A. M.; Zadka, Moshe (16 October 2000). \"What's New in Python 2.0\". Python Software Foundation. Archived from the original on 23 October 2012. Retrieved 11 February 2012.\n",
    " van Rossum, Guido (5 April 2006). \"PEP 3000 – Python 3000\". Python Enhancement Proposals. Python Software Foundation. Archived from the original on 3 March 2016. Retrieved 27 June 2009.\n",
    " \"2to3 – Automated Python 2 to 3 code translation\". docs.python.org. Archived from the original on 4 June 2020. Retrieved 2 February 2021.\n",
    " \"PEP 373 – Python 2.7 Release Schedule\". python.org. Archived from the original on 19 May 2020. Retrieved 9 January 2017.\n",
    " \"PEP 466 – Network Security Enhancements for Python 2.7.x\". python.org. Archived from the original on 4 June 2020. Retrieved 9 January 2017.\n",
    " \"Sunsetting Python 2\". Python.org. Archived from the original on 12 January 2020. Retrieved 22 September 2019.\n",
    " \"PEP 373 – Python 2.7 Release Schedule\". Python.org. Archived from the original on 13 January 2020. Retrieved 22 September 2019.\n",
    " \"Python Release Python 3.7.17\". Python.org. Archived from the original on 31 July 2023. Retrieved 18 August 2023.\n",
    " mattip (25 December 2023). \"PyPy v7.3.14 release\". PyPy. Archived from the original on 5 January 2024. Retrieved 5 January 2024.\n",
    " \"CVE-2021-3177\". Red Hat Customer Portal. Archived from the original on 6 March 2021. Retrieved 26 February 2021.\n",
    " \"CVE-2021-3177\". CVE. Archived from the original on 27 February 2021. Retrieved 26 February 2021.\n",
    " \"CVE-2021-23336\". CVE. Archived from the original on 24 February 2021. Retrieved 26 February 2021.\n",
    " Langa, Łukasz (24 March 2022). \"Python 3.10.4 and 3.9.12 are now available out of schedule\". Python Insider. Archived from the original on 21 April 2022. Retrieved 19 April 2022.\n",
    " Langa, Łukasz (16 March 2022). \"Python 3.10.3, 3.9.11, 3.8.13, and 3.7.13 are now available with security content\". Python Insider. Archived from the original on 17 April 2022. Retrieved 19 April 2022.\n",
    " Langa, Łukasz (17 May 2022). \"Python 3.9.13 is now available\". Python Insider. Archived from the original on 17 May 2022. Retrieved 21 May 2022.\n",
    " Langa, Łukasz (7 September 2022). \"Python releases 3.10.7, 3.9.14, 3.8.14, and 3.7.14 are now available\". Python Insider. Archived from the original on 13 September 2022. Retrieved 16 September 2022.\n",
    " \"CVE-2020-10735\". CVE. Archived from the original on 20 September 2022. Retrieved 16 September 2022.\n",
    " \"Built-in Types\".\n",
    " corbet (24 October 2022). \"Python 3.11 released [LWN.net]\". lwn.net. Retrieved 15 November 2022.\n",
    " \"What's New In Python 3.13\". Python documentation. Retrieved 30 April 2024.\n",
    " \"PEP 667 – Consistent views of namespaces | peps.python.org\". Python Enhancement Proposals (PEPs). Retrieved 7 October 2024.\n",
    " \"Status of Python versions\". Python Developer's Guide. Retrieved 7 October 2024.\n",
    " Wouters, Thomas (9 April 2024). \"Python Insider: Python 3.12.3 and 3.13.0a6 released\". Python Insider. Retrieved 29 April 2024.\n",
    " \"PEP 594 – Removing dead batteries from the standard library\". Python Enhancement Proposals. Python Softtware Foundation. 20 May 2019.\n",
    " The Cain Gang Ltd. \"Python Metaclasses: Who? Why? When?\" (PDF). Archived from the original (PDF) on 30 May 2009. Retrieved 27 June 2009.\n",
    " \"3.3. Special method names\". The Python Language Reference. Python Software Foundation. Archived from the original on 15 December 2018. Retrieved 27 June 2009.\n",
    " \"PyDBC: method preconditions, method postconditions and class invariants for Python\". Archived from the original on 23 November 2019. Retrieved 24 September 2011.\n",
    " \"Contracts for Python\". Archived from the original on 15 June 2020. Retrieved 24 September 2011.\n",
    " \"PyDatalog\". Archived from the original on 13 June 2020. Retrieved 22 July 2012.\n",
    " \"Glue It All Together With Python\". Python.org. Retrieved 30 September 2024.\n",
    " \"Extending and Embedding the Python Interpreter: Reference Counts\". Docs.python.org. Archived from the original on 18 October 2012. Retrieved 5 June 2020. Since Python makes heavy use of malloc() and free(), it needs a strategy to avoid memory leaks as well as the use of freed memory. The chosen method is called reference counting.\n",
    " Hettinger, Raymond (30 January 2002). \"PEP 289 – Generator Expressions\". Python Enhancement Proposals. Python Software Foundation. Archived from the original on 14 June 2020. Retrieved 19 February 2012.\n",
    " \"6.5 itertools – Functions creating iterators for efficient looping\". Docs.python.org. Archived from the original on 14 June 2020. Retrieved 22 November 2016.\n",
    " Peters, Tim (19 August 2004). \"PEP 20 – The Zen of Python\". Python Enhancement Proposals. Python Software Foundation. Archived from the original on 26 December 2018. Retrieved 24 November 2008.\n",
    " Lutz, Mark (January 2022). \"Python Changes 2014+\". Learning Python. Archived from the original on 15 March 2024. Retrieved 25 February 2024.\n",
    " \"Confusion regarding a rule in The Zen of Python\". Python Help - Discussions on Python.org. 3 May 2022. Archived from the original on 25 February 2024. Retrieved 25 February 2024.\n",
    " Ambi, Chetan (4 July 2021). \"The Most Controversial Python Walrus Operator\". Python Simplified. Archived from the original on 27 August 2023. Retrieved 5 February 2024.\n",
    " Grifski, Jeremy (24 May 2020). \"The Controversy Behind The Walrus Operator in Python\". The Renegade Coder. Archived from the original on 28 December 2023. Retrieved 25 February 2024.\n",
    " Bader, Dan. \"Python String Formatting Best Practices\". Real Python. Archived from the original on 18 February 2024. Retrieved 25 February 2024.\n",
    " Martelli, Alex; Ravenscroft, Anna; Ascher, David (2005). Python Cookbook, 2nd Edition. O'Reilly Media. p. 230. ISBN 978-0-596-00797-3. Archived from the original on 23 February 2020. Retrieved 14 November 2015.\n",
    " \"Python Culture\". ebeab. 21 January 2014. Archived from the original on 30 January 2014.\n",
    " \"Transpiling Python to Julia using PyJL\" (PDF). Archived (PDF) from the original on 19 November 2023. Retrieved 20 September 2023. After manually modifying one line of code by specifying the necessary type information, we obtained a speedup of 52.6×, making the translated Julia code 19.5× faster than the original Python code.\n",
    " \"Why is it called Python?\". General Python FAQ. Docs.python.org. Archived from the original on 24 October 2012. Retrieved 3 January 2023.\n",
    " \"15 Ways Python Is a Powerful Force on the Web\". Archived from the original on 11 May 2019. Retrieved 3 July 2018.\n",
    " \"pprint – Data pretty printer – Python 3.11.0 documentation\". docs.python.org. Archived from the original on 22 January 2021. Retrieved 5 November 2022. stuff=['spam', 'eggs', 'lumberjack', 'knights', 'ni']\n",
    " \"Code Style – The Hitchhiker's Guide to Python\". docs.python-guide.org. Archived from the original on 27 January 2021. Retrieved 20 January 2021.\n",
    " \"Is Python a good language for beginning programmers?\". General Python FAQ. Python Software Foundation. Archived from the original on 24 October 2012. Retrieved 21 March 2007.\n",
    " \"Myths about indentation in Python\". Secnetix.de. Archived from the original on 18 February 2018. Retrieved 19 April 2011.\n",
    " Guttag, John V. (12 August 2016). Introduction to Computation and Programming Using Python: With Application to Understanding Data. MIT Press. ISBN 978-0-262-52962-4.\n",
    " \"PEP 8 – Style Guide for Python Code\". Python.org. Archived from the original on 17 April 2019. Retrieved 26 March 2019.\n",
    " \"8. Errors and Exceptions – Python 3.12.0a0 documentation\". docs.python.org. Archived from the original on 9 May 2022. Retrieved 9 May 2022.\n",
    " \"Highlights: Python 2.5\". Python.org. Archived from the original on 4 August 2019. Retrieved 20 March 2018.\n",
    " van Rossum, Guido (22 April 2009). \"Tail Recursion Elimination\". Neopythonic.blogspot.be. Archived from the original on 19 May 2018. Retrieved 3 December 2012.\n",
    " van Rossum, Guido (9 February 2006). \"Language Design Is Not Just Solving Puzzles\". Artima forums. Artima. Archived from the original on 17 January 2020. Retrieved 21 March 2007.\n",
    " van Rossum, Guido; Eby, Phillip J. (10 May 2005). \"PEP 342 – Coroutines via Enhanced Generators\". Python Enhancement Proposals. Python Software Foundation. Archived from the original on 29 May 2020. Retrieved 19 February 2012.\n",
    " \"PEP 380\". Python.org. Archived from the original on 4 June 2020. Retrieved 3 December 2012.\n",
    " \"division\". python.org. Archived from the original on 20 July 2006. Retrieved 30 July 2014.\n",
    " \"PEP 0465 – A dedicated infix operator for matrix multiplication\". python.org. Archived from the original on 4 June 2020. Retrieved 1 January 2016.\n",
    " \"Python 3.5.1 Release and Changelog\". python.org. Archived from the original on 14 May 2020. Retrieved 1 January 2016.\n",
    " \"What's New in Python 3.8\". Archived from the original on 8 June 2020. Retrieved 14 October 2019.\n",
    " van Rossum, Guido; Hettinger, Raymond (7 February 2003). \"PEP 308 – Conditional Expressions\". Python Enhancement Proposals. Python Software Foundation. Archived from the original on 13 March 2016. Retrieved 13 July 2011.\n",
    " \"4. Built-in Types – Python 3.6.3rc1 documentation\". python.org. Archived from the original on 14 June 2020. Retrieved 1 October 2017.\n",
    " \"5.3. Tuples and Sequences – Python 3.7.1rc2 documentation\". python.org. Archived from the original on 10 June 2020. Retrieved 17 October 2018.\n",
    " \"PEP 498 – Literal String Interpolation\". python.org. Archived from the original on 15 June 2020. Retrieved 8 March 2017.\n",
    " \"Why must 'self' be used explicitly in method definitions and calls?\". Design and History FAQ. Python Software Foundation. Archived from the original on 24 October 2012. Retrieved 19 February 2012.\n",
    " Sweigart, Al (2020). Beyond the Basic Stuff with Python: Best Practices for Writing Clean Code. No Starch Press. p. 322. ISBN 978-1-59327-966-0. Archived from the original on 13 August 2021. Retrieved 7 July 2021.\n",
    " \"The Python Language Reference, section 3.3. New-style and classic classes, for release 2.7.1\". Archived from the original on 26 October 2012. Retrieved 12 January 2011.\n",
    " \"PEP 484 – Type Hints | peps.python.org\". peps.python.org. Archived from the original on 27 November 2023. Retrieved 29 November 2023.\n",
    " \"typing — Support for type hints\". Python documentation. Python Software Foundation. Archived from the original on 21 February 2020. Retrieved 22 December 2023.\n",
    " \"mypy – Optional Static Typing for Python\". Archived from the original on 6 June 2020. Retrieved 28 January 2017.\n",
    " \"Introduction\". mypyc.readthedocs.io. Archived from the original on 22 December 2023. Retrieved 22 December 2023.\n",
    " \"15. Floating Point Arithmetic: Issues and Limitations – Python 3.8.3 documentation\". docs.python.org. Archived from the original on 6 June 2020. Retrieved 6 June 2020. Almost all machines today (November 2000) use IEEE-754 floating point arithmetic, and almost all platforms map Python floats to IEEE-754 \"double precision\".\n",
    " Zadka, Moshe; van Rossum, Guido (11 March 2001). \"PEP 237 – Unifying Long Integers and Integers\". Python Enhancement Proposals. Python Software Foundation. Archived from the original on 28 May 2020. Retrieved 24 September 2011.\n",
    " \"Built-in Types\". Archived from the original on 14 June 2020. Retrieved 3 October 2019.\n",
    " \"PEP 465 – A dedicated infix operator for matrix multiplication\". python.org. Archived from the original on 29 May 2020. Retrieved 3 July 2018.\n",
    " Zadka, Moshe; van Rossum, Guido (11 March 2001). \"PEP 238 – Changing the Division Operator\". Python Enhancement Proposals. Python Software Foundation. Archived from the original on 28 May 2020. Retrieved 23 October 2013.\n",
    " \"Why Python's Integer Division Floors\". 24 August 2010. Archived from the original on 5 June 2020. Retrieved 25 August 2010.\n",
    " \"round\", The Python standard library, release 3.2, §2: Built-in functions, archived from the original on 25 October 2012, retrieved 14 August 2011\n",
    " \"round\", The Python standard library, release 2.7, §2: Built-in functions, archived from the original on 27 October 2012, retrieved 14 August 2011\n",
    " Beazley, David M. (2009). Python Essential Reference (4th ed.). Addison-Wesley Professional. p. 66. ISBN 9780672329784.\n",
    " Kernighan, Brian W.; Ritchie, Dennis M. (1988). The C Programming Language (2nd ed.). p. 206.\n",
    " Batista, Facundo (17 October 2003). \"PEP 327 – Decimal Data Type\". Python Enhancement Proposals. Python Software Foundation. Archived from the original on 4 June 2020. Retrieved 24 November 2008.\n",
    " \"What's New in Python 2.6\". Python v2.6.9 documentation. 29 October 2013. Archived from the original on 23 December 2019. Retrieved 26 September 2015.\n",
    " \"10 Reasons Python Rocks for Research (And a Few Reasons it Doesn't) – Hoyt Koepke\". University of Washington Department of Statistics. Archived from the original on 31 May 2020. Retrieved 3 February 2019.\n",
    " Shell, Scott (17 June 2014). \"An introduction to Python for scientific computing\" (PDF). Archived (PDF) from the original on 4 February 2019. Retrieved 3 February 2019.\n",
    " Piotrowski, Przemyslaw (July 2006). \"Build a Rapid Web Development Environment for Python Server Pages and Oracle\". Oracle Technology Network. Oracle. Archived from the original on 2 April 2019. Retrieved 12 March 2012.\n",
    " Eby, Phillip J. (7 December 2003). \"PEP 333 – Python Web Server Gateway Interface v1.0\". Python Enhancement Proposals. Python Software Foundation. Archived from the original on 14 June 2020. Retrieved 19 February 2012.\n",
    " \"PyPI\". PyPI. 17 March 2024. Archived from the original on 17 March 2024.\n",
    " Enthought, Canopy. \"Canopy\". www.enthought.com. Archived from the original on 15 July 2017. Retrieved 20 August 2016.\n",
    " \"PEP 7 – Style Guide for C Code | peps.python.org\". peps.python.org. Archived from the original on 24 April 2022. Retrieved 28 April 2022.\n",
    " \"4. Building C and C++ Extensions – Python 3.9.2 documentation\". docs.python.org. Archived from the original on 3 March 2021. Retrieved 1 March 2021.\n",
    " van Rossum, Guido (5 June 2001). \"PEP 7 – Style Guide for C Code\". Python Enhancement Proposals. Python Software Foundation. Archived from the original on 1 June 2020. Retrieved 24 November 2008.\n",
    " \"CPython byte code\". Docs.python.org. Archived from the original on 5 June 2020. Retrieved 16 February 2016.\n",
    " \"Python 2.5 internals\" (PDF). Archived (PDF) from the original on 6 August 2012. Retrieved 19 April 2011.\n",
    " \"Changelog – Python 3.9.0 documentation\". docs.python.org. Archived from the original on 7 February 2021. Retrieved 8 February 2021.\n",
    " \"Download Python\". Python.org. Archived from the original on 8 December 2020. Retrieved 13 December 2020.\n",
    " \"history [vmspython]\". www.vmspython.org. Archived from the original on 2 December 2020. Retrieved 4 December 2020.\n",
    " \"An Interview with Guido van Rossum\". Oreilly.com. Archived from the original on 16 July 2014. Retrieved 24 November 2008.\n",
    " \"Download Python for Other Platforms\". Python.org. Archived from the original on 27 November 2020. Retrieved 4 December 2020.\n",
    " \"PyPy compatibility\". Pypy.org. Archived from the original on 6 June 2020. Retrieved 3 December 2012.\n",
    " Team, The PyPy (28 December 2019). \"Download and Install\". PyPy. Archived from the original on 8 January 2022. Retrieved 8 January 2022.\n",
    " \"speed comparison between CPython and Pypy\". Speed.pypy.org. Archived from the original on 10 May 2021. Retrieved 3 December 2012.\n",
    " \"Codon: Differences with Python\". Archived from the original on 25 May 2023. Retrieved 28 August 2023.\n",
    " Lawson, Loraine (14 March 2023). \"MIT-Created Compiler Speeds up Python Code\". The New Stack. Archived from the original on 6 April 2023. Retrieved 28 August 2023.\n",
    " \"Application-level Stackless features – PyPy 2.0.2 documentation\". Doc.pypy.org. Archived from the original on 4 June 2020. Retrieved 17 July 2013.\n",
    " \"Python-for-EV3\". LEGO Education. Archived from the original on 7 June 2020. Retrieved 17 April 2019.\n",
    " Yegulalp, Serdar (29 October 2020). \"Pyston returns from the dead to speed Python\". InfoWorld. Archived from the original on 27 January 2021. Retrieved 26 January 2021.\n",
    " \"cinder: Instagram's performance-oriented fork of CPython\". GitHub. Archived from the original on 4 May 2021. Retrieved 4 May 2021.\n",
    " Aroca, Rafael (7 August 2021). \"Snek Lang: feels like Python on Arduinos\". Yet Another Technology Blog. Archived from the original on 5 January 2024. Retrieved 4 January 2024.\n",
    " Aufranc (CNXSoft), Jean-Luc (16 January 2020). \"Snekboard Controls LEGO Power Functions with CircuitPython or Snek Programming Languages (Crowdfunding) – CNX Software\". CNX Software – Embedded Systems News. Archived from the original on 5 January 2024. Retrieved 4 January 2024.\n",
    " Kennedy (@mkennedy), Michael. \"Ready to find out if you're git famous?\". pythonbytes.fm. Archived from the original on 5 January 2024. Retrieved 4 January 2024.\n",
    " Packard, Keith (20 December 2022). \"The Snek Programming Language: A Python-inspired Embedded Computing Language\" (PDF). Archived (PDF) from the original on 4 January 2024. Retrieved 4 January 2024.\n",
    " \"Plans for optimizing Python\". Google Project Hosting. 15 December 2009. Archived from the original on 11 April 2016. Retrieved 24 September 2011.\n",
    " \"Python on the Nokia N900\". Stochastic Geometry. 29 April 2010. Archived from the original on 20 June 2019. Retrieved 9 July 2015.\n",
    " \"Brython\". brython.info. Archived from the original on 3 August 2018. Retrieved 21 January 2021.\n",
    " \"Transcrypt – Python in the browser\". transcrypt.org. Archived from the original on 19 August 2018. Retrieved 22 December 2020.\n",
    " \"Transcrypt: Anatomy of a Python to JavaScript Compiler\". InfoQ. Archived from the original on 5 December 2020. Retrieved 20 January 2021.\n",
    " \"Nuitka Home | Nuitka Home\". nuitka.net. Archived from the original on 30 May 2020. Retrieved 18 August 2017.\n",
    " Guelton, Serge; Brunet, Pierrick; Amini, Mehdi; Merlini, Adrien; Corbillon, Xavier; Raynaud, Alan (16 March 2015). \"Pythran: enabling static optimization of scientific Python programs\". Computational Science & Discovery. 8 (1). IOP Publishing: 014001. Bibcode:2015CS&D....8a4001G. doi:10.1088/1749-4680/8/1/014001. ISSN 1749-4699.\n",
    " \"The Python → 11l → C++ transpiler\". Archived from the original on 24 September 2022. Retrieved 17 July 2022.\n",
    " \"google/grumpy\". 10 April 2020. Archived from the original on 15 April 2020. Retrieved 25 March 2020 – via GitHub.\n",
    " \"Projects\". opensource.google. Archived from the original on 24 April 2020. Retrieved 25 March 2020.\n",
    " Francisco, Thomas Claburn in San. \"Google's Grumpy code makes Python Go\". www.theregister.com. Archived from the original on 7 March 2021. Retrieved 20 January 2021.\n",
    " \"GitHub – IronLanguages/ironpython3: Implementation of Python 3.x for .NET Framework that is built on top of the Dynamic Language Runtime\". GitHub. Archived from the original on 28 September 2021.\n",
    " \"IronPython.net /\". ironpython.net. Archived from the original on 17 April 2021.\n",
    " \"Jython FAQ\". www.jython.org. Archived from the original on 22 April 2021. Retrieved 22 April 2021.\n",
    " Murri, Riccardo (2013). Performance of Python runtimes on a non-numeric scientific code. European Conference on Python in Science (EuroSciPy). arXiv:1404.6388. Bibcode:2014arXiv1404.6388M.\n",
    " \"The Computer Language Benchmarks Game\". Archived from the original on 14 June 2020. Retrieved 30 April 2020.\n",
    " Warsaw, Barry; Hylton, Jeremy; Goodger, David (13 June 2000). \"PEP 1 – PEP Purpose and Guidelines\". Python Enhancement Proposals. Python Software Foundation. Archived from the original on 6 June 2020. Retrieved 19 April 2011.\n",
    " \"PEP 8 – Style Guide for Python Code\". Python.org. Archived from the original on 17 April 2019. Retrieved 26 March 2019.\n",
    " Cannon, Brett. \"Guido, Some Guys, and a Mailing List: How Python is Developed\". python.org. Python Software Foundation. Archived from the original on 1 June 2009. Retrieved 27 June 2009.\n",
    " \"Moving Python's bugs to GitHub [LWN.net]\". Archived from the original on 2 October 2022. Retrieved 2 October 2022.\n",
    " \"Python Developer's Guide – Python Developer's Guide\". devguide.python.org. Archived from the original on 9 November 2020. Retrieved 17 December 2019.\n",
    " Hughes, Owen (24 May 2021). \"Programming languages: Why Python 4.0 might never arrive, according to its creator\". TechRepublic. Archived from the original on 14 July 2022. Retrieved 16 May 2022.\n",
    " \"PEP 602 – Annual Release Cycle for Python\". Python.org. Archived from the original on 14 June 2020. Retrieved 6 November 2019.\n",
    " \"Changing the Python release cadence [LWN.net]\". lwn.net. Archived from the original on 6 November 2019. Retrieved 6 November 2019.\n",
    " Norwitz, Neal (8 April 2002). \"[Python-Dev] Release Schedules (was Stability & change)\". Archived from the original on 15 December 2018. Retrieved 27 June 2009.\n",
    " Aahz; Baxter, Anthony (15 March 2001). \"PEP 6 – Bug Fix Releases\". Python Enhancement Proposals. Python Software Foundation. Archived from the original on 5 June 2020. Retrieved 27 June 2009.\n",
    " \"Python Buildbot\". Python Developer's Guide. Python Software Foundation. Archived from the original on 5 June 2020. Retrieved 24 September 2011.\n",
    " \"1. Extending Python with C or C++ – Python 3.9.1 documentation\". docs.python.org. Archived from the original on 23 June 2020. Retrieved 14 February 2021.\n",
    " \"PEP 623 – Remove wstr from Unicode\". Python.org. Archived from the original on 5 March 2021. Retrieved 14 February 2021.\n",
    " \"PEP 634 – Structural Pattern Matching: Specification\". Python.org. Archived from the original on 6 May 2021. Retrieved 14 February 2021.\n",
    " \"Documentation Tools\". Python.org. Archived from the original on 11 November 2020. Retrieved 22 March 2021.\n",
    " \"Whetting Your Appetite\". The Python Tutorial. Python Software Foundation. Archived from the original on 26 October 2012. Retrieved 20 February 2012.\n",
    " \"In Python, should I use else after a return in an if block?\". Stack Overflow. Stack Exchange. 17 February 2011. Archived from the original on 20 June 2019. Retrieved 6 May 2011.\n",
    " Lutz, Mark (2009). Learning Python: Powerful Object-Oriented Programming. O'Reilly Media, Inc. p. 17. ISBN 9781449379322. Archived from the original on 17 July 2017. Retrieved 9 May 2017.\n",
    " Fehily, Chris (2002). Python. Peachpit Press. p. xv. ISBN 9780201748840. Archived from the original on 17 July 2017. Retrieved 9 May 2017.\n",
    " Lubanovic, Bill (2014). Introducing Python. Sebastopol, CA : O'Reilly Media. p. 305. ISBN 978-1-4493-5936-2. Retrieved 31 July 2023.\n",
    " Blake, Troy (18 January 2021). \"TIOBE Index for January 2021\". Technology News and Information by SeniorDBA. Archived from the original on 21 March 2021. Retrieved 26 February 2021.\n",
    " \"Quotes about Python\". Python Software Foundation. Archived from the original on 3 June 2020. Retrieved 8 January 2012.\n",
    " \"Organizations Using Python\". Python Software Foundation. Archived from the original on 21 August 2018. Retrieved 15 January 2009.\n",
    " \"Python : the holy grail of programming\". CERN Bulletin (31/2006). CERN Publications. 31 July 2006. Archived from the original on 15 January 2013. Retrieved 11 February 2012.\n",
    " Shafer, Daniel G. (17 January 2003). \"Python Streamlines Space Shuttle Mission Design\". Python Software Foundation. Archived from the original on 5 June 2020. Retrieved 24 November 2008.\n",
    " \"Tornado: Facebook's Real-Time Web Framework for Python – Facebook for Developers\". Facebook for Developers. Archived from the original on 19 February 2019. Retrieved 19 June 2018.\n",
    " \"What Powers Instagram: Hundreds of Instances, Dozens of Technologies\". Instagram Engineering. 11 December 2016. Archived from the original on 15 June 2020. Retrieved 27 May 2019.\n",
    " \"How we use Python at Spotify\". Spotify Labs. 20 March 2013. Archived from the original on 10 June 2020. Retrieved 25 July 2018.\n",
    " Fortenberry, Tim (17 January 2003). \"Industrial Light & Magic Runs on Python\". Python Software Foundation. Archived from the original on 6 June 2020. Retrieved 11 February 2012.\n",
    " Taft, Darryl K. (5 March 2007). \"Python Slithers into Systems\". eWeek.com. Ziff Davis Holdings. Archived from the original on 13 August 2021. Retrieved 24 September 2011.\n",
    " GitHub – reddit-archive/reddit: historical code from reddit.com., The Reddit Archives, archived from the original on 1 June 2020, retrieved 20 March 2019\n",
    " \"Real time communication at scale with Elixir at Discord\". 8 October 2020.\n",
    " \"What Programming Language is Baidu Built In?\". 5 July 2018.\n",
    " \"Usage statistics and market share of Python for websites\". 2012. Archived from the original on 13 August 2021. Retrieved 18 December 2012.\n",
    " Oliphant, Travis (2007). \"Python for Scientific Computing\". Computing in Science and Engineering. 9 (3): 10–20. Bibcode:2007CSE.....9c..10O. CiteSeerX 10.1.1.474.6460. doi:10.1109/MCSE.2007.58. ISSN 1521-9615. S2CID 206457124. Archived from the original on 15 June 2020. Retrieved 10 April 2015.\n",
    " Millman, K. Jarrod; Aivazis, Michael (2011). \"Python for Scientists and Engineers\". Computing in Science and Engineering. 13 (2): 9–12. Bibcode:2011CSE....13b...9M. doi:10.1109/MCSE.2011.36. Archived from the original on 19 February 2019. Retrieved 7 July 2014.\n",
    " Science education with SageMath, Innovative Computing in Science Education, archived from the original on 15 June 2020, retrieved 22 April 2019\n",
    " \"OpenCV: OpenCV-Python Tutorials\". docs.opencv.org. Archived from the original on 23 September 2020. Retrieved 14 September 2020.\n",
    " Dean, Jeff; Monga, Rajat; et al. (9 November 2015). \"TensorFlow: Large-scale machine learning on heterogeneous systems\" (PDF). TensorFlow.org. Google Research. Archived (PDF) from the original on 20 November 2015. Retrieved 10 November 2015.\n",
    " Piatetsky, Gregory. \"Python eats away at R: Top Software for Analytics, Data Science, Machine Learning in 2018: Trends and Analysis\". KDnuggets. Archived from the original on 15 November 2019. Retrieved 30 May 2018.\n",
    " \"Who is using scikit-learn? – scikit-learn 0.20.1 documentation\". scikit-learn.org. Archived from the original on 6 May 2020. Retrieved 30 November 2018.\n",
    " Jouppi, Norm. \"Google supercharges machine learning tasks with TPU custom chip\". Google Cloud Platform Blog. Archived from the original on 18 May 2016. Retrieved 19 May 2016.\n",
    " De Raedt, Luc; Kimmig, Angelika (2015). \"Probabilistic (logic) programming concepts\". Machine Learning. 100 (1): 5–47. doi:10.1007/s10994-015-5494-z. S2CID 3166992.\n",
    " \"Natural Language Toolkit – NLTK 3.5b1 documentation\". www.nltk.org. Archived from the original on 13 June 2020. Retrieved 10 April 2020.\n",
    " Andersen, C. and Swift, T., 2023. The Janus System: a bridge to new prolog applications. In Prolog: The Next 50 Years (pp. 93–104). Cham: Springer Nature Switzerland.\n",
    " \"SWI-Prolog Python interface\". Archived from the original on 15 March 2024. Retrieved 15 March 2024.\n",
    " Tarau, P., 2023. Reflections on automation, learnability and expressiveness in logic-based programming languages. In Prolog: The Next 50 Years (pp. 359–371). Cham: Springer Nature Switzerland.\n",
    " \"Tkinter — Python interface to TCL/Tk\". Archived from the original on 18 October 2012. Retrieved 9 June 2023.\n",
    " \"Python Tkinter Tutorial\". 3 June 2020. Archived from the original on 9 June 2023. Retrieved 9 June 2023.\n",
    " \"Installers for GIMP for Windows – Frequently Asked Questions\". 26 July 2013. Archived from the original on 17 July 2013. Retrieved 26 July 2013.\n",
    " \"jasc psp9components\". Archived from the original on 19 March 2008.\n",
    " \"About getting started with writing geoprocessing scripts\". ArcGIS Desktop Help 9.2. Environmental Systems Research Institute. 17 November 2006. Archived from the original on 5 June 2020. Retrieved 11 February 2012.\n",
    " CCP porkbelly (24 August 2010). \"Stackless Python 2.7\". EVE Community Dev Blogs. CCP Games. Archived from the original on 11 January 2014. Retrieved 11 January 2014. As you may know, EVE has at its core the programming language known as Stackless Python.\n",
    " Caudill, Barry (20 September 2005). \"Modding Sid Meier's Civilization IV\". Sid Meier's Civilization IV Developer Blog. Firaxis Games. Archived from the original on 2 December 2010. we created three levels of tools ... The next level offers Python and XML support, letting modders with more experience manipulate the game world and everything in it.\n",
    " \"Python Language Guide (v1.0)\". Google Documents List Data API v1.0. Archived from the original on 15 July 2010.\n",
    " \"Python Setup and Usage\". Python Software Foundation. Archived from the original on 17 June 2020. Retrieved 10 January 2020.\n",
    " \"Immunity: Knowing You're Secure\". Archived from the original on 16 February 2009.\n",
    " \"Core Security\". Core Security. Archived from the original on 9 June 2020. Retrieved 10 April 2020.\n",
    " \"What is Sugar?\". Sugar Labs. Archived from the original on 9 January 2009. Retrieved 11 February 2012.\n",
    " \"4.0 New Features and Fixes\". LibreOffice.org. The Document Foundation. 2013. Archived from the original on 9 February 2014. Retrieved 25 February 2013.\n",
    " \"Gotchas for Python Users\". boo.codehaus.org. Codehaus Foundation. Archived from the original on 11 December 2008. Retrieved 24 November 2008.\n",
    " Esterbrook, Charles. \"Acknowledgements\". cobra-language.com. Cobra Language. Archived from the original on 8 February 2008. Retrieved 7 April 2010.\n",
    " \"Proposals: iterators and generators [ES4 Wiki]\". wiki.ecmascript.org. Archived from the original on 20 October 2007. Retrieved 24 November 2008.\n",
    " \"Frequently asked questions\". Godot Engine documentation. Archived from the original on 28 April 2021. Retrieved 10 May 2021.\n",
    " Kincaid, Jason (10 November 2009). \"Google's Go: A New Programming Language That's Python Meets C++\". TechCrunch. Archived from the original on 18 January 2010. Retrieved 29 January 2010.\n",
    " Strachan, James (29 August 2003). \"Groovy – the birth of a new dynamic language for the Java platform\". Archived from the original on 5 April 2007. Retrieved 11 June 2007.\n",
    " \"Modular Docs – Why Mojo\". docs.modular.com. Archived from the original on 5 May 2023. Retrieved 5 May 2023. Mojo as a member of the Python family [..] Embracing Python massively simplifies our design efforts, because most of the syntax is already specified. [..] we decided that the right long-term goal for Mojo is to provide a superset of Python (i.e. be compatible with existing programs) and to embrace the CPython immediately for long-tail ecosystem enablement. To a Python programmer, we expect and hope that Mojo will be immediately familiar, while also providing new tools for developing systems-level code that enable you to do things that Python falls back to C and C++ for.\n",
    " Spencer, Michael (4 May 2023). \"What is Mojo Programming Language?\". datasciencelearningcenter.substack.com. Archived from the original on 5 May 2023. Retrieved 5 May 2023.\n",
    " Yegulalp, Serdar (16 January 2017). \"Nim language draws from best of Python, Rust, Go, and Lisp\". InfoWorld. Archived from the original on 13 October 2018. Retrieved 7 June 2020. Nim's syntax is strongly reminiscent of Python's, as it uses indented code blocks and some of the same syntax (such as the way if/elif/then/else blocks are constructed).\n",
    " \"An Interview with the Creator of Ruby\". Linuxdevcenter.com. Archived from the original on 28 April 2018. Retrieved 3 December 2012.\n",
    " Lattner, Chris (3 June 2014). \"Chris Lattner's Homepage\". Chris Lattner. Archived from the original on 22 December 2015. Retrieved 3 June 2014. I started work on the Swift Programming Language in July of 2010. I implemented much of the basic language structure, with only a few people knowing of its existence. A few other (amazing) people started contributing in earnest late in 2011, and it became a major focus for the Apple Developer Tools group in July 2013 [...] drawing ideas from Objective-C, Rust, Haskell, Ruby, Python, C#, CLU, and far too many others to list.\n",
    " Jalan, Nishant Aanjaney (10 November 2022). \"Programming in Kotlin\". CodeX. Retrieved 29 April 2024.\n",
    " Kupries, Andreas; Fellows, Donal K. (14 September 2000). \"TIP #3: TIP Format\". tcl.tk. Tcl Developer Xchange. Archived from the original on 13 July 2017. Retrieved 24 November 2008.\n",
    " Gustafsson, Per; Niskanen, Raimo (29 January 2007). \"EEP 1: EEP Purpose and Guidelines\". erlang.org. Archived from the original on 15 June 2020. Retrieved 19 April 2011.\n",
    " \"Swift Evolution Process\". Swift Programming Language Evolution repository on GitHub. 18 February 2020. Archived from the original on 27 April 2020. Retrieved 27 April 2020.\n",
    "Sources\n",
    "\"Python for Artificial Intelligence\". Python Wiki. 19 July 2012. Archived from the original on 1 November 2012. Retrieved 3 December 2012.\n",
    "Paine, Jocelyn, ed. (August 2005). \"AI in Python\". AI Expert Newsletter. Amzi!. Archived from the original on 26 March 2012. Retrieved 11 February 2012.\n",
    "\"PyAIML 0.8.5 : Python Package Index\". Pypi.python.org. Retrieved 17 July 2013.\n",
    "Russell, Stuart J. & Norvig, Peter (2009). Artificial Intelligence: A Modern Approach (3rd ed.). Upper Saddle River, NJ: Prentice Hall. ISBN 978-0-13-604259-4.\n",
    "Further reading\n",
    "Downey, Allen B. (May 2012). Think Python: How to Think Like a Computer Scientist (version 1.6.6 ed.). Cambridge University Press. ISBN 978-0-521-72596-5.\n",
    "Hamilton, Naomi (5 August 2008). \"The A-Z of Programming Languages: Python\". Computerworld. Archived from the original on 29 December 2008. Retrieved 31 March 2010.\n",
    "Lutz, Mark (2013). Learning Python (5th ed.). O'Reilly Media. ISBN 978-0-596-15806-4.\n",
    "Summerfield, Mark (2009). Programming in Python 3 (2nd ed.). Addison-Wesley Professional. ISBN 978-0-321-68056-3.\n",
    "Ramalho, Luciano (May 2022). Fluent Python. O'Reilly Media. ISBN 978-1-4920-5632-4.\"\"\"  \n",
    "\n",
    "\n",
    "\n",
    "\n",
    "A=vikipedia_python.count('Python')"
   ]
  },
  {
   "cell_type": "code",
   "execution_count": 143,
   "id": "94f2e8be-e6f3-4355-81df-bdc364f3f239",
   "metadata": {},
   "outputs": [
    {
     "name": "stdout",
     "output_type": "stream",
     "text": [
      "637\n"
     ]
    }
   ],
   "source": [
    "B=vikipedia_python.count('python')\n",
    "print(A+B)"
   ]
  },
  {
   "cell_type": "code",
   "execution_count": 32,
   "id": "83497da8-5a7b-4ed6-beab-ea7fc8b3196f",
   "metadata": {},
   "outputs": [],
   "source": [
    "my_full_name = 'ali_mohammadi'"
   ]
  },
  {
   "cell_type": "code",
   "execution_count": 146,
   "id": "609e7758-d56a-4bd0-a2f0-30c9e0686d73",
   "metadata": {},
   "outputs": [
    {
     "name": "stdout",
     "output_type": "stream",
     "text": [
      "a\n"
     ]
    }
   ],
   "source": [
    "print(my_full_name[0])"
   ]
  },
  {
   "cell_type": "markdown",
   "id": "0a7430a1-bab5-427f-89a4-251c6c944a7c",
   "metadata": {},
   "source": [
    "## 2 Replace method"
   ]
  },
  {
   "cell_type": "code",
   "execution_count": 34,
   "id": "f2d8311e-e378-44c0-9d64-6c70ad95a002",
   "metadata": {},
   "outputs": [
    {
     "data": {
      "text/plain": [
       "'alimohammadi'"
      ]
     },
     "execution_count": 34,
     "metadata": {},
     "output_type": "execute_result"
    }
   ],
   "source": [
    "my_name1 = \"ali\"\n",
    "my_family = \"mohammadi\"\n",
    "my_brother_name = \"Hossein\"\n",
    "my_full_name = my_name1 + my_family  \n",
    "my_full_name"
   ]
  },
  {
   "cell_type": "code",
   "execution_count": 35,
   "id": "2d4647fb-0298-49f1-bbba-9874710b494b",
   "metadata": {},
   "outputs": [
    {
     "data": {
      "text/plain": [
       "'Hosseinmohammadi'"
      ]
     },
     "execution_count": 35,
     "metadata": {},
     "output_type": "execute_result"
    }
   ],
   "source": [
    "my_brother_full_name = my_full_name.replace(my_name1, my_brother_name)\n",
    "my_brother_full_name\n",
    "                               "
   ]
  },
  {
   "cell_type": "markdown",
   "id": "ecd49476-6a63-4993-9e44-4e9894e8078c",
   "metadata": {},
   "source": [
    "### 2.2 replacing by calling names only"
   ]
  },
  {
   "cell_type": "code",
   "execution_count": 36,
   "id": "e2f7ad2c-9dab-4f77-9044-6837cfafe681",
   "metadata": {},
   "outputs": [
    {
     "data": {
      "text/plain": [
       "'HosseinmohammadiHosseinmohammadi'"
      ]
     },
     "execution_count": 36,
     "metadata": {},
     "output_type": "execute_result"
    }
   ],
   "source": [
    "my_double_full_name = my_full_name*2  \n",
    "\n",
    "my_double_full_name  \n",
    "\n",
    "my_brother_double_full_name = my_double_full_name.replace(my_name1,my_brother_name)\n",
    "\n",
    "my_brother_double_full_name \n"
   ]
  },
  {
   "cell_type": "markdown",
   "id": "c49a181d-63cb-43b7-bc14-fa3e6b5c5d58",
   "metadata": {},
   "source": [
    "## 3 Upper function"
   ]
  },
  {
   "cell_type": "code",
   "execution_count": 147,
   "id": "f0156188-a7ae-426b-9ff3-e61a38737314",
   "metadata": {},
   "outputs": [
    {
     "data": {
      "text/plain": [
       "'ALIMOHAMMADIALIMOHAMMADI'"
      ]
     },
     "execution_count": 147,
     "metadata": {},
     "output_type": "execute_result"
    }
   ],
   "source": [
    "my_double_full_name.upper()"
   ]
  },
  {
   "cell_type": "markdown",
   "id": "abdd63cf-68b0-464b-8f62-1d72f5156c47",
   "metadata": {},
   "source": [
    "## 4 isalpha() Function"
   ]
  },
  {
   "cell_type": "code",
   "execution_count": 148,
   "id": "49d994c6-0154-4e5d-b558-74e6ada877ad",
   "metadata": {},
   "outputs": [
    {
     "data": {
      "text/plain": [
       "True"
      ]
     },
     "execution_count": 148,
     "metadata": {},
     "output_type": "execute_result"
    }
   ],
   "source": [
    "my_name1.isalpha()"
   ]
  },
  {
   "cell_type": "code",
   "execution_count": 149,
   "id": "3308bf93-7ee4-4410-a4a9-d065bd131110",
   "metadata": {},
   "outputs": [],
   "source": [
    "my_name2 = 'ali007'"
   ]
  },
  {
   "cell_type": "code",
   "execution_count": 150,
   "id": "0da9fcbb-fa25-44dc-a032-f4888e66540e",
   "metadata": {},
   "outputs": [
    {
     "data": {
      "text/plain": [
       "False"
      ]
     },
     "execution_count": 150,
     "metadata": {},
     "output_type": "execute_result"
    }
   ],
   "source": [
    "my_name2.isalpha()"
   ]
  },
  {
   "cell_type": "markdown",
   "id": "cc711f3e-dbd8-4af6-ae62-79c2998230a8",
   "metadata": {},
   "source": [
    "## 5 split(' ') method"
   ]
  },
  {
   "cell_type": "code",
   "execution_count": 151,
   "id": "0d037b7e-13aa-4f4c-9e38-496185af9d66",
   "metadata": {},
   "outputs": [
    {
     "data": {
      "text/plain": [
       "['amir', 'hoshang', 'hoseinpour']"
      ]
     },
     "execution_count": 151,
     "metadata": {},
     "output_type": "execute_result"
    }
   ],
   "source": [
    "my_teacher_name = 'amir hoshang hoseinpour'\n",
    "\n",
    "splited_my_teacher_name = my_teacher_name.split(' ')\n",
    "\n",
    "splited_my_teacher_name"
   ]
  },
  {
   "cell_type": "code",
   "execution_count": 152,
   "id": "73aeccb7-8b1f-44f0-a39b-7dfe46d1de24",
   "metadata": {},
   "outputs": [
    {
     "data": {
      "text/plain": [
       "['17', '47', '33']"
      ]
     },
     "execution_count": 152,
     "metadata": {},
     "output_type": "execute_result"
    }
   ],
   "source": [
    "time = \"17:47:33\"\n",
    "\n",
    "splited_time = time.split( ':')\n",
    "\n",
    "splited_time"
   ]
  },
  {
   "cell_type": "markdown",
   "id": "ce89e110-034a-44f9-ac81-bc2512a0498b",
   "metadata": {},
   "source": [
    "##  6 dir"
   ]
  },
  {
   "cell_type": "code",
   "execution_count": 153,
   "id": "0596f881-c400-4be0-a475-3175f564cff6",
   "metadata": {},
   "outputs": [
    {
     "data": {
      "text/plain": [
       "['__add__',\n",
       " '__class__',\n",
       " '__contains__',\n",
       " '__delattr__',\n",
       " '__dir__',\n",
       " '__doc__',\n",
       " '__eq__',\n",
       " '__format__',\n",
       " '__ge__',\n",
       " '__getattribute__',\n",
       " '__getitem__',\n",
       " '__getnewargs__',\n",
       " '__getstate__',\n",
       " '__gt__',\n",
       " '__hash__',\n",
       " '__init__',\n",
       " '__init_subclass__',\n",
       " '__iter__',\n",
       " '__le__',\n",
       " '__len__',\n",
       " '__lt__',\n",
       " '__mod__',\n",
       " '__mul__',\n",
       " '__ne__',\n",
       " '__new__',\n",
       " '__reduce__',\n",
       " '__reduce_ex__',\n",
       " '__repr__',\n",
       " '__rmod__',\n",
       " '__rmul__',\n",
       " '__setattr__',\n",
       " '__sizeof__',\n",
       " '__str__',\n",
       " '__subclasshook__',\n",
       " 'capitalize',\n",
       " 'casefold',\n",
       " 'center',\n",
       " 'count',\n",
       " 'encode',\n",
       " 'endswith',\n",
       " 'expandtabs',\n",
       " 'find',\n",
       " 'format',\n",
       " 'format_map',\n",
       " 'index',\n",
       " 'isalnum',\n",
       " 'isalpha',\n",
       " 'isascii',\n",
       " 'isdecimal',\n",
       " 'isdigit',\n",
       " 'isidentifier',\n",
       " 'islower',\n",
       " 'isnumeric',\n",
       " 'isprintable',\n",
       " 'isspace',\n",
       " 'istitle',\n",
       " 'isupper',\n",
       " 'join',\n",
       " 'ljust',\n",
       " 'lower',\n",
       " 'lstrip',\n",
       " 'maketrans',\n",
       " 'partition',\n",
       " 'removeprefix',\n",
       " 'removesuffix',\n",
       " 'replace',\n",
       " 'rfind',\n",
       " 'rindex',\n",
       " 'rjust',\n",
       " 'rpartition',\n",
       " 'rsplit',\n",
       " 'rstrip',\n",
       " 'split',\n",
       " 'splitlines',\n",
       " 'startswith',\n",
       " 'strip',\n",
       " 'swapcase',\n",
       " 'title',\n",
       " 'translate',\n",
       " 'upper',\n",
       " 'zfill']"
      ]
     },
     "execution_count": 153,
     "metadata": {},
     "output_type": "execute_result"
    }
   ],
   "source": [
    "dir(my_name1)"
   ]
  },
  {
   "cell_type": "markdown",
   "id": "7d59b045-406c-4f22-b349-156e8bafab88",
   "metadata": {},
   "source": [
    "## 7 help function"
   ]
  },
  {
   "cell_type": "code",
   "execution_count": 44,
   "id": "dd508df7-add2-412b-8bcd-e86c94357644",
   "metadata": {},
   "outputs": [
    {
     "name": "stdout",
     "output_type": "stream",
     "text": [
      "Help on built-in function upper:\n",
      "\n",
      "upper() method of builtins.str instance\n",
      "    Return a copy of the string converted to uppercase.\n",
      "\n"
     ]
    }
   ],
   "source": [
    "help(my_name1.upper)"
   ]
  },
  {
   "cell_type": "markdown",
   "id": "49ee5762-f729-4833-a73a-62033558a7e1",
   "metadata": {},
   "source": [
    "## 8 \\n is  end-of-line , \\t is tab"
   ]
  },
  {
   "cell_type": "code",
   "execution_count": 45,
   "id": "9748914e-a2e6-4fcf-b886-11a5cdcda642",
   "metadata": {},
   "outputs": [
    {
     "name": "stdout",
     "output_type": "stream",
     "text": [
      "A\n",
      "B\tC\n"
     ]
    }
   ],
   "source": [
    "temp_string = 'A\\nB\\tC'\n",
    "print(temp_string)"
   ]
  },
  {
   "cell_type": "code",
   "execution_count": 156,
   "id": "8711e9df-2174-4a91-83ce-de0bdce5e7fe",
   "metadata": {},
   "outputs": [
    {
     "name": "stdout",
     "output_type": "stream",
     "text": [
      "mohammad\n"
     ]
    }
   ],
   "source": [
    "tS1 =\"mohammad\"\n",
    "tS2 = \"Ali\"\n",
    "print(tS1)"
   ]
  },
  {
   "cell_type": "code",
   "execution_count": 155,
   "id": "69c178a1-7a6d-431a-9043-7e9e306d8f73",
   "metadata": {},
   "outputs": [
    {
     "name": "stdout",
     "output_type": "stream",
     "text": [
      "\\\"\n"
     ]
    }
   ],
   "source": [
    "print (\"\\\\\\\"\")"
   ]
  },
  {
   "cell_type": "code",
   "execution_count": 48,
   "id": "48097d09-83be-4ac1-b581-4baba0287b02",
   "metadata": {},
   "outputs": [
    {
     "name": "stdout",
     "output_type": "stream",
     "text": [
      "Ali goft:\"salam\"\n"
     ]
    }
   ],
   "source": [
    "print(\"Ali goft:\\\"salam\\\"\")"
   ]
  },
  {
   "cell_type": "markdown",
   "id": "05932181-6e60-42f6-9138-c30615bdbbc8",
   "metadata": {},
   "source": [
    "# Session 7"
   ]
  },
  {
   "cell_type": "markdown",
   "id": "ebdc3695-25bb-4655-8ca1-40384bff82b1",
   "metadata": {},
   "source": [
    "## If Function"
   ]
  },
  {
   "cell_type": "code",
   "execution_count": 49,
   "id": "556c1d76-8099-4721-87bc-60cd4b02273c",
   "metadata": {},
   "outputs": [
    {
     "name": "stdout",
     "output_type": "stream",
     "text": [
      "salam\n"
     ]
    }
   ],
   "source": [
    "if True :\n",
    "    print(\"salam\")"
   ]
  },
  {
   "cell_type": "code",
   "execution_count": 50,
   "id": "7e571054-a99e-471c-bd71-ac1c6b407398",
   "metadata": {},
   "outputs": [],
   "source": [
    "if False :\n",
    "    print(\"salam\")"
   ]
  },
  {
   "cell_type": "code",
   "execution_count": 51,
   "id": "a7e76b32-ce63-41df-b8e5-7874fcc31a59",
   "metadata": {},
   "outputs": [
    {
     "name": "stdout",
     "output_type": "stream",
     "text": [
      "salam\n"
     ]
    }
   ],
   "source": [
    "if 3 :\n",
    "    print(\"salam\")"
   ]
  },
  {
   "cell_type": "code",
   "execution_count": 157,
   "id": "d7439902-77d7-4876-b861-6f90dcee5091",
   "metadata": {},
   "outputs": [],
   "source": [
    "if 0 :\n",
    "    print(\"salam\")"
   ]
  },
  {
   "cell_type": "code",
   "execution_count": 159,
   "id": "85c2f18f-94cb-4971-93d8-16ba43ff4dc0",
   "metadata": {},
   "outputs": [],
   "source": [
    "if \"\" :\n",
    "    print(\"salam\")\n",
    " "
   ]
  },
  {
   "cell_type": "code",
   "execution_count": 54,
   "id": "e1e9a233-b782-4817-b7f2-a3432f0374a2",
   "metadata": {},
   "outputs": [
    {
     "name": "stdout",
     "output_type": "stream",
     "text": [
      "salam\n"
     ]
    }
   ],
   "source": [
    "if \"amir\" :\n",
    "    print(\"salam\")"
   ]
  },
  {
   "cell_type": "markdown",
   "id": "774d6bbe-ebae-4ea0-b281-45bf479c17a9",
   "metadata": {},
   "source": [
    "###  condition long name"
   ]
  },
  {
   "cell_type": "markdown",
   "id": "93ace6a1-83fd-43e4-9430-e7a61b4a5cd9",
   "metadata": {},
   "source": [
    "### else"
   ]
  },
  {
   "cell_type": "code",
   "execution_count": 55,
   "id": "fe534055-9363-4bec-9d99-eacd20be705f",
   "metadata": {},
   "outputs": [
    {
     "name": "stdout",
     "output_type": "stream",
     "text": [
      "اسم من کوتاه است\n"
     ]
    }
   ],
   "source": [
    "my_name2 = \"ali\"\n",
    "\n",
    "if len(my_name2)>= 5 :\n",
    "    print(\"اسم من طولانی است \")\n",
    "else  :\n",
    "    print(\"اسم من کوتاه است\")\n"
   ]
  },
  {
   "cell_type": "markdown",
   "id": "a00bee6e-905e-40eb-bf38-b82ce8568521",
   "metadata": {},
   "source": [
    "### elif"
   ]
  },
  {
   "cell_type": "code",
   "execution_count": 56,
   "id": "d512846c-fb61-45f2-87ca-063f9c49d1a9",
   "metadata": {},
   "outputs": [
    {
     "name": "stdout",
     "output_type": "stream",
     "text": [
      "alimohammadi\n",
      "اسم من طولانی است \n"
     ]
    }
   ],
   "source": [
    "print(my_full_name )\n",
    "\n",
    "if len(my_full_name)>= 5 :\n",
    "    print(\"اسم من طولانی است \")\n",
    "elif 5>=len(my_full_name)>=3 :\n",
    "    print(\"اسم من متوسط است\")\n",
    "else  :\n",
    "    print(\"اسم من کوتاه است\")\n"
   ]
  },
  {
   "cell_type": "code",
   "execution_count": 160,
   "id": "f35ed144-0fdf-4cc9-8103-61ae1eba8b1e",
   "metadata": {},
   "outputs": [],
   "source": [
    "input_name = \"\""
   ]
  },
  {
   "cell_type": "code",
   "execution_count": 161,
   "id": "76c1a8a6-54eb-49d8-a778-1758de5a368b",
   "metadata": {},
   "outputs": [
    {
     "name": "stdout",
     "output_type": "stream",
     "text": [
      "\n",
      "اسم من کوتاه است\n"
     ]
    }
   ],
   "source": [
    "print(input_name )\n",
    "\n",
    "if len(input_name)> 5 :\n",
    "    print(\"اسم من طولانی است \")\n",
    "    \n",
    "elif len(input_name)>=3 :\n",
    "    print(\"اسم من متوسط است\")\n",
    "\n",
    "else  :\n",
    "    print(\"اسم من کوتاه است\")\n"
   ]
  },
  {
   "cell_type": "code",
   "execution_count": 162,
   "id": "a69b8fe4-9bb9-4d32-bae9-f0f2a4c873cf",
   "metadata": {},
   "outputs": [],
   "source": [
    "input_age = 15"
   ]
  },
  {
   "cell_type": "code",
   "execution_count": 60,
   "id": "ae5fc597-7317-4b6f-b931-05339621ab7c",
   "metadata": {},
   "outputs": [
    {
     "name": "stdout",
     "output_type": "stream",
     "text": [
      "fard zire 20\n"
     ]
    }
   ],
   "source": [
    "if input_age >= 20:\n",
    "    if input_age % 2 == 0 :\n",
    "        print(\"zoj balaye 20\")\n",
    "    else :\n",
    "        print(\"fard balaye 20\")\n",
    "else :\n",
    "    if input_age % 2 == 0 :\n",
    "        print(\"zoj zire 20\")\n",
    "    else :\n",
    "        print(\"fard zire 20\")\n",
    "    "
   ]
  },
  {
   "cell_type": "code",
   "execution_count": 163,
   "id": "9512ae92-c16a-4752-9f4f-61b52333e12c",
   "metadata": {},
   "outputs": [
    {
     "name": "stdout",
     "output_type": "stream",
     "text": [
      "fard zire 20\n"
     ]
    }
   ],
   "source": [
    "if input_age >= 20:\n",
    "    if input_age % 2  :\n",
    "        print(\"zoj balaye 20\")\n",
    "    else :\n",
    "        print(\"fard balaye 20\")\n",
    "else :\n",
    "    if  input_age % 2  :\n",
    "        print(\"fard zire 20\")\n",
    "    else :\n",
    "        print(\"zoj zire 20\")\n",
    "    "
   ]
  },
  {
   "cell_type": "markdown",
   "id": "a66305d3-d3e6-47e4-b96d-a4c3338d136b",
   "metadata": {},
   "source": [
    "## while function"
   ]
  },
  {
   "cell_type": "code",
   "execution_count": 62,
   "id": "22054b33-ac2f-4cef-9d59-a8341bd97d6c",
   "metadata": {},
   "outputs": [
    {
     "name": "stdout",
     "output_type": "stream",
     "text": [
      "5\n",
      "4\n",
      "3\n",
      "2\n",
      "1\n",
      "0\n"
     ]
    }
   ],
   "source": [
    "temp_int = 6\n",
    "while temp_int > 0 :\n",
    "    temp_int -= 1\n",
    "    print(temp_int)"
   ]
  },
  {
   "cell_type": "markdown",
   "id": "5830cffd-6643-43e5-8e2d-6778b53ae223",
   "metadata": {},
   "source": [
    "# Fibonacci"
   ]
  },
  {
   "cell_type": "markdown",
   "id": "edb56d8a-73e9-4065-be84-5863cd3fd585",
   "metadata": {},
   "source": [
    "# تمرین"
   ]
  },
  {
   "cell_type": "code",
   "execution_count": 63,
   "id": "928595fb-7340-43d4-8ddd-542c0adab967",
   "metadata": {},
   "outputs": [
    {
     "name": "stdout",
     "output_type": "stream",
     "text": [
      "0 1 1 2 3 5 8 13 21 34 55 89 "
     ]
    }
   ],
   "source": [
    "a = 0\n",
    "b = 1\n",
    "f = 0\n",
    "\n",
    "while (f<100):\n",
    "    print(f, end = \" \")\n",
    "    a = b\n",
    "    b = f\n",
    "    f = a + b\n",
    "    "
   ]
  },
  {
   "cell_type": "markdown",
   "id": "23476ee2-e668-43ef-bccf-50f5aed3f2a0",
   "metadata": {},
   "source": [
    "# تمرین"
   ]
  },
  {
   "cell_type": "code",
   "execution_count": 64,
   "id": "6455d39e-c694-4f4f-bb32-6565f4430aa3",
   "metadata": {},
   "outputs": [
    {
     "name": "stdout",
     "output_type": "stream",
     "text": [
      "1\n",
      "2\n",
      "3\n",
      "5\n",
      "8\n",
      "13\n",
      "21\n",
      "34\n",
      "55\n",
      "89\n"
     ]
    }
   ],
   "source": [
    "a = b = 1\n",
    "\n",
    "while (b < 100):\n",
    "    print(b)\n",
    "    a, b = b, a+b\n",
    "  "
   ]
  },
  {
   "cell_type": "markdown",
   "id": "28cc05e4-6ff1-44bc-afe9-232cc6116e07",
   "metadata": {},
   "source": [
    "# Session 8"
   ]
  },
  {
   "cell_type": "markdown",
   "id": "f37dbb1e-f8f1-4d1d-af45-efc51eaab904",
   "metadata": {},
   "source": [
    "### Q. CHECK p IS PRIME OR NOT"
   ]
  },
  {
   "cell_type": "code",
   "execution_count": 65,
   "id": "6bf72de7-3434-4d9c-8463-634ff7288763",
   "metadata": {},
   "outputs": [
    {
     "name": "stdout",
     "output_type": "stream",
     "text": [
      "3\n"
     ]
    }
   ],
   "source": [
    "p = 3\n",
    "\n",
    "tempP = p-1\n",
    "mark = False\n",
    "while tempP > 1:\n",
    "    if p % tempP==0:\n",
    "        mark = True\n",
    "    tempP -= 1\n",
    "if mark:\n",
    "    print(\"NOTprime\")\n",
    "else :\n",
    "    print(p)\n",
    " "
   ]
  },
  {
   "cell_type": "markdown",
   "id": "e2bbcd30-caf5-43a4-99c2-154dceb2831f",
   "metadata": {},
   "source": [
    "### Q. n-th prime number"
   ]
  },
  {
   "cell_type": "code",
   "execution_count": 168,
   "id": "9dc1dce2-0de4-40cc-a828-dddb4f07162c",
   "metadata": {},
   "outputs": [
    {
     "name": "stdout",
     "output_type": "stream",
     "text": [
      "The 2th prime number is 3\n"
     ]
    }
   ],
   "source": [
    "# which number do you want? just give it to n\n",
    "\n",
    "n = 2\n",
    "def is_prime(num):\n",
    "    if num < 2:\n",
    "        return False\n",
    "    for i in range(2, int(num ** 0.5) + 1):\n",
    "        if num % i == 0:\n",
    "            return False\n",
    "    return True\n",
    "\n",
    "def nth_prime(n):\n",
    "    count = 0\n",
    "    num = 1\n",
    "    while True:\n",
    "        num += 1\n",
    "        if is_prime(num):\n",
    "            count += 1\n",
    "        if count == n:\n",
    "            return num\n",
    "prime_number = nth_prime(n)\n",
    "print(f\"The {n}th prime number is {prime_number}\")\n"
   ]
  },
  {
   "cell_type": "markdown",
   "id": "0731f0cd-63a9-4c59-b79b-9c81d288b7b8",
   "metadata": {},
   "source": [
    "# Session 9 "
   ]
  },
  {
   "cell_type": "markdown",
   "id": "2bc7bbae-4f02-46a3-b66a-d5b3848ceb05",
   "metadata": {},
   "source": [
    "## For loop"
   ]
  },
  {
   "cell_type": "code",
   "execution_count": null,
   "id": "ae1e7d4d-1509-4e01-8787-21302eb98c48",
   "metadata": {},
   "outputs": [],
   "source": [
    "for i in range(15):\n",
    "    print(i)"
   ]
  },
  {
   "cell_type": "code",
   "execution_count": null,
   "id": "3d5647be-b30c-41d0-9699-8c93e62ef3ff",
   "metadata": {},
   "outputs": [],
   "source": [
    "sum = 0\n",
    "for i in range(10):\n",
    "    sum += i\n",
    "print(sum)"
   ]
  },
  {
   "cell_type": "code",
   "execution_count": 67,
   "id": "45335277-6a60-4345-8585-0fa21c04b077",
   "metadata": {},
   "outputs": [
    {
     "name": "stdout",
     "output_type": "stream",
     "text": [
      "24\n"
     ]
    }
   ],
   "source": [
    "n = 4\n",
    "fact = 1\n",
    "for i in range (n):\n",
    "    fact = fact*(i+1)\n",
    "\n",
    "print(fact)"
   ]
  },
  {
   "cell_type": "markdown",
   "id": "d84d3ed7-6265-4bce-a7b8-e14ae885dd98",
   "metadata": {},
   "source": [
    "## Range usage"
   ]
  },
  {
   "cell_type": "code",
   "execution_count": 169,
   "id": "da31df45-4f25-4912-b15a-0c4c39f67d5a",
   "metadata": {},
   "outputs": [
    {
     "name": "stdout",
     "output_type": "stream",
     "text": [
      "0\n",
      "1\n",
      "2\n",
      "3\n",
      "4\n",
      "\n",
      "\n",
      "2\n",
      "3\n",
      "4\n",
      "5\n",
      "6\n",
      "\n",
      "\n",
      "2\n",
      "4\n",
      "6\n"
     ]
    }
   ],
   "source": [
    "for i in range(5):\n",
    "    print(i)\n",
    "print(\"\\n\")\n",
    "for i in range(2, 7):\n",
    "    print(i)\n",
    "print(\"\\n\")\n",
    "for i in range(2, 7, 2):\n",
    "    print(i)"
   ]
  },
  {
   "cell_type": "markdown",
   "id": "ac720c4d-6855-423e-bb0c-6c893c6e9d91",
   "metadata": {},
   "source": [
    "## hope question"
   ]
  },
  {
   "cell_type": "code",
   "execution_count": 68,
   "id": "6f250603-b97e-42e8-a53f-8843e7834e9f",
   "metadata": {},
   "outputs": [
    {
     "name": "stdout",
     "output_type": "stream",
     "text": [
      "1\n",
      "2\n",
      "2 hope\n",
      "4\n",
      "5\n",
      "5 hope\n",
      "7\n",
      "8\n",
      "8 hope\n",
      "10\n",
      "11\n",
      "11 hope\n",
      "13\n",
      "14\n",
      "14 hope\n",
      "16\n",
      "17\n",
      "17 hope\n",
      "19\n",
      "20\n",
      "20 hope\n",
      "22\n",
      "23\n",
      "23 hope\n",
      "25\n",
      "26\n"
     ]
    }
   ],
   "source": [
    "n = 26\n",
    "for i in range (n):\n",
    "    if (i+1)%3==0:\n",
    "        print(i, \"hope\")\n",
    "    else :\n",
    "        print(i+1)"
   ]
  },
  {
   "cell_type": "markdown",
   "id": "b689a8c5-7484-4362-b768-10ab67d3ad67",
   "metadata": {},
   "source": [
    "# Session 10"
   ]
  },
  {
   "cell_type": "markdown",
   "id": "b7dc4d1e-5716-466c-a07a-d6e2cbf7af73",
   "metadata": {},
   "source": [
    "# List"
   ]
  },
  {
   "cell_type": "code",
   "execution_count": 170,
   "id": "be344b39-f7af-4686-b3ca-738baddd11b7",
   "metadata": {},
   "outputs": [
    {
     "data": {
      "text/plain": [
       "3"
      ]
     },
     "execution_count": 170,
     "metadata": {},
     "output_type": "execute_result"
    }
   ],
   "source": [
    "temp_list = [ 35, \"Amir\", 1.3 ]\n",
    "len(temp_list)"
   ]
  },
  {
   "cell_type": "code",
   "execution_count": 171,
   "id": "7e0e75ee-f61e-4a0b-92a8-d1606591b533",
   "metadata": {},
   "outputs": [
    {
     "data": {
      "text/plain": [
       "35"
      ]
     },
     "execution_count": 171,
     "metadata": {},
     "output_type": "execute_result"
    }
   ],
   "source": [
    "temp_list[0]"
   ]
  },
  {
   "cell_type": "code",
   "execution_count": 172,
   "id": "7688722f-eaa4-40ff-9993-ae94d622e148",
   "metadata": {},
   "outputs": [
    {
     "data": {
      "text/plain": [
       "'Amir'"
      ]
     },
     "execution_count": 172,
     "metadata": {},
     "output_type": "execute_result"
    }
   ],
   "source": [
    "temp_list[1]"
   ]
  },
  {
   "cell_type": "code",
   "execution_count": 173,
   "id": "5b9a9148-fc80-4780-b3eb-d6b7e2046cb7",
   "metadata": {},
   "outputs": [
    {
     "data": {
      "text/plain": [
       "[35, 'Amir']"
      ]
     },
     "execution_count": 173,
     "metadata": {},
     "output_type": "execute_result"
    }
   ],
   "source": [
    "temp_list[:-1]"
   ]
  },
  {
   "cell_type": "code",
   "execution_count": 174,
   "id": "c32484ec-27b1-41e4-b583-d31f6ed4ac1d",
   "metadata": {},
   "outputs": [
    {
     "data": {
      "text/plain": [
       "[35]"
      ]
     },
     "execution_count": 174,
     "metadata": {},
     "output_type": "execute_result"
    }
   ],
   "source": [
    "temp_list[:-2]"
   ]
  },
  {
   "cell_type": "code",
   "execution_count": 175,
   "id": "ae17c6a6-859e-4e8e-92f9-3b869dbbf14a",
   "metadata": {},
   "outputs": [],
   "source": [
    "pi = 3.14"
   ]
  },
  {
   "cell_type": "code",
   "execution_count": 176,
   "id": "ea3242ae-f178-4c2e-b3d3-91066bda02c4",
   "metadata": {},
   "outputs": [
    {
     "data": {
      "text/plain": [
       "3"
      ]
     },
     "execution_count": 176,
     "metadata": {},
     "output_type": "execute_result"
    }
   ],
   "source": [
    "int(pi)"
   ]
  },
  {
   "cell_type": "code",
   "execution_count": 177,
   "id": "a55d3d2f-7aaa-4303-b0c3-f71348f272cd",
   "metadata": {},
   "outputs": [
    {
     "data": {
      "text/plain": [
       "2"
      ]
     },
     "execution_count": 177,
     "metadata": {},
     "output_type": "execute_result"
    }
   ],
   "source": [
    "e = 2.7\n",
    "int(e)"
   ]
  },
  {
   "cell_type": "code",
   "execution_count": 178,
   "id": "b30672b5-1e33-4c73-bac8-68605ad4bab2",
   "metadata": {},
   "outputs": [
    {
     "data": {
      "text/plain": [
       "\"[35, 'Amir', 1.3]\""
      ]
     },
     "execution_count": 178,
     "metadata": {},
     "output_type": "execute_result"
    }
   ],
   "source": [
    "str(temp_list)"
   ]
  },
  {
   "cell_type": "code",
   "execution_count": 179,
   "id": "830709b1-9bee-4801-b115-e7f339d29f8f",
   "metadata": {},
   "outputs": [
    {
     "data": {
      "text/plain": [
       "['Amir', 1.3]"
      ]
     },
     "execution_count": 179,
     "metadata": {},
     "output_type": "execute_result"
    }
   ],
   "source": [
    "temp_list[1:]"
   ]
  },
  {
   "cell_type": "code",
   "execution_count": 180,
   "id": "220edeb9-f2af-4a19-b2ab-51fc9c71d0e4",
   "metadata": {},
   "outputs": [
    {
     "data": {
      "text/plain": [
       "1.3"
      ]
     },
     "execution_count": 180,
     "metadata": {},
     "output_type": "execute_result"
    }
   ],
   "source": [
    "temp_list[2]"
   ]
  },
  {
   "cell_type": "code",
   "execution_count": 181,
   "id": "367342c4-7443-46c7-9e38-93f14e605192",
   "metadata": {},
   "outputs": [
    {
     "data": {
      "text/plain": [
       "'1.3'"
      ]
     },
     "execution_count": 181,
     "metadata": {},
     "output_type": "execute_result"
    }
   ],
   "source": [
    "str(temp_list[2])"
   ]
  },
  {
   "cell_type": "code",
   "execution_count": 182,
   "id": "e598501d-d1cd-4ddb-918e-8f893b699f3d",
   "metadata": {},
   "outputs": [
    {
     "data": {
      "text/plain": [
       "'3'"
      ]
     },
     "execution_count": 182,
     "metadata": {},
     "output_type": "execute_result"
    }
   ],
   "source": [
    "str(temp_list[2])[2]"
   ]
  },
  {
   "cell_type": "code",
   "execution_count": 183,
   "id": "f33ac3fe-a37e-45ef-af7a-886db81ee037",
   "metadata": {},
   "outputs": [
    {
     "data": {
      "text/plain": [
       "[35, 'Amir', 1.3, 2, 'Programming', 2.718718]"
      ]
     },
     "execution_count": 183,
     "metadata": {},
     "output_type": "execute_result"
    }
   ],
   "source": [
    "temp_list = temp_list+[2, \"Programming\", 2.718718]\n",
    "temp_list"
   ]
  },
  {
   "cell_type": "code",
   "execution_count": 184,
   "id": "407a0417-8b58-4f4d-9e01-1a1111882b8c",
   "metadata": {},
   "outputs": [
    {
     "name": "stdout",
     "output_type": "stream",
     "text": [
      "[35, 'Amir', 1.3, 2, 'Programming']\n",
      "[35, 'Amir', 1.3, 2, 'Programming', 2.718718, 2, 'programming', 2.718718]\n",
      "[35, 'Amir', 1.3, 2, 'Programming', 2.718718, 2, 'programming', 2.718718, 'tehran']\n"
     ]
    }
   ],
   "source": [
    "print(temp_list[:-1])\n",
    "\n",
    "temp_list = temp_list + [2, \"programming\", 2.718718]\n",
    "print(temp_list)\n",
    "temp_list.append(\"tehran\")\n",
    "print(temp_list)"
   ]
  },
  {
   "cell_type": "code",
   "execution_count": 83,
   "id": "d82a4ac9-d7b8-4d54-8978-d991605378e4",
   "metadata": {},
   "outputs": [
    {
     "data": {
      "text/plain": [
       "['__add__',\n",
       " '__class__',\n",
       " '__class_getitem__',\n",
       " '__contains__',\n",
       " '__delattr__',\n",
       " '__delitem__',\n",
       " '__dir__',\n",
       " '__doc__',\n",
       " '__eq__',\n",
       " '__format__',\n",
       " '__ge__',\n",
       " '__getattribute__',\n",
       " '__getitem__',\n",
       " '__getstate__',\n",
       " '__gt__',\n",
       " '__hash__',\n",
       " '__iadd__',\n",
       " '__imul__',\n",
       " '__init__',\n",
       " '__init_subclass__',\n",
       " '__iter__',\n",
       " '__le__',\n",
       " '__len__',\n",
       " '__lt__',\n",
       " '__mul__',\n",
       " '__ne__',\n",
       " '__new__',\n",
       " '__reduce__',\n",
       " '__reduce_ex__',\n",
       " '__repr__',\n",
       " '__reversed__',\n",
       " '__rmul__',\n",
       " '__setattr__',\n",
       " '__setitem__',\n",
       " '__sizeof__',\n",
       " '__str__',\n",
       " '__subclasshook__',\n",
       " 'append',\n",
       " 'clear',\n",
       " 'copy',\n",
       " 'count',\n",
       " 'extend',\n",
       " 'index',\n",
       " 'insert',\n",
       " 'pop',\n",
       " 'remove',\n",
       " 'reverse',\n",
       " 'sort']"
      ]
     },
     "execution_count": 83,
     "metadata": {},
     "output_type": "execute_result"
    }
   ],
   "source": [
    "dir(templist)"
   ]
  },
  {
   "cell_type": "code",
   "execution_count": 84,
   "id": "dedaa662-4551-4cf0-818a-dd076dff9c32",
   "metadata": {},
   "outputs": [
    {
     "data": {
      "text/plain": [
       "35"
      ]
     },
     "execution_count": 84,
     "metadata": {},
     "output_type": "execute_result"
    }
   ],
   "source": [
    "templist.pop(0)"
   ]
  },
  {
   "cell_type": "code",
   "execution_count": 85,
   "id": "fbae922d-3535-44f8-8b05-2bc531655059",
   "metadata": {},
   "outputs": [
    {
     "data": {
      "text/plain": [
       "['Amir', 1.3, 2, 'Programming', 2.718718]"
      ]
     },
     "execution_count": 85,
     "metadata": {},
     "output_type": "execute_result"
    }
   ],
   "source": [
    "templist"
   ]
  },
  {
   "cell_type": "code",
   "execution_count": 86,
   "id": "c541e8ab-2200-476b-811c-8da3e6464ae1",
   "metadata": {},
   "outputs": [
    {
     "data": {
      "text/plain": [
       "[21, 25, 32, 35]"
      ]
     },
     "execution_count": 86,
     "metadata": {},
     "output_type": "execute_result"
    }
   ],
   "source": [
    "ages = [32, 25, 35, 21]\n",
    "ages.sort()\n",
    "ages"
   ]
  },
  {
   "cell_type": "code",
   "execution_count": 87,
   "id": "a2799129-2c32-4a69-9ae8-da3f5f6034b7",
   "metadata": {},
   "outputs": [
    {
     "data": {
      "text/plain": [
       "[2, 3, 5, 23]"
      ]
     },
     "execution_count": 87,
     "metadata": {},
     "output_type": "execute_result"
    }
   ],
   "source": [
    "g = 23\n",
    "ss = [ 3, 2, 5, g]\n",
    "ss.sort()\n",
    "ss"
   ]
  },
  {
   "cell_type": "code",
   "execution_count": 88,
   "id": "198aeddc-fb4f-4774-b870-a6c1c50119da",
   "metadata": {},
   "outputs": [
    {
     "data": {
      "text/plain": [
       "['2', '3', '5', 'A', 'D', 'E', 'a', 'b', 'c', 'c', 'd', 'k']"
      ]
     },
     "execution_count": 88,
     "metadata": {},
     "output_type": "execute_result"
    }
   ],
   "source": [
    "s = [ \"3\", \"2\", \"5\", \"k\", \"a\", \"c\", \"c\", \"d\", \"b\", \"D\", \"A\", \"E\" ]\n",
    "s.sort()\n",
    "s"
   ]
  },
  {
   "cell_type": "code",
   "execution_count": 89,
   "id": "f6177f01-249f-4118-b04d-bd7da1e2b411",
   "metadata": {},
   "outputs": [
    {
     "ename": "TypeError",
     "evalue": "'<' not supported between instances of 'int' and 'str'",
     "output_type": "error",
     "traceback": [
      "\u001b[1;31m---------------------------------------------------------------------------\u001b[0m",
      "\u001b[1;31mTypeError\u001b[0m                                 Traceback (most recent call last)",
      "Cell \u001b[1;32mIn[89], line 2\u001b[0m\n\u001b[0;32m      1\u001b[0m G \u001b[38;5;241m=\u001b[39m [ \u001b[38;5;124m\"\u001b[39m\u001b[38;5;124m3\u001b[39m\u001b[38;5;124m\"\u001b[39m, \u001b[38;5;124m\"\u001b[39m\u001b[38;5;124m2\u001b[39m\u001b[38;5;124m\"\u001b[39m, \u001b[38;5;241m5\u001b[39m, \u001b[38;5;124m\"\u001b[39m\u001b[38;5;124mk\u001b[39m\u001b[38;5;124m\"\u001b[39m, \u001b[38;5;124m\"\u001b[39m\u001b[38;5;124ma\u001b[39m\u001b[38;5;124m\"\u001b[39m, \u001b[38;5;124m\"\u001b[39m\u001b[38;5;124mc\u001b[39m\u001b[38;5;124m\"\u001b[39m, \u001b[38;5;124m\"\u001b[39m\u001b[38;5;124mc\u001b[39m\u001b[38;5;124m\"\u001b[39m, \u001b[38;5;124m\"\u001b[39m\u001b[38;5;124md\u001b[39m\u001b[38;5;124m\"\u001b[39m, \u001b[38;5;124m\"\u001b[39m\u001b[38;5;124mb\u001b[39m\u001b[38;5;124m\"\u001b[39m, \u001b[38;5;124m\"\u001b[39m\u001b[38;5;124mD\u001b[39m\u001b[38;5;124m\"\u001b[39m, \u001b[38;5;124m\"\u001b[39m\u001b[38;5;124mA\u001b[39m\u001b[38;5;124m\"\u001b[39m, \u001b[38;5;124m\"\u001b[39m\u001b[38;5;124mE\u001b[39m\u001b[38;5;124m\"\u001b[39m ]\n\u001b[1;32m----> 2\u001b[0m G\u001b[38;5;241m.\u001b[39msort()\n\u001b[0;32m      3\u001b[0m G\n",
      "\u001b[1;31mTypeError\u001b[0m: '<' not supported between instances of 'int' and 'str'"
     ]
    }
   ],
   "source": [
    "G = [ \"3\", \"2\", 5, \"k\", \"a\", \"c\", \"c\", \"d\", \"b\", \"D\", \"A\", \"E\" ]\n",
    "G.sort()\n",
    "G"
   ]
  },
  {
   "cell_type": "markdown",
   "id": "3e1d9840-e743-4d12-8265-892cd7b4ceb3",
   "metadata": {},
   "source": [
    "# Nesting"
   ]
  },
  {
   "cell_type": "code",
   "execution_count": 90,
   "id": "e1f54af4-30ca-4344-87a5-63893fd03f86",
   "metadata": {},
   "outputs": [
    {
     "data": {
      "text/plain": [
       "[4, 5, 6]"
      ]
     },
     "execution_count": 90,
     "metadata": {},
     "output_type": "execute_result"
    }
   ],
   "source": [
    "nested_array = [[1, 2, 3], [4, 5, 6], [7, 8, 9]]\n",
    "nested_array[1]"
   ]
  },
  {
   "cell_type": "code",
   "execution_count": 91,
   "id": "bbd679d3-feca-4ac6-9cb2-fab0269a5431",
   "metadata": {},
   "outputs": [
    {
     "data": {
      "text/plain": [
       "6"
      ]
     },
     "execution_count": 91,
     "metadata": {},
     "output_type": "execute_result"
    }
   ],
   "source": [
    "nested_array[1][2]"
   ]
  },
  {
   "cell_type": "code",
   "execution_count": 92,
   "id": "5d00cc24-b36e-4d22-9237-7317a13d729b",
   "metadata": {},
   "outputs": [
    {
     "data": {
      "text/plain": [
       "[11, 13, 15, 17, 20]"
      ]
     },
     "execution_count": 92,
     "metadata": {},
     "output_type": "execute_result"
    }
   ],
   "source": [
    "my_score = [20, 13, 11, 17, 15]\n",
    "my_score.sort()\n",
    "my_score"
   ]
  },
  {
   "cell_type": "markdown",
   "id": "7faa2621-1e6f-49b9-adb0-4e1e376b786a",
   "metadata": {},
   "source": [
    "# Q)print  lessons with their scores"
   ]
  },
  {
   "cell_type": "code",
   "execution_count": 93,
   "id": "ecd109ce-ae79-4b22-9a39-6e323583d246",
   "metadata": {},
   "outputs": [
    {
     "name": "stdout",
     "output_type": "stream",
     "text": [
      "math = 20\n",
      "history = 13\n",
      "chemisery = 11\n",
      "physics = 17\n",
      "ap = 15\n",
      "ACC = 4\n"
     ]
    }
   ],
   "source": [
    "my_score = [\"20\", \"13\", \"11\", \"17\", \"15\", \"4\"]\n",
    "my_cources = [\"math\", \"history\", \"chemisery\", \"physics\", \"ap\", \"ACC\"]\n",
    "\n",
    "for i in range(len(my_score)):\n",
    "    1\n",
    "\n",
    "        \n",
    "    print(my_cources[i],\"=\",my_score[i])\n",
    "\n",
    "    \n",
    "    \n",
    "\n",
    "\n",
    "        "
   ]
  },
  {
   "cell_type": "markdown",
   "id": "de011efe-e290-4861-9b69-15a2b450667f",
   "metadata": {},
   "source": [
    "## Q. Print courses that I passed in the decending order"
   ]
  },
  {
   "cell_type": "code",
   "execution_count": 94,
   "id": "e8e4fc66-8308-4376-b436-a09e93c8aa8f",
   "metadata": {},
   "outputs": [
    {
     "name": "stdout",
     "output_type": "stream",
     "text": [
      "math = 20\n",
      "history = 13\n",
      "chemisery = 11\n",
      "physics = 17\n",
      "ap = 15\n"
     ]
    }
   ],
   "source": [
    "my_score = [20, 13, 11, 17, 15, 5]\n",
    "my_cources = [\"math\", \"history\", \"chemisery\", \"physics\", \"ap\", \"ACC\"]\n",
    "\n",
    "for i in range(len(my_cources)):\n",
    "    if my_score[i] >= 10:\n",
    "         \n",
    "        print(my_cources[i],\"=\",my_score[i])"
   ]
  },
  {
   "cell_type": "code",
   "execution_count": 185,
   "id": "8a461051-75c0-4cb7-8057-35d96d3772e6",
   "metadata": {},
   "outputs": [
    {
     "ename": "IndexError",
     "evalue": "list index out of range",
     "output_type": "error",
     "traceback": [
      "\u001b[1;31m---------------------------------------------------------------------------\u001b[0m",
      "\u001b[1;31mIndexError\u001b[0m                                Traceback (most recent call last)",
      "Cell \u001b[1;32mIn[185], line 4\u001b[0m\n\u001b[0;32m      1\u001b[0m my_score \u001b[38;5;241m=\u001b[39m [\u001b[38;5;241m20\u001b[39m, \u001b[38;5;241m13\u001b[39m, \u001b[38;5;241m11\u001b[39m, \u001b[38;5;241m17\u001b[39m, \u001b[38;5;241m15\u001b[39m, \u001b[38;5;241m4\u001b[39m]\n\u001b[0;32m      2\u001b[0m my_cources \u001b[38;5;241m=\u001b[39m [\u001b[38;5;124m\"\u001b[39m\u001b[38;5;124mmath\u001b[39m\u001b[38;5;124m\"\u001b[39m, \u001b[38;5;124m\"\u001b[39m\u001b[38;5;124mhistory\u001b[39m\u001b[38;5;124m\"\u001b[39m, \u001b[38;5;124m\"\u001b[39m\u001b[38;5;124mchemisery\u001b[39m\u001b[38;5;124m\"\u001b[39m, \u001b[38;5;124m\"\u001b[39m\u001b[38;5;124mphysics\u001b[39m\u001b[38;5;124m\"\u001b[39m, \u001b[38;5;124m\"\u001b[39m\u001b[38;5;124map\u001b[39m\u001b[38;5;124m\"\u001b[39m, \u001b[38;5;124m\"\u001b[39m\u001b[38;5;124mACC\u001b[39m\u001b[38;5;124m\"\u001b[39m]\n\u001b[1;32m----> 4\u001b[0m \u001b[38;5;28;01mif\u001b[39;00m my_score[i] \u001b[38;5;241m>\u001b[39m\u001b[38;5;241m=\u001b[39m \u001b[38;5;241m10\u001b[39m:\n\u001b[0;32m      5\u001b[0m     \u001b[38;5;28;01mfor\u001b[39;00m i \u001b[38;5;129;01min\u001b[39;00m \u001b[38;5;28mrange\u001b[39m(\u001b[38;5;28mlen\u001b[39m(my_score)):\n\u001b[0;32m      8\u001b[0m         \u001b[38;5;28mprint\u001b[39m(my_cources[i],\u001b[38;5;124m\"\u001b[39m\u001b[38;5;124m=\u001b[39m\u001b[38;5;124m\"\u001b[39m,my_score[i])\n",
      "\u001b[1;31mIndexError\u001b[0m: list index out of range"
     ]
    }
   ],
   "source": [
    "my_score = [20, 13, 11, 17, 15, 4]\n",
    "my_cources = [\"math\", \"history\", \"chemisery\", \"physics\", \"ap\", \"ACC\"]\n",
    "\n",
    "if my_score[i] >= 10:\n",
    "    for i in range(len(my_score)):\n",
    "                                                                     #  #  #ارور هایی که پاک نشدند برای آزمون و خطا و یادگیری انواع ارور هاست\n",
    "    \n",
    "        print(my_cources[i],\"=\",my_score[i])"
   ]
  },
  {
   "cell_type": "markdown",
   "id": "4d19aafa-41f1-488c-89c1-5c6464520449",
   "metadata": {},
   "source": [
    "# Session 11"
   ]
  },
  {
   "cell_type": "markdown",
   "id": "ca6dd704-9dd8-4b5f-974d-5104ae81ec2e",
   "metadata": {},
   "source": [
    "## Dictionary"
   ]
  },
  {
   "cell_type": "code",
   "execution_count": 186,
   "id": "00806220-4902-4083-9a93-873a43d6d96b",
   "metadata": {},
   "outputs": [
    {
     "name": "stdout",
     "output_type": "stream",
     "text": [
      "amir_ali\n",
      "23\n"
     ]
    }
   ],
   "source": [
    "my_profile = {\"name\"  : \"amir_ali\", \"AGE\" : 23, \"id\" : 10}\n",
    "print(my_profile[\"name\"])\n",
    "print(my_profile[\"AGE\"])"
   ]
  },
  {
   "cell_type": "code",
   "execution_count": 187,
   "id": "c833770d-158e-4587-930b-3025e0c6c357",
   "metadata": {},
   "outputs": [],
   "source": [
    "name_dict = {\"first_name\" : \"amirdi_ali\", \"last_name\" : \"mohammadi\"}"
   ]
  },
  {
   "cell_type": "code",
   "execution_count": 98,
   "id": "1308fbbf-74f3-443a-b5e1-f30568462d6d",
   "metadata": {},
   "outputs": [
    {
     "name": "stdout",
     "output_type": "stream",
     "text": [
      "{'name': {'first_name': 'amirdi_ali', 'last_name': 'mohammadi'}, 'AGE': 23}\n"
     ]
    }
   ],
   "source": [
    "my_profile1 = {\"name\" : name_dict, \"AGE\" : 23}\n",
    "print(my_profile1)"
   ]
  },
  {
   "cell_type": "code",
   "execution_count": 99,
   "id": "07d1d03b-1517-4da2-aff0-298d33da5a28",
   "metadata": {},
   "outputs": [
    {
     "name": "stdout",
     "output_type": "stream",
     "text": [
      "amirdi_ali\n"
     ]
    }
   ],
   "source": [
    "print(my_profile1[\"name\"][\"first_name\"])"
   ]
  },
  {
   "cell_type": "code",
   "execution_count": 189,
   "id": "738a1569-e873-4bec-805f-cad685aae46f",
   "metadata": {},
   "outputs": [
    {
     "name": "stdout",
     "output_type": "stream",
     "text": [
      "{'name': {'first_name': 'amirdi_ali', 'last_name': 'mohammadi'}, 'AGE': 23, 'cities': ['tehran', 'rasht', 'kish'], 'friends': [{'first_name': 'philip', 'last_name': 'fry', 'age': 35, 'id': 0}, {'first_name': 'gol', 'last_name': 'mamad', 'age': 20, 'id': 23}]}\n"
     ]
    }
   ],
   "source": [
    "cities = ['tehran', 'rasht', 'kish']\n",
    "my_profile1['cities'] = cities\n",
    "\n",
    "print(my_profile1)"
   ]
  },
  {
   "cell_type": "code",
   "execution_count": 102,
   "id": "ed57322b-5217-4ab2-b80d-df0cc13ab9ed",
   "metadata": {},
   "outputs": [
    {
     "name": "stdout",
     "output_type": "stream",
     "text": [
      "3\n"
     ]
    }
   ],
   "source": [
    "print(len(my_profile1['cities']))"
   ]
  },
  {
   "cell_type": "code",
   "execution_count": 103,
   "id": "d53884d0-3663-45b7-9080-15285064c2a5",
   "metadata": {},
   "outputs": [
    {
     "name": "stdout",
     "output_type": "stream",
     "text": [
      "kish\n"
     ]
    }
   ],
   "source": [
    "print(my_profile1['cities'][-1])"
   ]
  },
  {
   "cell_type": "code",
   "execution_count": 190,
   "id": "3ecac2ce-5ec0-4fe9-ba81-6eb662762df4",
   "metadata": {},
   "outputs": [
    {
     "data": {
      "text/plain": [
       "{'name': {'first_name': 'amirdi_ali', 'last_name': 'mohammadi'},\n",
       " 'AGE': 23,\n",
       " 'cities': ['tehran', 'rasht', 'kish'],\n",
       " 'friends': [{'first_name': 'philip', 'last_name': 'fry', 'AGE': 35, 'id': 0},\n",
       "  {'first_name': 'gol', 'last_name': 'mamad', 'AGE': 20, 'id': 23}]}"
      ]
     },
     "execution_count": 190,
     "metadata": {},
     "output_type": "execute_result"
    }
   ],
   "source": [
    "my_profile1['friends'] = [{'first_name' : 'philip', 'last_name': 'fry', 'AGE':35, 'id':0},\n",
    "                          {'first_name' : 'gol', 'last_name': 'mamad', 'AGE':20, 'id':23}]\n",
    "my_profile1"
   ]
  },
  {
   "cell_type": "code",
   "execution_count": 105,
   "id": "2bef7052-8383-4d4b-a21b-ecb3cdf65839",
   "metadata": {},
   "outputs": [
    {
     "ename": "SyntaxError",
     "evalue": "leading zeros in decimal integer literals are not permitted; use an 0o prefix for octal integers (3767099446.py, line 1)",
     "output_type": "error",
     "traceback": [
      "\u001b[1;36m  Cell \u001b[1;32mIn[105], line 1\u001b[1;36m\u001b[0m\n\u001b[1;33m    my_profile1['friends'].append({'first_name' : 'shahrad', 'last_name': 'golabi', 'AGE':30, 'id':007})\u001b[0m\n\u001b[1;37m                                                                                                   ^\u001b[0m\n\u001b[1;31mSyntaxError\u001b[0m\u001b[1;31m:\u001b[0m leading zeros in decimal integer literals are not permitted; use an 0o prefix for octal integers\n"
     ]
    }
   ],
   "source": [
    "my_profile1['friends'].append({'first_name' : 'shahrad', 'last_name': 'golabi', 'AGE':30, 'id':007})\n",
    "my_profile1"
   ]
  },
  {
   "cell_type": "code",
   "execution_count": 127,
   "id": "005d6f89-8f9c-4058-98f8-297ebcaa016b",
   "metadata": {},
   "outputs": [],
   "source": [
    "my_profile4 = {'name': {'first name': 'amir_ali', 'last name': 'mohammadi'}, 'age': 22, 'id' : 10, 'cities': ['Tehran', 'kish', 'kabul'],\n",
    "               'friends': {'bestFriend': {'first name': 'ikkin', 'last name': 'golabi', 'age': 2, 'id': 0}, 'lastButNotLeastFriend': {'first name': 'hossein', 'last name': 'hezarpa', 'age': 40, 'id': 1}, 0: {'first name': 'pedram', 'last name': 'shahraki', 'age': 13, 'id': 1},\n",
    "                                 1: {'first name': 'Bender2', 'last name': 'Bending Rodríguez', 'age': 4, 'id': 1}, 2: {'first name': 'shahrooz', 'last name': 'shabpareh', 'age': 60, 'id': 1}}, 'friends': [{'first name': 'kamran', 'last name': 'Fry', 'age': 80, 'id': 0}, {'first name': 'aligoodarz', 'last name': 'baboli', 'age': 4, 'id': 1},\n",
    "                                                                                                                                                                                                                {'first name': 'parham', 'last name': 'Wong', 'age': 30, 'id': 2}]}"
   ]
  },
  {
   "cell_type": "markdown",
   "id": "7c20ca53-76e8-410f-91a1-1092adb60b22",
   "metadata": {},
   "source": [
    "# Q.Print name of oldest friend and average age of your friends"
   ]
  },
  {
   "cell_type": "code",
   "execution_count": 191,
   "id": "f004975a-36d2-41f5-9487-eac0361f0e58",
   "metadata": {},
   "outputs": [
    {
     "name": "stdout",
     "output_type": "stream",
     "text": [
      "oldest : kamran Fry\n",
      "average age: 38\n"
     ]
    }
   ],
   "source": [
    "def oldest_average_friend(my_dict):\n",
    "    1\n",
    "    age = []\n",
    "    for i in range(len(my_dict[\"friends\"])):\n",
    "        age.append(my_dict[\"friends\"][i][\"age\"])\n",
    "    print(\"oldest :\", my_dict[\"friends\"][age.index(max(age))][\"first name\"], my_dict[\"friends\"][age.index(max(age))][\"last name\"])\n",
    "    average = 0\n",
    "    for s in age:\n",
    "        average += s\n",
    "    print(\"average age:\", average//len(age))\n",
    "dict_function_value = oldest_average_friend(my_profile4)\n",
    "dict_function_value"
   ]
  },
  {
   "cell_type": "markdown",
   "id": "c4c7498f-9eb3-4962-8be2-32a637153aa8",
   "metadata": {},
   "source": [
    "# Session 12"
   ]
  },
  {
   "cell_type": "markdown",
   "id": "16624dc5-1162-4b89-be23-034905fa4eba",
   "metadata": {},
   "source": [
    "# Files"
   ]
  },
  {
   "cell_type": "code",
   "execution_count": 107,
   "id": "33b62957-b6c3-4959-8ad7-843e0d9c432d",
   "metadata": {},
   "outputs": [],
   "source": [
    "my_profile1['friends'] = [{'first_name' : 'philip', 'last_name': 'fry', 'age':35, 'id':0},{'first_name' : 'gol', 'last_name': 'mamad', 'age':20, 'id':23}]"
   ]
  },
  {
   "cell_type": "code",
   "execution_count": 108,
   "id": "4ac9b33a-5cd2-4588-8400-a83541ede7d0",
   "metadata": {},
   "outputs": [],
   "source": [
    "temp_file = open('my_profile1.txt', 'w')\n",
    "temp_file.write(str(my_profile1))\n",
    "temp_file.close()"
   ]
  },
  {
   "cell_type": "code",
   "execution_count": 109,
   "id": "9299ace6-acfb-4f9d-895d-05ce677fa431",
   "metadata": {},
   "outputs": [
    {
     "name": "stdout",
     "output_type": "stream",
     "text": [
      "<_io.TextIOWrapper name='my_profile1.txt' mode='w' encoding='cp1252'>\n"
     ]
    }
   ],
   "source": [
    "print(temp_file)"
   ]
  },
  {
   "cell_type": "code",
   "execution_count": 110,
   "id": "de2f5a5a-c423-4df5-80bb-c3d79863b72f",
   "metadata": {},
   "outputs": [
    {
     "name": "stdout",
     "output_type": "stream",
     "text": [
      "{'name': {'firstName': 'Amirhoshang', 'lastName': 'Hoseinpour Dehkordi'}, 'age': 34, 'cities': ['Tehran', 'Boston', 'Shahrekord'], 'farhadFriends': {'bestFriend': {'firstName': 'Philip', 'lastName': 'Fry', 'age': 35, 'id': 0}, 'lastButNotLeastFriend': {'firstName': 'Bender', 'lastName': 'Bending Rodríguez', 'age': 4, 'id': 1}, 0: {'firstName': 'Bender1', 'lastName': 'Bending Rodríguez', 'age': 4, 'id': 1}, 1: {'firstName': 'Bender2', 'lastName': 'Bending Rodríguez', 'age': 4, 'id': 1}, 2: {'firstName': 'Bender3', 'lastName': 'Bending Rodríguez', 'age': 4, 'id': 1}}, 'friends': [{'firstName': 'Philip', 'lastName': 'Fry', 'age': 35, 'id': 0}, {'firstName': 'Bender', 'lastName': 'Bending Rodríguez', 'age': 4, 'id': 1}, {'firstName': 'Amy', 'lastName': 'Wong', 'age': 30, 'id': 2}]}\n"
     ]
    }
   ],
   "source": [
    "amir_file = open(\"amirP.txt\", \"r\")\n",
    "amirP = amir_file.read()\n",
    "amir_file.close()\n",
    "print(amirP)"
   ]
  },
  {
   "cell_type": "markdown",
   "id": "c4244978-6ec7-4483-a2b2-f15c18433dbf",
   "metadata": {},
   "source": [
    "# Session 13"
   ]
  },
  {
   "cell_type": "markdown",
   "id": "574ac31c-8205-41af-815c-d26849b2c0fe",
   "metadata": {},
   "source": [
    "# Functions\n"
   ]
  },
  {
   "cell_type": "code",
   "execution_count": 111,
   "id": "a840909a-5273-4ce5-b97f-bdc2e0de5223",
   "metadata": {},
   "outputs": [
    {
     "name": "stdout",
     "output_type": "stream",
     "text": [
      "3\n"
     ]
    }
   ],
   "source": [
    "print (len(\"ali\"))"
   ]
  },
  {
   "cell_type": "code",
   "execution_count": 112,
   "id": "cbafcdd2-be7c-4a70-abb5-c83e67077255",
   "metadata": {},
   "outputs": [],
   "source": [
    "def function_name(my_input):\n",
    "    print(my_input)\n",
    "\n",
    "\n",
    "    return my_input * 3\n"
   ]
  },
  {
   "cell_type": "code",
   "execution_count": 113,
   "id": "4edd9498-d6a1-45cc-bbd4-df18bdebc966",
   "metadata": {},
   "outputs": [
    {
     "name": "stdout",
     "output_type": "stream",
     "text": [
      "amir\n"
     ]
    },
    {
     "data": {
      "text/plain": [
       "'amiramiramir'"
      ]
     },
     "execution_count": 113,
     "metadata": {},
     "output_type": "execute_result"
    }
   ],
   "source": [
    "my_function_value = function_name(\"amir\")\n",
    "my_function_value"
   ]
  },
  {
   "cell_type": "code",
   "execution_count": 193,
   "id": "3656025f-36b0-47fe-bf87-46d259204a1e",
   "metadata": {},
   "outputs": [
    {
     "name": "stdout",
     "output_type": "stream",
     "text": [
      "my_input = 9\n",
      "0 1 1 2 3 5 8 "
     ]
    }
   ],
   "source": [
    "def FIB_function(my_input):\n",
    "    print(\"my_input\", \"=\", my_input )\n",
    "    a = 0\n",
    "    b = 1\n",
    "    f = 0\n",
    "\n",
    "    while (f<my_input):\n",
    "        print(f, end = \" \")\n",
    "        a = b\n",
    "        b = f\n",
    "        f = a + b\n",
    "FIB_function_value = FIB_function(9)\n",
    "FIB_function_value"
   ]
  },
  {
   "cell_type": "code",
   "execution_count": 118,
   "id": "b3f980df-54e6-46c2-847f-061111deda4a",
   "metadata": {},
   "outputs": [
    {
     "name": "stdout",
     "output_type": "stream",
     "text": [
      "aliali\n"
     ]
    }
   ],
   "source": [
    "my_name = \"ali\"\n",
    "n = 3\n",
    "mult = 1\n",
    "for i in range(n):\n",
    "    mult = mult*2\n",
    "a = mult\n",
    "print(my_name * 2)"
   ]
  },
  {
   "cell_type": "code",
   "execution_count": 119,
   "id": "e2721d8c-c14b-47b3-98f8-f00959d0864b",
   "metadata": {},
   "outputs": [],
   "source": [
    "def power2(n, v):\n",
    "    mult = 1\n",
    "    for i in range(n):\n",
    "        mult = mult*2\n",
    "    return mult * v"
   ]
  },
  {
   "cell_type": "code",
   "execution_count": 120,
   "id": "5860dae9-eccc-4e91-9281-f33d9601d24d",
   "metadata": {},
   "outputs": [
    {
     "data": {
      "text/plain": [
       "'alialialialialialialialialialialialialialialialialialialialialialialialialialialialialialialiali'"
      ]
     },
     "execution_count": 120,
     "metadata": {},
     "output_type": "execute_result"
    }
   ],
   "source": [
    "power2_function_value = power2(5, \"ali\")\n",
    "power2_function_value"
   ]
  },
  {
   "cell_type": "markdown",
   "id": "46cbe6c9-bee4-4f5f-85e7-1d65971cfb43",
   "metadata": {},
   "source": [
    "## Q write a function that takes inputs n and p, p is coefficient and n is the number we want to see if it is hop"
   ]
  },
  {
   "cell_type": "code",
   "execution_count": 208,
   "id": "0e159e6d-558a-4876-aedf-bc7f76c16e16",
   "metadata": {},
   "outputs": [
    {
     "name": "stdout",
     "output_type": "stream",
     "text": [
      "7\n",
      "28\n"
     ]
    }
   ],
   "source": [
    "def hop_p(p,n):\n",
    "    if n % p == 0:\n",
    "        return('Hop')\n",
    "    else:\n",
    "        return(n)\n",
    "print(hop_p(3,7))\n",
    "print(hop_p(5,28))"
   ]
  },
  {
   "cell_type": "markdown",
   "id": "49b90670-9623-4f4b-809b-95845c0762ac",
   "metadata": {},
   "source": [
    "# Session 14"
   ]
  },
  {
   "cell_type": "markdown",
   "id": "724809ea-7424-4ec8-a0a1-beb84510c53b",
   "metadata": {},
   "source": [
    "# 1.8. User_Defined Classes"
   ]
  },
  {
   "cell_type": "code",
   "execution_count": 121,
   "id": "53a3676e-208b-4194-b8ed-436a9f5cbf2b",
   "metadata": {},
   "outputs": [
    {
     "name": "stdout",
     "output_type": "stream",
     "text": [
      "{'name': {'first_name': 'amirdi_ali', 'last_name': 'mohammadi'}, 'AGE': 23, 'cities': ['tehran', 'rasht', 'kish'], 'friends': [{'first_name': 'philip', 'last_name': 'fry', 'age': 35, 'id': 0}, {'first_name': 'gol', 'last_name': 'mamad', 'age': 20, 'id': 23}]}\n"
     ]
    }
   ],
   "source": [
    "print(my_profile1)"
   ]
  },
  {
   "cell_type": "code",
   "execution_count": 122,
   "id": "3d1f628d-d4bb-43ad-b9e8-52c88b5408b2",
   "metadata": {},
   "outputs": [],
   "source": [
    "my_profile4 = {'name': {'firstName': 'amir_ali', 'lastName': 'mohammadi'}, 'age': 22, 'id' : 10, 'cities': ['Tehran', 'kish', 'kabul'],\n",
    "               'farhadFriends': {'bestFriend': {'firstName': 'ikkin', 'lastName': 'golabi', 'age': 2, 'id': 0}, 'lastButNotLeastFriend': {'firstName': 'hossein', 'lastName': 'hezarpa', 'age': 40, 'id': 1}, 0: {'firstName': 'pedram', 'lastName': 'shahraki', 'age': 13, 'id': 1},\n",
    "                                 1: {'firstName': 'Bender2', 'lastName': 'Bending Rodríguez', 'age': 4, 'id': 1}, 2: {'firstName': 'shahrooz', 'lastName': 'shabpareh', 'age': 60, 'id': 1}}, 'friends': [{'firstName': 'kamran', 'lastName': 'Fry', 'age': 80, 'id': 0}, {'firstName': 'aligoodarz', 'lastName': 'baboli', 'age': 4, 'id': 1},\n",
    "                                                                                                                                                                                                                {'firstName': 'parham', 'lastName': 'Wong', 'age': 30, 'id': 2}]}"
   ]
  },
  {
   "cell_type": "code",
   "execution_count": 123,
   "id": "941ad673-0ac6-44e9-814e-c795344d167e",
   "metadata": {},
   "outputs": [
    {
     "name": "stdout",
     "output_type": "stream",
     "text": [
      "{'name': {'firstName': 'amir_ali', 'lastName': 'mohammadi'}, 'age': 22, 'id': 10, 'cities': ['Tehran', 'kish', 'kabul'], 'farhadFriends': {'bestFriend': {'firstName': 'ikkin', 'lastName': 'golabi', 'age': 2, 'id': 0}, 'lastButNotLeastFriend': {'firstName': 'hossein', 'lastName': 'hezarpa', 'age': 40, 'id': 1}, 0: {'firstName': 'pedram', 'lastName': 'shahraki', 'age': 13, 'id': 1}, 1: {'firstName': 'Bender2', 'lastName': 'Bending Rodríguez', 'age': 4, 'id': 1}, 2: {'firstName': 'shahrooz', 'lastName': 'shabpareh', 'age': 60, 'id': 1}}, 'friends': [{'firstName': 'kamran', 'lastName': 'Fry', 'age': 80, 'id': 0}, {'firstName': 'aligoodarz', 'lastName': 'baboli', 'age': 4, 'id': 1}, {'firstName': 'parham', 'lastName': 'Wong', 'age': 30, 'id': 2}]}\n"
     ]
    }
   ],
   "source": [
    "print(my_profile4)"
   ]
  },
  {
   "cell_type": "code",
   "execution_count": 209,
   "id": "8e5c7c06-70fa-4829-88d7-fd538249c9e4",
   "metadata": {},
   "outputs": [],
   "source": [
    "temp_file = open(str(my_profile4['id'])+'.txt', 'w')\n",
    "temp_file.write(str(my_profile4))\n",
    "temp_file.close()"
   ]
  },
  {
   "cell_type": "markdown",
   "id": "42cea1bd-263f-4c1a-a7c4-f9a4303683cb",
   "metadata": {},
   "source": [
    "# Session 15"
   ]
  },
  {
   "cell_type": "markdown",
   "id": "04f99e4f-e24a-4546-8f15-992d5b844a4b",
   "metadata": {},
   "source": [
    "## Opening file txt from folder"
   ]
  },
  {
   "cell_type": "code",
   "execution_count": 210,
   "id": "3ad33a85-c0a4-4ead-b102-bd9c357572f2",
   "metadata": {},
   "outputs": [
    {
     "name": "stdout",
     "output_type": "stream",
     "text": [
      "['1.txt', '10.txt', '11.txt', '12.txt', '13.txt', '14.txt', '16.txt', '17.txt', '18.txt', '19.txt', '2.txt', '4.txt', '5.txt', '6.txt', '7.txt', '8.txt', '9.txt']\n"
     ]
    }
   ],
   "source": [
    "import os\n",
    "arr = os.listdir( 'C:\\\\Users\\\\owl\\\\Advanced programming\\\\classmates' )\n",
    "print(arr)"
   ]
  },
  {
   "cell_type": "code",
   "execution_count": 211,
   "id": "e222b999-100e-4d92-92fe-99e953ce3366",
   "metadata": {},
   "outputs": [
    {
     "name": "stdout",
     "output_type": "stream",
     "text": [
      "['1.txt', '10.txt', '11.txt', '12.txt', '13.txt', '14.txt', '16.txt', '17.txt', '18.txt', '19.txt', '2.txt', '4.txt', '5.txt', '6.txt', '7.txt', '8.txt', '9.txt']\n"
     ]
    }
   ],
   "source": [
    "import os\n",
    "ROOT_DIR = os.path.abspath(os.curdir)\n",
    "list_of_files = os.listdir(ROOT_DIR+'/classmates')\n",
    "print(list_of_files)"
   ]
  },
  {
   "cell_type": "code",
   "execution_count": 212,
   "id": "0da68443-9ce6-47d4-a41c-6ca19dc4c59c",
   "metadata": {},
   "outputs": [
    {
     "name": "stdout",
     "output_type": "stream",
     "text": [
      "[\"{'name': {'first_name': 'Shayan', 'last_name': 'Shahvari'}, 'age': 20, 'cities': ['Tehran', 'Moscow', 'Kish'], 'friends': [{'first_name': 'Parsa', 'last_name': 'khaki', 'age': 30, 'id': 0}, {'first_name': 'Kiavash', 'last_name': 'abbasnejad', 'age': 37, 'id': 1}, {'first_name': 'Kourosh', 'last_name': 'ikani', 'age': 20}], 'id': 1}\", \"{'name': {'firstName': 'amir_ali', 'lastName': 'mohammadi'}, 'age': 22, 'id': 10, 'cities': ['Tehran', 'kish', 'kabul'], 'friends': [{'firstName': 'kamran', 'lastName': 'Fry', 'age': 80, 'id': 0}, {'firstName': 'aligoodarz', 'lastName': 'baboli', 'age': 4, 'id': 1}, {'firstName': 'parham', 'lastName': 'Wong', 'age': 30, 'id': 2}]}\", \"{'name': {'first_name': 'Parsa', 'last_name': 'Mollaei'}, 'age': 22, 'my_id': 11, 'cities': ['tehran', 'esfehan', 'kerman'], 'friends': [{'first_name': 'ali', 'last_name': 'Barkhodari', 'age': 22, 'id': '2'}, {'first_name': 'AmirHossein', 'last_name': 'yousefzade', 'age': 22, 'id': 2}, {'first_name': 'Parnian', 'last_name': 'Mollaei', 'age': 13, 'id': 3}]}\", \"{'id': 12, 'name': 'Sina', 'age': 21, 'email': 'sina.sherkat@example.com', 'location': 'Kish'}\", \"{'name': {'firstName': 'Fazel', 'lastName': 'Basiri'}, 'age': 25, 'cities': ['Bam', 'Shiraz', 'Kish'], 'friends': [{'firstName': 'Saeed', 'lastName': 'Ashrafian', 'age': 25}, {'firstName': 'Mahsa', 'lastName': 'Kzn', 'age':22}, {'firstName': 'Alireza', 'lastName': 'PourMoghadam', 'age':26}], 'id': 13}\", \"{'name': {'first name': 'Mahsa', 'last name': 'kzn'}, 'age': 22, 'cities': ['Tehran', 'Shiraz', 'Rasht', 'Mashhad'], 'friends': [{'firstname': 'Fazel', 'Lastname': 'basiri', 'age': 25, 'id': 13}, {'firstname': 'Niayesh', 'lastname': 'Mohammadi', 'age': 22, 'id': 0}], 'id': 14}\", \"{'name': {'firstname': 'Hesam', 'lastName': 'Fatemizadeh'}, 'age': 21, 'cities': ['TEHRAN', 'KISH', 'ABADAN'], 'friends': [{'firstname': 'mariam', 'lastname': 'shojaodin', 'age': 21, 'id': '100'}, {'firstname': 'abbas', 'lastname': 'ranjbar', 'age': 25, 'id': '101'}, {'firstname': 'ali', 'lastname': 'niazi', 'age': 23, 'id': 102}], 'id': 16}\", \"{'name': {'first name': 'Mariam', 'last name': 'Shojaedin'}, 'age': 21, 'cities': ['Kaluga', 'Moscow', 'Sochi'], 'friends': [{'firstName': 'Mahsa', 'lastName': 'Rastaghi', 'age': 22, 'ID': '0'}, {'firstName': 'Hesam', 'lastName': 'Fatemizade', 'age': 21, 'ID': '1'}, {'firstName': 'Nika', 'lastName': 'Sadidi', 'age': 22, 'ID': '2'}, {'firstName': 'Ali', 'lastName': 'Niazi', 'age': 23, 'ID': '3'}], 'ID': 17}\", \"{'Name': {'First name': 'Mahsa', 'Last name': 'Rastaghi'}, 'Age': 22, 'Cities': ['Kish', 'Shiraz', 'Tehran'], 'Friends': [{'first name': ' Mariam', 'Last name': 'Shojaedin', 'Age': 21, 'Id': 0}, {'first name': ' Nika', 'Last name': 'Sadidi', 'Age': 22, 'Id': 1}, {'first name': ' Hesam', 'Last name': 'Fatemi zadeh', 'Age': 21, 'Id': 2}, {'first name': 'Fatemeh', 'Last name': 'Sayyadi', 'Age': 22, 'Id': '3'}], 'Id': 18}\", \"{'name': 'Mobina Mohammadiuon', 'age': 21, 'id': 19, 'cities': ['Tehran', 'Boston', 'Shahrkord'], 'friends': [{'firstName': 'Elaheh', 'lastName': 'HosseinAbadi', 'age': 21, 'id': 0}, {'firstName': 'Nika', 'lastName': 'Sadidi', 'age': 22, 'id': 1}, {'firstName': 'Azin', 'lastName': 'Esfandiari', 'age': 25, 'id': 2}]}\", \"{'name': {'firstName': 'parsa', 'lastName': 'khaki'}, 'age': 19, 'cities': ['tehran', 'boston', 'mehran'], 'friends': [{'firstName': 'shayan', 'lastname': 'shahvari', 'age': 35, 'id': 0}, {'firstName': 'kiavash', 'lastName': 'abasnejad', 'age': 21, 'id': 1}, {'firstName': 'behrad', 'lastName': 'biniaz', 'age': 30, 'id': 2}], 'id': 2}\", \"{'name': {'firstName': 'Zahra', 'lastName': 'Akhlaghipoor'}, 'age': 22, 'cities': ['Kish'], 'friends': [{'firstName': 'Tima', 'LastName': 'Kalhori', 'age': 19, 'id': 0}, {'firstName': 'Nikki', 'LastName': 'Khayyat', 'age': 21, 'id': 1}], 'id': 4}\", \"{'firstName': 'Tima', 'lastName': 'Kalhori', 'age': 19, 'cities': ['Tehran', 'Boston', 'Shahrekord'], 'friends': [{'firstName': 'philip', 'lastName': 'fry', 'age': 35, 'id': 0}, {'firstName': 'zahra', 'lastName': 'akhlaghipoor', 'age': 22, 'id': 12}, {'firstName': 'leili', 'lastname': 'shabani', 'age': 27, 'id': 32}], 'id': 5}\", \"{'name': {'firstname': 'Nikki', 'lastname': 'Khayyat'}, 'age': 23, 'cities': ['Tehran', 'Boston', 'Shahrekord'], 'friends': [{'firstname': 'Charles', 'lastname': 'Lec', 'age': 27, 'ID': 0}, {'firstname': 'Franco', 'lastname': 'Colapinto', 'age': 21, 'ID': 0}, {'firstname': 'Lewis', 'lastname': 'Hamilton', 'age': 40, 'ID': 0}], 'Id': 6}\", \"{'name': {'firstname': 'Saba', 'surname': 'Sarlak'}, 'age': 20, 'cities': ['kl', 'iis', 'maha'], 'lastCity': ['kl'], 'friends': [{'firstname': 'elnaz', 'lastname': 'ahmad', 'age': 22, 'id': 0}, {'firstname': 'asal', 'lastname': 'sabaghzade', 'age': 26, 'id': 2}, {'firstname': 'setia', 'lastname': 'dehghan', 'id': 'bestfriend', 'age': 25}], 'id': 7}\", \"{'name': {'first name': 'Mohammad', 'last name': 'Mohammad Khaninezhad'}, 'age': 20, 'cities': ['Tehran', 'Boston', 'Shahrekord'], 'friends': [{'first name': 'Shahrad', 'last name': 'Shahraki', 'age': 21, 'id': 0}, {'first name': 'Hossein', 'last name': 'Dehghan', 'age': 22, 'id': 1}, {'first name': 'Erfan', 'last name': 'Kasef', 'age': 23, 'id': 2}], 'id': 8}\", \"{'name': {'first name': 'shahrad', 'last name': 'shahraki'}, 'age': 22, 'cities': ['birjand', 'khoosf', 'tabas'], 'friends': [{'first name': 'alireza', 'last name': 'balali', 'age': 7, 'id': 2}, {'first name': 'shahrokh', 'last name': 'shahmohammadi', 'age': 40, 'id': 7}, {'first name': 'saba', 'last name': 'samaani', 'age': 34, 'id': 5}], 'id': 9}\"]\n"
     ]
    }
   ],
   "source": [
    "import os\n",
    "ROOT_DIR = os.path.abspath(os.curdir)\n",
    "list_of_files = os.listdir(ROOT_DIR+'/classmates')\n",
    "list_of_profiles = []\n",
    "for i in list_of_files:\n",
    "    f = open('classmates/'+i)\n",
    "    temp_profile = f.read()\n",
    "    list_of_profiles.append(temp_profile)\n",
    "    f.close\n",
    "print(list_of_profiles)"
   ]
  },
  {
   "cell_type": "code",
   "execution_count": 213,
   "id": "ee4f1f2b-d336-4aa7-9b3d-c709d85f65ca",
   "metadata": {},
   "outputs": [
    {
     "ename": "NameError",
     "evalue": "name 'ar' is not defined",
     "output_type": "error",
     "traceback": [
      "\u001b[1;31m---------------------------------------------------------------------------\u001b[0m",
      "\u001b[1;31mNameError\u001b[0m                                 Traceback (most recent call last)",
      "Cell \u001b[1;32mIn[213], line 2\u001b[0m\n\u001b[0;32m      1\u001b[0m Total_List \u001b[38;5;241m=\u001b[39m []\n\u001b[1;32m----> 2\u001b[0m \u001b[38;5;28;01mfor\u001b[39;00m i \u001b[38;5;129;01min\u001b[39;00m (ar):\n\u001b[0;32m      3\u001b[0m     files \u001b[38;5;241m=\u001b[39m \u001b[38;5;28mopen\u001b[39m(\u001b[38;5;124m\"\u001b[39m\u001b[38;5;124mclassmates\u001b[39m\u001b[38;5;124m\"\u001b[39m\u001b[38;5;241m+\u001b[39mi)\n\u001b[0;32m      4\u001b[0m     files\u001b[38;5;241m.\u001b[39mappend(files)\n",
      "\u001b[1;31mNameError\u001b[0m: name 'ar' is not defined"
     ]
    }
   ],
   "source": [
    "Total_List = []\n",
    "for i in (ar):\n",
    "    files = open(\"classmates\"+i)\n",
    "    files.append(files)\n",
    "    print(files)"
   ]
  },
  {
   "cell_type": "markdown",
   "id": "e7716d29-5a16-4648-8c23-e78d155a3e93",
   "metadata": {},
   "source": [
    "## Task : average age of classmates \n",
    "#json algorithm\n",
    "    #import json"
   ]
  },
  {
   "cell_type": "code",
   "execution_count": null,
   "id": "c05114e3-775c-4fc5-b8d7-98fec13c32e5",
   "metadata": {},
   "outputs": [],
   "source": [
    "import os\n",
    "import json\n",
    "ROOT_DIR = os.path.abspath(os.curdir)\n",
    "list_of_files = os.listdir(os.path.join(ROOT_DIR , 'classmates'))\n",
    "list_of_profiles = []\n",
    "for i in list_of_files :\n",
    "    f = open('classmates/'+i)\n",
    "    temp_profile + f.read()\n",
    "    converted_profile + json.loads(temp_profile.replace(\"'\",\"\\\"\"))\n",
    "\n",
    "    list_of_profiles.append(converted_profile)\n",
    "    f.close()\n",
    "print(list_of_profiles)"
   ]
  },
  {
   "cell_type": "code",
   "execution_count": 214,
   "id": "be1e1c3c-e8ce-40e6-be57-0e46181114b0",
   "metadata": {},
   "outputs": [
    {
     "name": "stdout",
     "output_type": "stream",
     "text": [
      "[{'name': {'first_name': 'Shayan', 'last_name': 'Shahvari'}, 'age': 20, 'cities': ['Tehran', 'Moscow', 'Kish'], 'friends': [{'first_name': 'Parsa', 'last_name': 'khaki', 'age': 30, 'id': 0}, {'first_name': 'Kiavash', 'last_name': 'abbasnejad', 'age': 37, 'id': 1}, {'first_name': 'Kourosh', 'last_name': 'ikani', 'age': 20}], 'id': 1}, {'name': {'firstName': 'amir_ali', 'lastName': 'mohammadi'}, 'age': 22, 'id': 10, 'cities': ['Tehran', 'kish', 'kabul'], 'friends': [{'firstName': 'kamran', 'lastName': 'Fry', 'age': 80, 'id': 0}, {'firstName': 'aligoodarz', 'lastName': 'baboli', 'age': 4, 'id': 1}, {'firstName': 'parham', 'lastName': 'Wong', 'age': 30, 'id': 2}]}, {'name': {'first_name': 'Parsa', 'last_name': 'Mollaei'}, 'age': 22, 'my_id': 11, 'cities': ['tehran', 'esfehan', 'kerman'], 'friends': [{'first_name': 'ali', 'last_name': 'Barkhodari', 'age': 22, 'id': '2'}, {'first_name': 'AmirHossein', 'last_name': 'yousefzade', 'age': 22, 'id': 2}, {'first_name': 'Parnian', 'last_name': 'Mollaei', 'age': 13, 'id': 3}]}, {'id': 12, 'name': 'Sina', 'age': 21, 'email': 'sina.sherkat@example.com', 'location': 'Kish'}, {'name': {'firstName': 'Fazel', 'lastName': 'Basiri'}, 'age': 25, 'cities': ['Bam', 'Shiraz', 'Kish'], 'friends': [{'firstName': 'Saeed', 'lastName': 'Ashrafian', 'age': 25}, {'firstName': 'Mahsa', 'lastName': 'Kzn', 'age': 22}, {'firstName': 'Alireza', 'lastName': 'PourMoghadam', 'age': 26}], 'id': 13}, {'name': {'first name': 'Mahsa', 'last name': 'kzn'}, 'age': 22, 'cities': ['Tehran', 'Shiraz', 'Rasht', 'Mashhad'], 'friends': [{'firstname': 'Fazel', 'Lastname': 'basiri', 'age': 25, 'id': 13}, {'firstname': 'Niayesh', 'lastname': 'Mohammadi', 'age': 22, 'id': 0}], 'id': 14}, {'name': {'firstname': 'Hesam', 'lastName': 'Fatemizadeh'}, 'age': 21, 'cities': ['TEHRAN', 'KISH', 'ABADAN'], 'friends': [{'firstname': 'mariam', 'lastname': 'shojaodin', 'age': 21, 'id': '100'}, {'firstname': 'abbas', 'lastname': 'ranjbar', 'age': 25, 'id': '101'}, {'firstname': 'ali', 'lastname': 'niazi', 'age': 23, 'id': 102}], 'id': 16}, {'name': {'first name': 'Mariam', 'last name': 'Shojaedin'}, 'age': 21, 'cities': ['Kaluga', 'Moscow', 'Sochi'], 'friends': [{'firstName': 'Mahsa', 'lastName': 'Rastaghi', 'age': 22, 'ID': '0'}, {'firstName': 'Hesam', 'lastName': 'Fatemizade', 'age': 21, 'ID': '1'}, {'firstName': 'Nika', 'lastName': 'Sadidi', 'age': 22, 'ID': '2'}, {'firstName': 'Ali', 'lastName': 'Niazi', 'age': 23, 'ID': '3'}], 'ID': 17}, {'Name': {'First name': 'Mahsa', 'Last name': 'Rastaghi'}, 'Age': 22, 'Cities': ['Kish', 'Shiraz', 'Tehran'], 'Friends': [{'first name': ' Mariam', 'Last name': 'Shojaedin', 'Age': 21, 'Id': 0}, {'first name': ' Nika', 'Last name': 'Sadidi', 'Age': 22, 'Id': 1}, {'first name': ' Hesam', 'Last name': 'Fatemi zadeh', 'Age': 21, 'Id': 2}, {'first name': 'Fatemeh', 'Last name': 'Sayyadi', 'Age': 22, 'Id': '3'}], 'Id': 18}, {'name': 'Mobina Mohammadiuon', 'age': 21, 'id': 19, 'cities': ['Tehran', 'Boston', 'Shahrkord'], 'friends': [{'firstName': 'Elaheh', 'lastName': 'HosseinAbadi', 'age': 21, 'id': 0}, {'firstName': 'Nika', 'lastName': 'Sadidi', 'age': 22, 'id': 1}, {'firstName': 'Azin', 'lastName': 'Esfandiari', 'age': 25, 'id': 2}]}, {'name': {'firstName': 'parsa', 'lastName': 'khaki'}, 'age': 19, 'cities': ['tehran', 'boston', 'mehran'], 'friends': [{'firstName': 'shayan', 'lastname': 'shahvari', 'age': 35, 'id': 0}, {'firstName': 'kiavash', 'lastName': 'abasnejad', 'age': 21, 'id': 1}, {'firstName': 'behrad', 'lastName': 'biniaz', 'age': 30, 'id': 2}], 'id': 2}, {'name': {'firstName': 'Zahra', 'lastName': 'Akhlaghipoor'}, 'age': 22, 'cities': ['Kish'], 'friends': [{'firstName': 'Tima', 'LastName': 'Kalhori', 'age': 19, 'id': 0}, {'firstName': 'Nikki', 'LastName': 'Khayyat', 'age': 21, 'id': 1}], 'id': 4}, {'firstName': 'Tima', 'lastName': 'Kalhori', 'age': 19, 'cities': ['Tehran', 'Boston', 'Shahrekord'], 'friends': [{'firstName': 'philip', 'lastName': 'fry', 'age': 35, 'id': 0}, {'firstName': 'zahra', 'lastName': 'akhlaghipoor', 'age': 22, 'id': 12}, {'firstName': 'leili', 'lastname': 'shabani', 'age': 27, 'id': 32}], 'id': 5}, {'name': {'firstname': 'Nikki', 'lastname': 'Khayyat'}, 'age': 23, 'cities': ['Tehran', 'Boston', 'Shahrekord'], 'friends': [{'firstname': 'Charles', 'lastname': 'Lec', 'age': 27, 'ID': 0}, {'firstname': 'Franco', 'lastname': 'Colapinto', 'age': 21, 'ID': 0}, {'firstname': 'Lewis', 'lastname': 'Hamilton', 'age': 40, 'ID': 0}], 'Id': 6}, {'name': {'firstname': 'Saba', 'surname': 'Sarlak'}, 'age': 20, 'cities': ['kl', 'iis', 'maha'], 'lastCity': ['kl'], 'friends': [{'firstname': 'elnaz', 'lastname': 'ahmad', 'age': 22, 'id': 0}, {'firstname': 'asal', 'lastname': 'sabaghzade', 'age': 26, 'id': 2}, {'firstname': 'setia', 'lastname': 'dehghan', 'id': 'bestfriend', 'age': 25}], 'id': 7}, {'name': {'first name': 'Mohammad', 'last name': 'Mohammad Khaninezhad'}, 'age': 20, 'cities': ['Tehran', 'Boston', 'Shahrekord'], 'friends': [{'first name': 'Shahrad', 'last name': 'Shahraki', 'age': 21, 'id': 0}, {'first name': 'Hossein', 'last name': 'Dehghan', 'age': 22, 'id': 1}, {'first name': 'Erfan', 'last name': 'Kasef', 'age': 23, 'id': 2}], 'id': 8}, {'name': {'first name': 'shahrad', 'last name': 'shahraki'}, 'age': 22, 'cities': ['birjand', 'khoosf', 'tabas'], 'friends': [{'first name': 'alireza', 'last name': 'balali', 'age': 7, 'id': 2}, {'first name': 'shahrokh', 'last name': 'shahmohammadi', 'age': 40, 'id': 7}, {'first name': 'saba', 'last name': 'samaani', 'age': 34, 'id': 5}], 'id': 9}]\n"
     ]
    }
   ],
   "source": [
    "import os\n",
    "import json \n",
    "\n",
    "\n",
    "list_Of_Files = os.listdir('C:\\\\Users\\\\owl\\\\Advanced programming\\\\classmates')\n",
    "list_Of_Profiles = []\n",
    "\n",
    "for i in list_Of_Files:                       #calling i \n",
    "    f = open(\"classmates/\" + i)\n",
    "    temp_Profile = f.read()\n",
    "    \n",
    "    converted_Profile = json.loads(temp_Profile.replace(\"'\" , '\"'))\n",
    "    list_Of_Profiles.append(converted_Profile)\n",
    "    f.close()\n",
    "\n",
    "print(list_Of_Profiles)"
   ]
  },
  {
   "cell_type": "markdown",
   "id": "a8002bcf-31f2-4287-9c43-4ee83f1de7c9",
   "metadata": {},
   "source": [
    "# Session 17"
   ]
  },
  {
   "cell_type": "code",
   "execution_count": 215,
   "id": "33127260-6528-4769-aa13-d268c5871257",
   "metadata": {},
   "outputs": [
    {
     "name": "stdout",
     "output_type": "stream",
     "text": [
      "0th has error\n",
      "1th has error\n",
      "2th has error\n",
      "3th has error\n",
      "4th has error\n",
      "5th has error\n",
      "6th has error\n",
      "7th has error\n",
      "8th has error\n",
      "9th has error\n",
      "10th has error\n",
      "11th has error\n",
      "12th has error\n",
      "13th has error\n",
      "14th has error\n",
      "15th has error\n",
      "16th has error\n"
     ]
    }
   ],
   "source": [
    "for i in range(len(list_of_profiles)):\n",
    "    try:\n",
    "        print(list_of_profiles[i]['age'])\n",
    "    except:\n",
    "        print(str(i)+'th has error')"
   ]
  },
  {
   "cell_type": "code",
   "execution_count": 216,
   "id": "e4ee39c8-ec02-432d-abd2-050ad34d3b10",
   "metadata": {},
   "outputs": [
    {
     "name": "stdout",
     "output_type": "stream",
     "text": [
      "            tconst  averageRating  numVotes\n",
      "0        tt0000001            5.7      2103\n",
      "1        tt0000002            5.6       282\n",
      "2        tt0000003            6.5      2122\n",
      "3        tt0000004            5.4       182\n",
      "4        tt0000005            6.2      2852\n",
      "...            ...            ...       ...\n",
      "1503082  tt9916730            7.0        12\n",
      "1503083  tt9916766            7.1        24\n",
      "1503084  tt9916778            7.2        37\n",
      "1503085  tt9916840            6.9        11\n",
      "1503086  tt9916880            7.9         9\n",
      "\n",
      "[1503087 rows x 3 columns]\n"
     ]
    }
   ],
   "source": [
    "import pandas as pd\n",
    "\n",
    "# Replace 'your_file.tsv' with the path to your TSV file\n",
    "df = pd.read_csv('title.ratings.tsv', sep='\\t')\n",
    "\n",
    "# Display the first few rows of the dataframe\n",
    "print(df)\n"
   ]
  },
  {
   "cell_type": "code",
   "execution_count": 217,
   "id": "7173e955-2b7d-42e7-a0e4-0a49f2c0b2ed",
   "metadata": {},
   "outputs": [
    {
     "name": "stdout",
     "output_type": "stream",
     "text": [
      "             tconst  averageRating  numVotes\n",
      "957496    tt2301451           10.0    232528\n",
      "1123421  tt32560826           10.0      3668\n",
      "1124761  tt32622991           10.0      3654\n",
      "1123422  tt32560930           10.0      3598\n",
      "1125378  tt32649982           10.0      3502\n",
      "1124759  tt32622960           10.0      3461\n",
      "1125376  tt32649840           10.0      3403\n",
      "1130990  tt33009281           10.0      3044\n",
      "1131001  tt33010940           10.0      3021\n",
      "1131015  tt33013158           10.0      2982\n"
     ]
    }
   ],
   "source": [
    "import pandas as pd\n",
    "\n",
    "# Load the TSV file\n",
    "df = pd.read_csv('title.ratings.tsv', sep='\\t')\n",
    "\n",
    "# Sort the movies by ratings\n",
    "sorted_df = df.sort_values(by=['averageRating', 'numVotes'], ascending=[False, False])\n",
    "\n",
    "# Display the top rated movies\n",
    "print(sorted_df.head(10))"
   ]
  },
  {
   "cell_type": "code",
   "execution_count": 218,
   "id": "e288a7a7-843d-4a63-8c4e-ae5cc9cf7997",
   "metadata": {},
   "outputs": [
    {
     "ename": "KeyError",
     "evalue": "'averageRating'",
     "output_type": "error",
     "traceback": [
      "\u001b[1;31m---------------------------------------------------------------------------\u001b[0m",
      "\u001b[1;31mKeyError\u001b[0m                                  Traceback (most recent call last)",
      "\u001b[1;32m~\\AppData\\Local\\Temp\\ipykernel_10768\\86064134.py\u001b[0m in \u001b[0;36m?\u001b[1;34m()\u001b[0m\n\u001b[0;32m      3\u001b[0m \u001b[1;31m# Load the TSV file\u001b[0m\u001b[1;33m\u001b[0m\u001b[1;33m\u001b[0m\u001b[0m\n\u001b[0;32m      4\u001b[0m \u001b[0mdf\u001b[0m \u001b[1;33m=\u001b[0m \u001b[0mpd\u001b[0m\u001b[1;33m.\u001b[0m\u001b[0mread_csv\u001b[0m\u001b[1;33m(\u001b[0m\u001b[1;34m'imdb_top_1000.csv'\u001b[0m\u001b[1;33m,\u001b[0m \u001b[0msep\u001b[0m\u001b[1;33m=\u001b[0m\u001b[1;34m'\\t'\u001b[0m\u001b[1;33m)\u001b[0m\u001b[1;33m\u001b[0m\u001b[1;33m\u001b[0m\u001b[0m\n\u001b[0;32m      5\u001b[0m \u001b[1;33m\u001b[0m\u001b[0m\n\u001b[0;32m      6\u001b[0m \u001b[1;31m# Sort the movies by ratings\u001b[0m\u001b[1;33m\u001b[0m\u001b[1;33m\u001b[0m\u001b[0m\n\u001b[1;32m----> 7\u001b[1;33m \u001b[0msorted_df\u001b[0m \u001b[1;33m=\u001b[0m \u001b[0mdf\u001b[0m\u001b[1;33m.\u001b[0m\u001b[0msort_values\u001b[0m\u001b[1;33m(\u001b[0m\u001b[0mby\u001b[0m\u001b[1;33m=\u001b[0m\u001b[1;33m[\u001b[0m\u001b[1;34m'averageRating'\u001b[0m\u001b[1;33m,\u001b[0m \u001b[1;34m'numVotes'\u001b[0m\u001b[1;33m,\u001b[0m\u001b[1;33m]\u001b[0m\u001b[1;33m,\u001b[0m \u001b[0mascending\u001b[0m\u001b[1;33m=\u001b[0m\u001b[1;33m[\u001b[0m\u001b[1;32mFalse\u001b[0m\u001b[1;33m,\u001b[0m \u001b[1;32mFalse\u001b[0m\u001b[1;33m]\u001b[0m\u001b[1;33m)\u001b[0m\u001b[1;33m\u001b[0m\u001b[1;33m\u001b[0m\u001b[0m\n\u001b[0m\u001b[0;32m      8\u001b[0m \u001b[1;33m\u001b[0m\u001b[0m\n\u001b[0;32m      9\u001b[0m \u001b[0mg\u001b[0m \u001b[1;33m=\u001b[0m \u001b[0msorted_df\u001b[0m\u001b[1;33m.\u001b[0m\u001b[0mhead\u001b[0m\u001b[1;33m(\u001b[0m\u001b[1;36m10\u001b[0m\u001b[1;33m)\u001b[0m\u001b[1;33m\u001b[0m\u001b[1;33m\u001b[0m\u001b[0m\n\u001b[0;32m     10\u001b[0m \u001b[1;33m\u001b[0m\u001b[0m\n",
      "\u001b[1;32mC:\\ProgramData\\anaconda3\\Lib\\site-packages\\pandas\\core\\frame.py\u001b[0m in \u001b[0;36m?\u001b[1;34m(self, by, axis, ascending, inplace, kind, na_position, ignore_index, key)\u001b[0m\n\u001b[0;32m   6736\u001b[0m                 \u001b[1;34mf\"Length of ascending ({len(ascending)})\"\u001b[0m  \u001b[1;31m# type: ignore[arg-type]\u001b[0m\u001b[1;33m\u001b[0m\u001b[1;33m\u001b[0m\u001b[0m\n\u001b[0;32m   6737\u001b[0m                 \u001b[1;34mf\" != length of by ({len(by)})\"\u001b[0m\u001b[1;33m\u001b[0m\u001b[1;33m\u001b[0m\u001b[0m\n\u001b[0;32m   6738\u001b[0m             )\n\u001b[0;32m   6739\u001b[0m         \u001b[1;32mif\u001b[0m \u001b[0mlen\u001b[0m\u001b[1;33m(\u001b[0m\u001b[0mby\u001b[0m\u001b[1;33m)\u001b[0m \u001b[1;33m>\u001b[0m \u001b[1;36m1\u001b[0m\u001b[1;33m:\u001b[0m\u001b[1;33m\u001b[0m\u001b[1;33m\u001b[0m\u001b[0m\n\u001b[1;32m-> 6740\u001b[1;33m             \u001b[0mkeys\u001b[0m \u001b[1;33m=\u001b[0m \u001b[1;33m[\u001b[0m\u001b[0mself\u001b[0m\u001b[1;33m.\u001b[0m\u001b[0m_get_label_or_level_values\u001b[0m\u001b[1;33m(\u001b[0m\u001b[0mx\u001b[0m\u001b[1;33m,\u001b[0m \u001b[0maxis\u001b[0m\u001b[1;33m=\u001b[0m\u001b[0maxis\u001b[0m\u001b[1;33m)\u001b[0m \u001b[1;32mfor\u001b[0m \u001b[0mx\u001b[0m \u001b[1;32min\u001b[0m \u001b[0mby\u001b[0m\u001b[1;33m]\u001b[0m\u001b[1;33m\u001b[0m\u001b[1;33m\u001b[0m\u001b[0m\n\u001b[0m\u001b[0;32m   6741\u001b[0m \u001b[1;33m\u001b[0m\u001b[0m\n\u001b[0;32m   6742\u001b[0m             \u001b[1;31m# need to rewrap columns in Series to apply key function\u001b[0m\u001b[1;33m\u001b[0m\u001b[1;33m\u001b[0m\u001b[0m\n\u001b[0;32m   6743\u001b[0m             \u001b[1;32mif\u001b[0m \u001b[0mkey\u001b[0m \u001b[1;32mis\u001b[0m \u001b[1;32mnot\u001b[0m \u001b[1;32mNone\u001b[0m\u001b[1;33m:\u001b[0m\u001b[1;33m\u001b[0m\u001b[1;33m\u001b[0m\u001b[0m\n",
      "\u001b[1;32mC:\\ProgramData\\anaconda3\\Lib\\site-packages\\pandas\\core\\frame.py\u001b[0m in \u001b[0;36m?\u001b[1;34m(.0)\u001b[0m\n\u001b[1;32m-> 6740\u001b[1;33m     def sort_values(\n\u001b[0m\u001b[0;32m   6741\u001b[0m         \u001b[0mself\u001b[0m\u001b[1;33m,\u001b[0m\u001b[1;33m\u001b[0m\u001b[1;33m\u001b[0m\u001b[0m\n\u001b[0;32m   6742\u001b[0m         \u001b[0mby\u001b[0m\u001b[1;33m:\u001b[0m \u001b[0mIndexLabel\u001b[0m\u001b[1;33m,\u001b[0m\u001b[1;33m\u001b[0m\u001b[1;33m\u001b[0m\u001b[0m\n\u001b[0;32m   6743\u001b[0m         \u001b[1;33m*\u001b[0m\u001b[1;33m,\u001b[0m\u001b[1;33m\u001b[0m\u001b[1;33m\u001b[0m\u001b[0m\n",
      "\u001b[1;32mC:\\ProgramData\\anaconda3\\Lib\\site-packages\\pandas\\core\\generic.py\u001b[0m in \u001b[0;36m?\u001b[1;34m(self, key, axis)\u001b[0m\n\u001b[0;32m   1774\u001b[0m             \u001b[0mvalues\u001b[0m \u001b[1;33m=\u001b[0m \u001b[0mself\u001b[0m\u001b[1;33m.\u001b[0m\u001b[0mxs\u001b[0m\u001b[1;33m(\u001b[0m\u001b[0mkey\u001b[0m\u001b[1;33m,\u001b[0m \u001b[0maxis\u001b[0m\u001b[1;33m=\u001b[0m\u001b[0mother_axes\u001b[0m\u001b[1;33m[\u001b[0m\u001b[1;36m0\u001b[0m\u001b[1;33m]\u001b[0m\u001b[1;33m)\u001b[0m\u001b[1;33m.\u001b[0m\u001b[0m_values\u001b[0m\u001b[1;33m\u001b[0m\u001b[1;33m\u001b[0m\u001b[0m\n\u001b[0;32m   1775\u001b[0m         \u001b[1;32melif\u001b[0m \u001b[0mself\u001b[0m\u001b[1;33m.\u001b[0m\u001b[0m_is_level_reference\u001b[0m\u001b[1;33m(\u001b[0m\u001b[0mkey\u001b[0m\u001b[1;33m,\u001b[0m \u001b[0maxis\u001b[0m\u001b[1;33m=\u001b[0m\u001b[0maxis\u001b[0m\u001b[1;33m)\u001b[0m\u001b[1;33m:\u001b[0m\u001b[1;33m\u001b[0m\u001b[1;33m\u001b[0m\u001b[0m\n\u001b[0;32m   1776\u001b[0m             \u001b[0mvalues\u001b[0m \u001b[1;33m=\u001b[0m \u001b[0mself\u001b[0m\u001b[1;33m.\u001b[0m\u001b[0maxes\u001b[0m\u001b[1;33m[\u001b[0m\u001b[0maxis\u001b[0m\u001b[1;33m]\u001b[0m\u001b[1;33m.\u001b[0m\u001b[0mget_level_values\u001b[0m\u001b[1;33m(\u001b[0m\u001b[0mkey\u001b[0m\u001b[1;33m)\u001b[0m\u001b[1;33m.\u001b[0m\u001b[0m_values\u001b[0m\u001b[1;33m\u001b[0m\u001b[1;33m\u001b[0m\u001b[0m\n\u001b[0;32m   1777\u001b[0m         \u001b[1;32melse\u001b[0m\u001b[1;33m:\u001b[0m\u001b[1;33m\u001b[0m\u001b[1;33m\u001b[0m\u001b[0m\n\u001b[1;32m-> 1778\u001b[1;33m             \u001b[1;32mraise\u001b[0m \u001b[0mKeyError\u001b[0m\u001b[1;33m(\u001b[0m\u001b[0mkey\u001b[0m\u001b[1;33m)\u001b[0m\u001b[1;33m\u001b[0m\u001b[1;33m\u001b[0m\u001b[0m\n\u001b[0m\u001b[0;32m   1779\u001b[0m \u001b[1;33m\u001b[0m\u001b[0m\n\u001b[0;32m   1780\u001b[0m         \u001b[1;31m# Check for duplicates\u001b[0m\u001b[1;33m\u001b[0m\u001b[1;33m\u001b[0m\u001b[0m\n\u001b[0;32m   1781\u001b[0m         \u001b[1;32mif\u001b[0m \u001b[0mvalues\u001b[0m\u001b[1;33m.\u001b[0m\u001b[0mndim\u001b[0m \u001b[1;33m>\u001b[0m \u001b[1;36m1\u001b[0m\u001b[1;33m:\u001b[0m\u001b[1;33m\u001b[0m\u001b[1;33m\u001b[0m\u001b[0m\n",
      "\u001b[1;31mKeyError\u001b[0m: 'averageRating'"
     ]
    }
   ],
   "source": [
    "import pandas as pd\n",
    "\n",
    "# Load the TSV file\n",
    "df = pd.read_csv('imdb_top_1000.csv', sep='\\t')\n",
    "\n",
    "# Sort the movies by ratings\n",
    "sorted_df = df.sort_values(by=['averageRating', 'numVotes',], ascending=[False, False])\n",
    "\n",
    "g = sorted_df.head(10)\n",
    "\n",
    "# Display the top rated movies\n",
    "print(g)\n"
   ]
  },
  {
   "cell_type": "code",
   "execution_count": null,
   "id": "99b3c137-6965-4cc0-b597-d9533ad86559",
   "metadata": {},
   "outputs": [],
   "source": []
  },
  {
   "cell_type": "code",
   "execution_count": null,
   "id": "4812bd21-de34-4dc4-a0e9-4af8089f0ebc",
   "metadata": {},
   "outputs": [],
   "source": []
  }
 ],
 "metadata": {
  "kernelspec": {
   "display_name": "Python 3 (ipykernel)",
   "language": "python",
   "name": "python3"
  },
  "language_info": {
   "codemirror_mode": {
    "name": "ipython",
    "version": 3
   },
   "file_extension": ".py",
   "mimetype": "text/x-python",
   "name": "python",
   "nbconvert_exporter": "python",
   "pygments_lexer": "ipython3",
   "version": "3.11.5"
  }
 },
 "nbformat": 4,
 "nbformat_minor": 5
}
